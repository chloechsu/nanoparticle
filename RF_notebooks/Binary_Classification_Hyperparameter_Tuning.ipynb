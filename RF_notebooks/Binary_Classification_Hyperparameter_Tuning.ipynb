{
 "cells": [
  {
   "cell_type": "code",
   "execution_count": null,
   "metadata": {},
   "outputs": [],
   "source": [
    "import joblib\n",
    "import itertools\n",
    "import matplotlib.pyplot as plt\n",
    "import pandas as pd\n",
    "from sklearn import tree\n",
    "from sklearn.ensemble import RandomForestClassifier\n",
    "import numpy as np\n",
    "from sklearn.metrics import confusion_matrix\n",
    "import seaborn as sns\n",
    "from sklearn.multioutput import MultiOutputClassifier\n",
    "from sklearn.ensemble import RandomForestRegressor\n",
    "from sklearn.multioutput import MultiOutputRegressor\n",
    "from RF_Model_Functions import *\n",
    "from IPython.display import Image  \n",
    "from sklearn.externals.six import StringIO  \n",
    "import pydotplus\n",
    "from scipy.signal import savgol_filter\n",
    "from sklearn.datasets import load_iris\n",
    "from sklearn.ensemble import RandomForestClassifier, StackingClassifier\n",
    "from sklearn.linear_model import LogisticRegression\n",
    "from sklearn.model_selection import train_test_split\n",
    "from sklearn.neighbors import KNeighborsClassifier\n",
    "from sklearn.svm import SVC\n",
    "from sklearn.linear_model import LinearRegression\n",
    "from sklearn.multioutput import MultiOutputRegressor"
   ]
  },
  {
   "cell_type": "code",
   "execution_count": null,
   "metadata": {},
   "outputs": [],
   "source": [
    "shape_classificaion_shapes = ['Geometry_sphere', 'Geometry_wire', 'Geometry_TriangPrismIsosc', 'Geometry_parallelepiped']\n",
    "Binary_Classification = shape_classification_binary(spectra_train, labels_train, spectra_test, labels_test, shape_classificaion_shapes, 50, m_features = 20)\n",
    "print(Binary_Classification[0][2])\n",
    "print(Binary_Classification[1][2])\n",
    "print(Binary_Classification[2][2])\n",
    "print(Binary_Classification[3][2])"
   ]
  },
  {
   "cell_type": "code",
   "execution_count": null,
   "metadata": {},
   "outputs": [],
   "source": [
    "Binary_Classification_less_features = shape_classification_binary(spectra_train, labels_train, spectra_test, labels_test, shape_classificaion_shapes, 50, m_features = 2)\n",
    "print(Binary_Classification_less_features[0][2])\n",
    "print(Binary_Classification_less_features[1][2])\n",
    "print(Binary_Classification_less_features[2][2])\n",
    "print(Binary_Classification_less_features[3][2])"
   ]
  },
  {
   "cell_type": "code",
   "execution_count": null,
   "metadata": {},
   "outputs": [],
   "source": [
    "Binary_Classification_more_features = shape_classification_binary(spectra_train, labels_train, spectra_test, labels_test, shape_classificaion_shapes, 50, m_features = 100)\n",
    "print(Binary_Classification_more_features[0][2])\n",
    "print(Binary_Classification_more_features[1][2])\n",
    "print(Binary_Classification_more_features[2][2])\n",
    "print(Binary_Classification_more_features[3][2])"
   ]
  },
  {
   "cell_type": "code",
   "execution_count": null,
   "metadata": {},
   "outputs": [],
   "source": [
    "Binary_Classification_more_features_depth = shape_classification_binary(spectra_train, labels_train, spectra_test, labels_test, shape_classificaion_shapes, 50, depth = 10, m_features = 100)\n",
    "print(Binary_Classification_more_features_depth[0][2])\n",
    "print(Binary_Classification_more_features_depth[1][2])\n",
    "print(Binary_Classification_more_features_depth[2][2])\n",
    "print(Binary_Classification_more_features_depth[3][2])"
   ]
  },
  {
   "cell_type": "code",
   "execution_count": null,
   "metadata": {},
   "outputs": [],
   "source": [
    "Binary_Classification_more_features_less_depth = shape_classification_binary(spectra_train, labels_train, spectra_test, labels_test, shape_classificaion_shapes, 50, depth = 5, m_features = 100)\n",
    "print(Binary_Classification_more_features_less_depth[0][2])\n",
    "print(Binary_Classification_more_features_less_depth[1][2])\n",
    "print(Binary_Classification_more_features_less_depth[2][2])\n",
    "print(Binary_Classification_more_features_less_depth[3][2])"
   ]
  },
  {
   "cell_type": "code",
   "execution_count": null,
   "metadata": {},
   "outputs": [],
   "source": [
    "Binary_Classification_more_features_more_depth = shape_classification_binary(spectra_train, labels_train, spectra_test, labels_test, shape_classificaion_shapes, 50, depth = 20, m_features = 100)\n",
    "print(Binary_Classification_more_features_more_depth[0][2])\n",
    "print(Binary_Classification_more_features_more_depth[1][2])\n",
    "print(Binary_Classification_more_features_more_depth[2][2])\n",
    "print(Binary_Classification_more_features_more_depth[3][2])"
   ]
  },
  {
   "cell_type": "code",
   "execution_count": null,
   "metadata": {},
   "outputs": [],
   "source": [
    "Binary_Classification_more_features_more_depth = shape_classification_binary(spectra_train, labels_train, spectra_test, labels_test, shape_classificaion_shapes, 50, depth = 20, m_features = 400)\n",
    "print(Binary_Classification_more_features_more_depth[0][2])\n",
    "print(Binary_Classification_more_features_more_depth[1][2])\n",
    "print(Binary_Classification_more_features_more_depth[2][2])\n",
    "print(Binary_Classification_more_features_more_depth[3][2])"
   ]
  },
  {
   "cell_type": "code",
   "execution_count": null,
   "metadata": {},
   "outputs": [],
   "source": [
    "Binary_Classification_more_features_more_depth = shape_classification_binary(spectra_train, labels_train, spectra_test, labels_test, shape_classificaion_shapes, 50, m_features = 400)\n",
    "print(Binary_Classification_more_features_more_depth[0][2])\n",
    "print(Binary_Classification_more_features_more_depth[1][2])\n",
    "print(Binary_Classification_more_features_more_depth[2][2])\n",
    "print(Binary_Classification_more_features_more_depth[3][2])"
   ]
  },
  {
   "cell_type": "code",
   "execution_count": null,
   "metadata": {},
   "outputs": [],
   "source": [
    "Binary_Classification_more_features_more_depth = shape_classification_binary(spectra_train, labels_train, spectra_test, labels_test, shape_classificaion_shapes, 50)\n",
    "print(Binary_Classification_more_features_more_depth[0][2])\n",
    "print(Binary_Classification_more_features_more_depth[1][2])\n",
    "print(Binary_Classification_more_features_more_depth[2][2])\n",
    "print(Binary_Classification_more_features_more_depth[3][2])"
   ]
  },
  {
   "cell_type": "code",
   "execution_count": null,
   "metadata": {},
   "outputs": [],
   "source": [
    "Binary_Classification_more_features_more_depth = shape_classification_binary(spectra_train, labels_train, spectra_test, labels_test, shape_classificaion_shapes, 10)\n",
    "print(Binary_Classification_more_features_more_depth[0][2])\n",
    "print(Binary_Classification_more_features_more_depth[1][2])\n",
    "print(Binary_Classification_more_features_more_depth[2][2])\n",
    "print(Binary_Classification_more_features_more_depth[3][2])"
   ]
  },
  {
   "cell_type": "code",
   "execution_count": null,
   "metadata": {},
   "outputs": [],
   "source": [
    "Binary_Classification_more_features_more_depth = shape_classification_binary(spectra_train, labels_train, spectra_test, labels_test, shape_classificaion_shapes, 25)\n",
    "print(Binary_Classification_more_features_more_depth[0][2])\n",
    "print(Binary_Classification_more_features_more_depth[1][2])\n",
    "print(Binary_Classification_more_features_more_depth[2][2])\n",
    "print(Binary_Classification_more_features_more_depth[3][2])"
   ]
  },
  {
   "cell_type": "code",
   "execution_count": null,
   "metadata": {},
   "outputs": [],
   "source": [
    "Binary_Classification_more_features_more_depth = shape_classification_binary(spectra_train, labels_train, spectra_test, labels_test, shape_classificaion_shapes, 100)\n",
    "print(Binary_Classification_more_features_more_depth[0][2])\n",
    "print(Binary_Classification_more_features_more_depth[1][2])\n",
    "print(Binary_Classification_more_features_more_depth[2][2])\n",
    "print(Binary_Classification_more_features_more_depth[3][2])"
   ]
  },
  {
   "cell_type": "code",
   "execution_count": null,
   "metadata": {},
   "outputs": [],
   "source": []
  },
  {
   "cell_type": "code",
   "execution_count": null,
   "metadata": {},
   "outputs": [],
   "source": []
  },
  {
   "cell_type": "code",
   "execution_count": null,
   "metadata": {},
   "outputs": [],
   "source": []
  }
 ],
 "metadata": {
  "kernelspec": {
   "display_name": "Python 3",
   "language": "python",
   "name": "python3"
  },
  "language_info": {
   "codemirror_mode": {
    "name": "ipython",
    "version": 3
   },
   "file_extension": ".py",
   "mimetype": "text/x-python",
   "name": "python",
   "nbconvert_exporter": "python",
   "pygments_lexer": "ipython3",
   "version": "3.7.7"
  }
 },
 "nbformat": 4,
 "nbformat_minor": 4
}
