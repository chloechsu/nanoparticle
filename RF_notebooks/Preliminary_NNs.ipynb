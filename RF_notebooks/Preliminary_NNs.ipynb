{
 "cells": [
  {
   "cell_type": "code",
   "execution_count": 140,
   "metadata": {},
   "outputs": [],
   "source": [
    "import joblib\n",
    "import matplotlib.pyplot as plt\n",
    "import tensorflow as tf\n",
    "from tensorflow import keras\n",
    "from tensorflow.keras.models import Sequential\n",
    "from tensorflow.keras.layers import Dense, Dropout\n",
    "from tensorflow.keras.optimizers import RMSprop\n",
    "import pandas as pd"
   ]
  },
  {
   "cell_type": "markdown",
   "metadata": {},
   "source": [
    "Load Data - Need to reset index for x_new_train because the index numbers are all messed up from being randomly pulled from a larger sample"
   ]
  },
  {
   "cell_type": "code",
   "execution_count": 141,
   "metadata": {},
   "outputs": [],
   "source": [
    "spectra_train = joblib.load('cache/r20200406_234541_50.0sc_50.0sp_1_CPU/spectral/y_new_train.joblib')\n",
    "spectra_test = joblib.load('cache/r20200406_234541_50.0sc_50.0sp_1_CPU/spectral/y_test.joblib')\n",
    "labels_train = joblib.load('cache/r20200406_234541_50.0sc_50.0sp_1_CPU/spectral/x_new_train.joblib').reset_index()\n",
    "labels_test = joblib.load('cache/r20200406_234541_50.0sc_50.0sp_1_CPU/spectral/x_test.joblib').reset_index()"
   ]
  },
  {
   "cell_type": "markdown",
   "metadata": {},
   "source": [
    "Define functions used for building the model and parsing datasets"
   ]
  },
  {
   "cell_type": "code",
   "execution_count": 142,
   "metadata": {},
   "outputs": [],
   "source": [
    "def preliminary_NN(xtrain, ytrain, xtest, ytest, num_catagories):\n",
    "    # Xtrain and xtest should be spectra while ytrain and ytest should be specifications of materials \n",
    "    # num_catagories (int) should be the number of options availble for the catagorical variable being predicted (ie 3 for \n",
    "    # material type since there are 3 materials)\n",
    "    model = Sequential()\n",
    "    model.add(Dense(512, activation='relu', input_shape=(400,)))\n",
    "    model.add(Dense(num_catagories, activation='softmax'))\n",
    "    model.summary()\n",
    "    \n",
    "    model.compile(loss='categorical_crossentropy',\n",
    "              optimizer=RMSprop(),\n",
    "              metrics=['accuracy'])\n",
    "    history = model.fit(xtrain, ytrain,\n",
    "                    batch_size=100,\n",
    "                    epochs=10,\n",
    "                    verbose=2,\n",
    "                    validation_data=(xtest, ytest))"
   ]
  },
  {
   "cell_type": "code",
   "execution_count": 143,
   "metadata": {},
   "outputs": [],
   "source": [
    "def drop_indicies(df, column, condition_to_drop, update_existing_file = True):\n",
    "    df_condition = df[column] == condition_to_drop \n",
    "    \"\"\"\n",
    "    This function takes a pandas df as input and drops a series of rows depending on a specified condition. For example, use this\n",
    "    function to search through x_train and drop all rows where the material is not gold. \n",
    "    \n",
    "    df - pandas dataframe \n",
    "    column - STR the column of the dataframe you want to use to determine if a row should be dropped \n",
    "    condition_to_drop - choose condition_to_drop such that the expression evalutes to true for the condition you want dropped \n",
    "    (ie if I want to only have Au samples, my column would be Material_Au and my condition would be 0, so that when the \n",
    "    condition would be true if the material was not gold)\n",
    "    update_existing_file - BOOL, determines if the df that is inputted to this function is updated or if a new df with only the\n",
    "    columns that aren't dropped by this function \n",
    "    \"\"\"\n",
    "    indicies_to_drop_list = []\n",
    "    for row in df_condition.index:\n",
    "        if df_condition.iloc[row] == True:\n",
    "            indicies_to_drop_list.append(row)\n",
    "    \n",
    "    if update_existing_file == True:\n",
    "        df.drop(indicies_to_drop_list, inplace=update_existing_file)\n",
    "        return indicies_to_drop_list\n",
    "    if update_existing_file == False:\n",
    "        df_new = df.drop(indicies_to_drop_list, inplace=update_existing_file)\n",
    "        return (df_new, indicies_to_drop_list)\n",
    "        "
   ]
  },
  {
   "cell_type": "markdown",
   "metadata": {},
   "source": [
    "Train model to predict the material of the particle corresponding to a spectrum "
   ]
  },
  {
   "cell_type": "code",
   "execution_count": 144,
   "metadata": {},
   "outputs": [],
   "source": [
    "labels_train_material = labels_train.drop(columns = ['log Area/Vol', 'ShortestDim', 'MiddleDim', 'LongDim', 'Geometry_TriangPrismIsosc',\n",
    "                                                    'Geometry_parallelepiped', 'Geometry_sphere', 'Geometry_wire', 'index'] )\n",
    "labels_test_material = labels_test.drop(columns = ['log Area/Vol', 'ShortestDim', 'MiddleDim', 'LongDim', 'Geometry_TriangPrismIsosc',\n",
    "                                                    'Geometry_parallelepiped', 'Geometry_sphere', 'Geometry_wire', 'index'] )"
   ]
  },
  {
   "cell_type": "code",
   "execution_count": 145,
   "metadata": {},
   "outputs": [],
   "source": [
    "labels_train_material_as_array = labels_train_material.to_numpy()\n",
    "labels_test_material_as_array = labels_test_material.to_numpy()"
   ]
  },
  {
   "cell_type": "code",
   "execution_count": 146,
   "metadata": {},
   "outputs": [
    {
     "name": "stdout",
     "output_type": "stream",
     "text": [
      "Model: \"sequential_14\"\n",
      "_________________________________________________________________\n",
      "Layer (type)                 Output Shape              Param #   \n",
      "=================================================================\n",
      "dense_29 (Dense)             (None, 512)               205312    \n",
      "_________________________________________________________________\n",
      "dense_30 (Dense)             (None, 3)                 1539      \n",
      "=================================================================\n",
      "Total params: 206,851\n",
      "Trainable params: 206,851\n",
      "Non-trainable params: 0\n",
      "_________________________________________________________________\n",
      "Train on 164052 samples, validate on 7813 samples\n",
      "Epoch 1/10\n",
      "164052/164052 - 6s - loss: 0.0197 - accuracy: 0.9992 - val_loss: 0.0689 - val_accuracy: 0.9994\n",
      "Epoch 2/10\n",
      "164052/164052 - 5s - loss: 0.0026 - accuracy: 1.0000 - val_loss: 0.0029 - val_accuracy: 0.9997\n",
      "Epoch 3/10\n",
      "164052/164052 - 5s - loss: 3.9521e-04 - accuracy: 1.0000 - val_loss: 3.8173e-08 - val_accuracy: 1.0000\n",
      "Epoch 4/10\n",
      "164052/164052 - 5s - loss: 9.0534e-09 - accuracy: 1.0000 - val_loss: 0.0064 - val_accuracy: 0.9996\n",
      "Epoch 5/10\n",
      "164052/164052 - 5s - loss: 5.1771e-07 - accuracy: 1.0000 - val_loss: 1.2511e-08 - val_accuracy: 1.0000\n",
      "Epoch 6/10\n",
      "164052/164052 - 5s - loss: 4.9522e-09 - accuracy: 1.0000 - val_loss: 8.3002e-09 - val_accuracy: 1.0000\n",
      "Epoch 7/10\n",
      "164052/164052 - 5s - loss: 3.7139e-09 - accuracy: 1.0000 - val_loss: 0.0021 - val_accuracy: 0.9999\n",
      "Epoch 8/10\n",
      "164052/164052 - 5s - loss: 2.0397e-04 - accuracy: 1.0000 - val_loss: 1.9590e-08 - val_accuracy: 1.0000\n",
      "Epoch 9/10\n",
      "164052/164052 - 5s - loss: 9.2009e-05 - accuracy: 1.0000 - val_loss: 3.7239e-08 - val_accuracy: 1.0000\n",
      "Epoch 10/10\n",
      "164052/164052 - 6s - loss: 2.8092e-09 - accuracy: 1.0000 - val_loss: 3.2194e-09 - val_accuracy: 1.0000\n"
     ]
    }
   ],
   "source": [
    "preliminary_NN(spectra_train, labels_train_material_as_array, spectra_test, labels_test_material_as_array, 3)"
   ]
  },
  {
   "cell_type": "markdown",
   "metadata": {},
   "source": [
    "I got an accuracy of 1.0000"
   ]
  },
  {
   "cell_type": "markdown",
   "metadata": {},
   "source": [
    "Train model to predict the shape of the particle corresponding to a spectrum "
   ]
  },
  {
   "cell_type": "code",
   "execution_count": 154,
   "metadata": {},
   "outputs": [],
   "source": [
    "labels_train_shape = labels_train.drop(columns = ['index','log Area/Vol', 'ShortestDim', 'MiddleDim', 'LongDim', 'Material_Au', \n",
    "                                                    'Material_SiN', 'Material_SiO2', 'index'] )\n",
    "labels_test_shape = labels_test.drop(columns = ['index','log Area/Vol', 'ShortestDim', 'MiddleDim', 'LongDim', 'Material_Au',\n",
    "                                                    'Material_SiN', 'Material_SiO2', 'index'] )\n",
    "\n",
    "labels_train_shape_as_array = labels_train_shape.to_numpy()\n",
    "labels_test_shape_as_array = labels_test_shape.to_numpy()"
   ]
  },
  {
   "cell_type": "code",
   "execution_count": 155,
   "metadata": {},
   "outputs": [
    {
     "name": "stdout",
     "output_type": "stream",
     "text": [
      "Model: \"sequential_17\"\n",
      "_________________________________________________________________\n",
      "Layer (type)                 Output Shape              Param #   \n",
      "=================================================================\n",
      "dense_35 (Dense)             (None, 512)               205312    \n",
      "_________________________________________________________________\n",
      "dense_36 (Dense)             (None, 4)                 2052      \n",
      "=================================================================\n",
      "Total params: 207,364\n",
      "Trainable params: 207,364\n",
      "Non-trainable params: 0\n",
      "_________________________________________________________________\n",
      "Train on 164052 samples, validate on 7813 samples\n",
      "Epoch 1/10\n",
      "164052/164052 - 6s - loss: 0.8693 - accuracy: 0.5908 - val_loss: 1.0397 - val_accuracy: 0.4894\n",
      "Epoch 2/10\n",
      "164052/164052 - 5s - loss: 0.7536 - accuracy: 0.6385 - val_loss: 1.1194 - val_accuracy: 0.4748\n",
      "Epoch 3/10\n",
      "164052/164052 - 5s - loss: 0.7208 - accuracy: 0.6531 - val_loss: 1.0278 - val_accuracy: 0.5266\n",
      "Epoch 4/10\n",
      "164052/164052 - 5s - loss: 0.6997 - accuracy: 0.6619 - val_loss: 0.9537 - val_accuracy: 0.5531\n",
      "Epoch 5/10\n",
      "164052/164052 - 5s - loss: 0.6833 - accuracy: 0.6679 - val_loss: 0.9839 - val_accuracy: 0.5637\n",
      "Epoch 6/10\n",
      "164052/164052 - 5s - loss: 0.6726 - accuracy: 0.6736 - val_loss: 0.9957 - val_accuracy: 0.5346\n",
      "Epoch 7/10\n",
      "164052/164052 - 5s - loss: 0.6627 - accuracy: 0.6770 - val_loss: 1.1056 - val_accuracy: 0.4921\n",
      "Epoch 8/10\n",
      "164052/164052 - 6s - loss: 0.6543 - accuracy: 0.6820 - val_loss: 1.0334 - val_accuracy: 0.5452\n",
      "Epoch 9/10\n",
      "164052/164052 - 5s - loss: 0.6468 - accuracy: 0.6856 - val_loss: 1.0497 - val_accuracy: 0.5368\n",
      "Epoch 10/10\n",
      "164052/164052 - 5s - loss: 0.6405 - accuracy: 0.6876 - val_loss: 0.9178 - val_accuracy: 0.5728\n"
     ]
    }
   ],
   "source": [
    "preliminary_NN(spectra_train, labels_train_shape_as_array, spectra_test, labels_test_shape_as_array, 4)"
   ]
  },
  {
   "cell_type": "markdown",
   "metadata": {},
   "source": [
    "I ran this a couple times with different set ups and my best model was around 57% accuracy"
   ]
  },
  {
   "cell_type": "markdown",
   "metadata": {},
   "source": [
    "Train model to predict the shape of the particle corresponding to a spectrum for ONLY GOLD"
   ]
  },
  {
   "cell_type": "code",
   "execution_count": 149,
   "metadata": {},
   "outputs": [],
   "source": [
    "labels_train_shape_Au = labels_train.drop(columns = ['index','log Area/Vol', 'ShortestDim', 'MiddleDim', 'LongDim', \n",
    "                                                    'Material_SiN', 'Material_SiO2'] )\n",
    "labels_test_shape_Au = labels_test.drop(columns = ['index','log Area/Vol', 'ShortestDim', 'MiddleDim', 'LongDim', \n",
    "                                                    'Material_SiN', 'Material_SiO2'] )\n",
    "indicies_to_drop_train_list = drop_indicies(labels_train_shape_Au, 'Material_Au', 0, True)\n",
    "indicies_to_drop_test_list = drop_indicies(labels_test_shape_Au, 'Material_Au', 0, True)"
   ]
  },
  {
   "cell_type": "code",
   "execution_count": 150,
   "metadata": {},
   "outputs": [],
   "source": [
    "labels_train_shape_Au.drop(columns = ['Material_Au'] , inplace=True)\n",
    "labels_test_shape_Au.drop(columns = ['Material_Au'] , inplace=True)\n",
    "\n",
    "spectra_train_df = pd.DataFrame(spectra_train)\n",
    "spectra_test_df = pd.DataFrame(spectra_test)\n",
    "\n",
    "spectra_train_df.drop(indicies_to_drop_train_list, inplace=True)\n",
    "spectra_test_df.drop(indicies_to_drop_test_list, inplace=True)"
   ]
  },
  {
   "cell_type": "code",
   "execution_count": 151,
   "metadata": {},
   "outputs": [],
   "source": [
    "labels_train_shape_Au_as_array = labels_train_shape_Au.to_numpy()\n",
    "labels_test_shape_Au_as_array = labels_test_shape_Au.to_numpy()\n",
    "spectra_train_shape_Au_as_array = spectra_train_df.to_numpy()\n",
    "spectra_test_shape_Au_as_array= spectra_test_df.to_numpy()"
   ]
  },
  {
   "cell_type": "code",
   "execution_count": 152,
   "metadata": {},
   "outputs": [
    {
     "name": "stdout",
     "output_type": "stream",
     "text": [
      "Model: \"sequential_16\"\n",
      "_________________________________________________________________\n",
      "Layer (type)                 Output Shape              Param #   \n",
      "=================================================================\n",
      "dense_33 (Dense)             (None, 512)               205312    \n",
      "_________________________________________________________________\n",
      "dense_34 (Dense)             (None, 4)                 2052      \n",
      "=================================================================\n",
      "Total params: 207,364\n",
      "Trainable params: 207,364\n",
      "Non-trainable params: 0\n",
      "_________________________________________________________________\n",
      "Train on 54950 samples, validate on 2604 samples\n",
      "Epoch 1/10\n",
      "54950/54950 - 2s - loss: 1.0649 - accuracy: 0.5310 - val_loss: 1.3469 - val_accuracy: 0.4581\n",
      "Epoch 2/10\n",
      "54950/54950 - 2s - loss: 0.9098 - accuracy: 0.5901 - val_loss: 1.3126 - val_accuracy: 0.4343\n",
      "Epoch 3/10\n",
      "54950/54950 - 2s - loss: 0.8674 - accuracy: 0.6084 - val_loss: 1.2200 - val_accuracy: 0.4528\n",
      "Epoch 4/10\n",
      "54950/54950 - 2s - loss: 0.8426 - accuracy: 0.6185 - val_loss: 1.3035 - val_accuracy: 0.4658\n",
      "Epoch 5/10\n",
      "54950/54950 - 2s - loss: 0.8250 - accuracy: 0.6223 - val_loss: 1.3305 - val_accuracy: 0.4328\n",
      "Epoch 6/10\n",
      "54950/54950 - 2s - loss: 0.8137 - accuracy: 0.6268 - val_loss: 1.1053 - val_accuracy: 0.5008\n",
      "Epoch 7/10\n",
      "54950/54950 - 2s - loss: 0.8034 - accuracy: 0.6317 - val_loss: 1.2405 - val_accuracy: 0.4854\n",
      "Epoch 8/10\n",
      "54950/54950 - 2s - loss: 0.7973 - accuracy: 0.6330 - val_loss: 1.0874 - val_accuracy: 0.5058\n",
      "Epoch 9/10\n",
      "54950/54950 - 2s - loss: 0.7902 - accuracy: 0.6359 - val_loss: 1.1983 - val_accuracy: 0.4854\n",
      "Epoch 10/10\n",
      "54950/54950 - 2s - loss: 0.7850 - accuracy: 0.6388 - val_loss: 1.1497 - val_accuracy: 0.4927\n"
     ]
    }
   ],
   "source": [
    "preliminary_NN(spectra_train_shape_Au_as_array, labels_train_shape_Au_as_array, spectra_test_shape_Au_as_array, labels_test_shape_Au_as_array, 4)"
   ]
  },
  {
   "cell_type": "markdown",
   "metadata": {},
   "source": [
    "This one I'm pretty surpised by - I tried a couple different models and I never got above 51%, I really thought this would be better than looking at all the materials"
   ]
  },
  {
   "cell_type": "code",
   "execution_count": null,
   "metadata": {},
   "outputs": [],
   "source": []
  }
 ],
 "metadata": {
  "kernelspec": {
   "display_name": "Python 3",
   "language": "python",
   "name": "python3"
  },
  "language_info": {
   "codemirror_mode": {
    "name": "ipython",
    "version": 3
   },
   "file_extension": ".py",
   "mimetype": "text/x-python",
   "name": "python",
   "nbconvert_exporter": "python",
   "pygments_lexer": "ipython3",
   "version": "3.7.4"
  }
 },
 "nbformat": 4,
 "nbformat_minor": 2
}
