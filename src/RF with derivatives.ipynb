{
 "cells": [
  {
   "cell_type": "code",
   "execution_count": 1,
   "metadata": {},
   "outputs": [
    {
     "name": "stderr",
     "output_type": "stream",
     "text": [
      "C:\\Users\\smgls\\Anaconda3\\lib\\site-packages\\sklearn\\externals\\six.py:31: FutureWarning: The module is deprecated in version 0.21 and will be removed in version 0.23 since we've dropped support for Python 2.7. Please rely on the official version of six (https://pypi.org/project/six/).\n",
      "  \"(https://pypi.org/project/six/).\", FutureWarning)\n"
     ]
    }
   ],
   "source": [
    "import joblib\n",
    "import itertools\n",
    "import matplotlib.pyplot as plt\n",
    "import pandas as pd\n",
    "from sklearn import tree\n",
    "from sklearn.ensemble import RandomForestClassifier\n",
    "import numpy as np\n",
    "from sklearn.metrics import confusion_matrix\n",
    "import seaborn as sns\n",
    "from sklearn.multioutput import MultiOutputClassifier\n",
    "from sklearn.ensemble import RandomForestRegressor\n",
    "from sklearn.multioutput import MultiOutputRegressor\n",
    "from RF_Model_Functions import *\n",
    "from IPython.display import Image  \n",
    "from sklearn.externals.six import StringIO  \n",
    "import pydotplus\n",
    "from scipy.signal import savgol_filter\n",
    "from sklearn.datasets import load_iris\n",
    "from sklearn.ensemble import RandomForestClassifier, StackingClassifier\n",
    "from sklearn.linear_model import LogisticRegression\n",
    "from sklearn.model_selection import train_test_split\n",
    "from sklearn.neighbors import KNeighborsClassifier\n",
    "from sklearn.svm import SVC\n",
    "from sklearn.linear_model import LinearRegression\n",
    "from sklearn.multioutput import MultiOutputRegressor\n",
    "from sklearn.metrics import mean_squared_error"
   ]
  },
  {
   "cell_type": "code",
   "execution_count": null,
   "metadata": {},
   "outputs": [],
   "source": [
    "derivs = []\n",
    "for spectrum in spectra_train:\n",
    "    deriv_spectrum = np.gradient(spectrum)\n",
    "    derivs.append(deriv_spectrum)\n",
    "spectra_train_derivs = np.asarray(derivs)\n",
    "\n",
    "second_derivs = []\n",
    "for spectrum_deriv in spectra_train_derivs:\n",
    "    deriv_deriv_spectrum = np.gradient(spectrum_deriv)\n",
    "    second_derivs.append(deriv_deriv_spectrum)\n",
    "spectra_train_deriv_derivs = np.asarray(second_derivs)"
   ]
  },
  {
   "cell_type": "code",
   "execution_count": null,
   "metadata": {},
   "outputs": [],
   "source": [
    "derivs = []\n",
    "for spectrum in spectra_test:\n",
    "    deriv_spectrum = np.gradient(spectrum)\n",
    "    derivs.append(deriv_spectrum)\n",
    "spectra_test_derivs = np.asarray(derivs)\n",
    "\n",
    "second_derivs = []\n",
    "for spectrum_deriv in spectra_test_derivs:\n",
    "    deriv_deriv_spectrum = np.gradient(spectrum_deriv)\n",
    "    second_derivs.append(deriv_deriv_spectrum)\n",
    "spectra_test_deriv_derivs = np.asarray(second_derivs)"
   ]
  },
  {
   "cell_type": "code",
   "execution_count": null,
   "metadata": {},
   "outputs": [],
   "source": [
    "spectra_test_w_derivs = np.hstack((spectra_test, spectra_test_derivs))"
   ]
  },
  {
   "cell_type": "code",
   "execution_count": null,
   "metadata": {},
   "outputs": [],
   "source": [
    "spectra_train_w_derivs = np.hstack((spectra_train, spectra_train_derivs))"
   ]
  },
  {
   "cell_type": "code",
   "execution_count": null,
   "metadata": {},
   "outputs": [],
   "source": [
    "spectra_test_w_derivs_2 = np.hstack((spectra_test, spectra_test_derivs, spectra_test_deriv_derivs))"
   ]
  },
  {
   "cell_type": "code",
   "execution_count": null,
   "metadata": {},
   "outputs": [],
   "source": [
    "spectra_test_w_derivs_2.shape"
   ]
  },
  {
   "cell_type": "code",
   "execution_count": null,
   "metadata": {},
   "outputs": [],
   "source": [
    "spectra_train_w_derivs_2 = np.hstack((spectra_train, spectra_train_derivs, spectra_train_deriv_derivs))"
   ]
  },
  {
   "cell_type": "code",
   "execution_count": null,
   "metadata": {},
   "outputs": [],
   "source": [
    "spectra_train_w_derivs_2.shape"
   ]
  },
  {
   "cell_type": "code",
   "execution_count": null,
   "metadata": {},
   "outputs": [],
   "source": [
    "rf_all_w_derivs = Train_Random_Forests_Shape_Classification(\"All\", spectra_train_w_derivs, labels_train, spectra_test_w_derivs, labels_test,from_one_hot_dict, 100, 100, 200)"
   ]
  },
  {
   "cell_type": "code",
   "execution_count": null,
   "metadata": {},
   "outputs": [],
   "source": [
    "rf_all_w_derivs[0]\n",
    "joblib.dump(rf_all_w_derivs, \"rf_shape_classifier_w_derivative_spectra.joblib\")"
   ]
  },
  {
   "cell_type": "code",
   "execution_count": null,
   "metadata": {},
   "outputs": [],
   "source": [
    "rf_all_w_derivs_defaults = Train_Random_Forests_Shape_Classification(\"All\", spectra_train_w_derivs, labels_train, spectra_test_w_derivs, labels_test,from_one_hot_dict, trees = 1)"
   ]
  },
  {
   "cell_type": "code",
   "execution_count": null,
   "metadata": {},
   "outputs": [],
   "source": [
    "rf_all_w_derivs_defaults[3]"
   ]
  },
  {
   "cell_type": "code",
   "execution_count": null,
   "metadata": {},
   "outputs": [],
   "source": [
    "rf_all_just_derivs = Train_Random_Forests_Shape_Classification(\"All\", spectra_train_derivs, labels_train, spectra_test_derivs, labels_test,from_one_hot_dict, 100)"
   ]
  },
  {
   "cell_type": "code",
   "execution_count": null,
   "metadata": {},
   "outputs": [],
   "source": [
    "rf_all_just_derivs[0]\n",
    "cm_normalized = normalize_cm(rf_all_just_derivs[2], list(rf_all_just_derivs[4]), 4)\n",
    "plot_confusion_matrix(np.asarray(cm_normalized), [\"Parallelepiped\", \"Triangular Prism\", \"Sphere\", \"Wire\"])\n",
    "#joblib.dump(rf_all_w_derivs, \"rf_all_just_derivs.joblib\")"
   ]
  },
  {
   "cell_type": "code",
   "execution_count": null,
   "metadata": {},
   "outputs": [],
   "source": [
    "rf_size_w_derivs = Train_Random_Forests_Size_Regression(\"all\", spectra_train_w_derivs, labels_train, spectra_test_w_derivs, labels_test, 10)"
   ]
  },
  {
   "cell_type": "code",
   "execution_count": null,
   "metadata": {},
   "outputs": [],
   "source": [
    "rf_size_w_derivs[0]\n",
    "joblib.dump(rf_size_w_derivs, \"rf_size_w_derivs.joblib\")"
   ]
  },
  {
   "cell_type": "code",
   "execution_count": null,
   "metadata": {},
   "outputs": [],
   "source": [
    "joblib.load(\"rf_size_w_derivs.joblib\")"
   ]
  },
  {
   "cell_type": "code",
   "execution_count": null,
   "metadata": {},
   "outputs": [],
   "source": [
    "rf_size_w_second_derivs = Train_Random_Forests_Size_Regression(\"all\", spectra_train_w_derivs_2, labels_train, spectra_test_w_derivs_2, labels_test, 10)"
   ]
  },
  {
   "cell_type": "code",
   "execution_count": null,
   "metadata": {},
   "outputs": [],
   "source": [
    "rf_size_w_second_derivs[0]\n",
    "joblib.dump(rf_size_w_second_derivs, \"rf_size_w_second_derivs.joblib\")"
   ]
  },
  {
   "cell_type": "code",
   "execution_count": null,
   "metadata": {},
   "outputs": [],
   "source": [
    "rf_size_w_second_derivs_more_trees = Train_Random_Forests_Size_Regression(\"all\", spectra_train_w_derivs_2, labels_train, spectra_test_w_derivs_2, labels_test, 25)"
   ]
  },
  {
   "cell_type": "code",
   "execution_count": null,
   "metadata": {},
   "outputs": [],
   "source": [
    "rf_size_w_second_derivs_more_trees[0]\n",
    "joblib.dump(rf_size_w_second_derivs_more_trees, \"rf_size_w_second_derivs_more_trees.joblib\")"
   ]
  },
  {
   "cell_type": "code",
   "execution_count": null,
   "metadata": {},
   "outputs": [],
   "source": [
    "rf_size_smaller_training = Train_Random_Forests_Size_Regression(\"all\", spectra_train_smaller, labels_train_smaller, spectra_test, labels_test, 100)"
   ]
  },
  {
   "cell_type": "code",
   "execution_count": null,
   "metadata": {},
   "outputs": [],
   "source": [
    "rf_size_smaller_training\n",
    "joblib.dump(rf_size_smaller_training, \"rf_size_smaller_training.joblib\")"
   ]
  },
  {
   "cell_type": "code",
   "execution_count": null,
   "metadata": {},
   "outputs": [],
   "source": []
  },
  {
   "cell_type": "code",
   "execution_count": null,
   "metadata": {},
   "outputs": [],
   "source": []
  },
  {
   "cell_type": "code",
   "execution_count": null,
   "metadata": {},
   "outputs": [],
   "source": []
  },
  {
   "cell_type": "code",
   "execution_count": null,
   "metadata": {},
   "outputs": [],
   "source": []
  },
  {
   "cell_type": "code",
   "execution_count": null,
   "metadata": {},
   "outputs": [],
   "source": []
  },
  {
   "cell_type": "code",
   "execution_count": null,
   "metadata": {},
   "outputs": [],
   "source": []
  }
 ],
 "metadata": {
  "kernelspec": {
   "display_name": "Python 3",
   "language": "python",
   "name": "python3"
  },
  "language_info": {
   "codemirror_mode": {
    "name": "ipython",
    "version": 3
   },
   "file_extension": ".py",
   "mimetype": "text/x-python",
   "name": "python",
   "nbconvert_exporter": "python",
   "pygments_lexer": "ipython3",
   "version": "3.7.7"
  }
 },
 "nbformat": 4,
 "nbformat_minor": 4
}
