{
 "cells": [
  {
   "cell_type": "code",
   "execution_count": 47,
   "metadata": {},
   "outputs": [],
   "source": [
    "import joblib\n",
    "import matplotlib.pyplot as plt\n",
    "import tensorflow as tf\n",
    "from tensorflow import keras\n",
    "from tensorflow.keras.models import Sequential\n",
    "from tensorflow.keras.layers import Dense, Dropout\n",
    "from tensorflow.keras.optimizers import RMSprop\n",
    "import pandas as pd\n",
    "from sklearn import tree\n",
    "from sklearn.ensemble import RandomForestClassifier\n",
    "from sklearn.ensemble import RandomForestRegressor\n",
    "\n",
    "import numpy as np\n",
    "from sklearn.metrics import confusion_matrix\n",
    "import seaborn as sns\n",
    "from sklearn.model_selection import cross_val_score\n",
    "from sklearn.multioutput import MultiOutputClassifier\n",
    "from sklearn.multioutput import MultiOutputRegressor"
   ]
  },
  {
   "cell_type": "markdown",
   "metadata": {},
   "source": [
    "Load Data - Need to reset index for x_new_train because the index numbers are all messed up from being randomly pulled from a larger sample"
   ]
  },
  {
   "cell_type": "code",
   "execution_count": 117,
   "metadata": {},
   "outputs": [
    {
     "data": {
      "text/html": [
       "<div>\n",
       "<style scoped>\n",
       "    .dataframe tbody tr th:only-of-type {\n",
       "        vertical-align: middle;\n",
       "    }\n",
       "\n",
       "    .dataframe tbody tr th {\n",
       "        vertical-align: top;\n",
       "    }\n",
       "\n",
       "    .dataframe thead th {\n",
       "        text-align: right;\n",
       "    }\n",
       "</style>\n",
       "<table border=\"1\" class=\"dataframe\">\n",
       "  <thead>\n",
       "    <tr style=\"text-align: right;\">\n",
       "      <th></th>\n",
       "      <th>index</th>\n",
       "      <th>Geometry_TriangPrismIsosc</th>\n",
       "      <th>Geometry_parallelepiped</th>\n",
       "      <th>Geometry_sphere</th>\n",
       "      <th>Geometry_wire</th>\n",
       "      <th>Material_Au</th>\n",
       "      <th>Material_SiN</th>\n",
       "      <th>Material_SiO2</th>\n",
       "      <th>log Area/Vol</th>\n",
       "      <th>ShortestDim</th>\n",
       "      <th>MiddleDim</th>\n",
       "      <th>LongDim</th>\n",
       "    </tr>\n",
       "  </thead>\n",
       "  <tbody>\n",
       "    <tr>\n",
       "      <td>0</td>\n",
       "      <td>21317</td>\n",
       "      <td>0.0</td>\n",
       "      <td>1.0</td>\n",
       "      <td>0.0</td>\n",
       "      <td>0.0</td>\n",
       "      <td>0.0</td>\n",
       "      <td>1.0</td>\n",
       "      <td>0.0</td>\n",
       "      <td>3.785575</td>\n",
       "      <td>0.05</td>\n",
       "      <td>0.55</td>\n",
       "      <td>4.71</td>\n",
       "    </tr>\n",
       "    <tr>\n",
       "      <td>1</td>\n",
       "      <td>33256</td>\n",
       "      <td>0.0</td>\n",
       "      <td>0.0</td>\n",
       "      <td>0.0</td>\n",
       "      <td>1.0</td>\n",
       "      <td>0.0</td>\n",
       "      <td>0.0</td>\n",
       "      <td>1.0</td>\n",
       "      <td>1.412331</td>\n",
       "      <td>0.75</td>\n",
       "      <td>2.78</td>\n",
       "      <td>2.78</td>\n",
       "    </tr>\n",
       "    <tr>\n",
       "      <td>2</td>\n",
       "      <td>3779</td>\n",
       "      <td>1.0</td>\n",
       "      <td>0.0</td>\n",
       "      <td>0.0</td>\n",
       "      <td>0.0</td>\n",
       "      <td>0.0</td>\n",
       "      <td>1.0</td>\n",
       "      <td>0.0</td>\n",
       "      <td>1.523726</td>\n",
       "      <td>0.90</td>\n",
       "      <td>8.29</td>\n",
       "      <td>21.49</td>\n",
       "    </tr>\n",
       "    <tr>\n",
       "      <td>3</td>\n",
       "      <td>33130</td>\n",
       "      <td>0.0</td>\n",
       "      <td>0.0</td>\n",
       "      <td>0.0</td>\n",
       "      <td>1.0</td>\n",
       "      <td>0.0</td>\n",
       "      <td>0.0</td>\n",
       "      <td>1.0</td>\n",
       "      <td>0.795989</td>\n",
       "      <td>1.93</td>\n",
       "      <td>1.93</td>\n",
       "      <td>13.88</td>\n",
       "    </tr>\n",
       "    <tr>\n",
       "      <td>4</td>\n",
       "      <td>2499</td>\n",
       "      <td>1.0</td>\n",
       "      <td>0.0</td>\n",
       "      <td>0.0</td>\n",
       "      <td>0.0</td>\n",
       "      <td>1.0</td>\n",
       "      <td>0.0</td>\n",
       "      <td>0.0</td>\n",
       "      <td>3.962482</td>\n",
       "      <td>0.08</td>\n",
       "      <td>0.56</td>\n",
       "      <td>1.26</td>\n",
       "    </tr>\n",
       "    <tr>\n",
       "      <td>...</td>\n",
       "      <td>...</td>\n",
       "      <td>...</td>\n",
       "      <td>...</td>\n",
       "      <td>...</td>\n",
       "      <td>...</td>\n",
       "      <td>...</td>\n",
       "      <td>...</td>\n",
       "      <td>...</td>\n",
       "      <td>...</td>\n",
       "      <td>...</td>\n",
       "      <td>...</td>\n",
       "      <td>...</td>\n",
       "    </tr>\n",
       "    <tr>\n",
       "      <td>7807</td>\n",
       "      <td>1870</td>\n",
       "      <td>1.0</td>\n",
       "      <td>0.0</td>\n",
       "      <td>0.0</td>\n",
       "      <td>0.0</td>\n",
       "      <td>1.0</td>\n",
       "      <td>0.0</td>\n",
       "      <td>0.0</td>\n",
       "      <td>3.412746</td>\n",
       "      <td>0.17</td>\n",
       "      <td>0.48</td>\n",
       "      <td>0.48</td>\n",
       "    </tr>\n",
       "    <tr>\n",
       "      <td>7808</td>\n",
       "      <td>914</td>\n",
       "      <td>1.0</td>\n",
       "      <td>0.0</td>\n",
       "      <td>0.0</td>\n",
       "      <td>0.0</td>\n",
       "      <td>1.0</td>\n",
       "      <td>0.0</td>\n",
       "      <td>0.0</td>\n",
       "      <td>2.329279</td>\n",
       "      <td>0.51</td>\n",
       "      <td>1.37</td>\n",
       "      <td>1.37</td>\n",
       "    </tr>\n",
       "    <tr>\n",
       "      <td>7809</td>\n",
       "      <td>4435</td>\n",
       "      <td>1.0</td>\n",
       "      <td>0.0</td>\n",
       "      <td>0.0</td>\n",
       "      <td>0.0</td>\n",
       "      <td>0.0</td>\n",
       "      <td>1.0</td>\n",
       "      <td>0.0</td>\n",
       "      <td>2.016808</td>\n",
       "      <td>0.66</td>\n",
       "      <td>2.06</td>\n",
       "      <td>2.26</td>\n",
       "    </tr>\n",
       "    <tr>\n",
       "      <td>7810</td>\n",
       "      <td>14114</td>\n",
       "      <td>0.0</td>\n",
       "      <td>1.0</td>\n",
       "      <td>0.0</td>\n",
       "      <td>0.0</td>\n",
       "      <td>1.0</td>\n",
       "      <td>0.0</td>\n",
       "      <td>0.0</td>\n",
       "      <td>3.335932</td>\n",
       "      <td>0.09</td>\n",
       "      <td>0.68</td>\n",
       "      <td>0.68</td>\n",
       "    </tr>\n",
       "    <tr>\n",
       "      <td>7811</td>\n",
       "      <td>24905</td>\n",
       "      <td>0.0</td>\n",
       "      <td>1.0</td>\n",
       "      <td>0.0</td>\n",
       "      <td>0.0</td>\n",
       "      <td>0.0</td>\n",
       "      <td>0.0</td>\n",
       "      <td>1.0</td>\n",
       "      <td>2.751874</td>\n",
       "      <td>0.26</td>\n",
       "      <td>0.26</td>\n",
       "      <td>6.96</td>\n",
       "    </tr>\n",
       "  </tbody>\n",
       "</table>\n",
       "<p>7812 rows × 12 columns</p>\n",
       "</div>"
      ],
      "text/plain": [
       "      index  Geometry_TriangPrismIsosc  Geometry_parallelepiped  \\\n",
       "0     21317                        0.0                      1.0   \n",
       "1     33256                        0.0                      0.0   \n",
       "2      3779                        1.0                      0.0   \n",
       "3     33130                        0.0                      0.0   \n",
       "4      2499                        1.0                      0.0   \n",
       "...     ...                        ...                      ...   \n",
       "7807   1870                        1.0                      0.0   \n",
       "7808    914                        1.0                      0.0   \n",
       "7809   4435                        1.0                      0.0   \n",
       "7810  14114                        0.0                      1.0   \n",
       "7811  24905                        0.0                      1.0   \n",
       "\n",
       "      Geometry_sphere  Geometry_wire  Material_Au  Material_SiN  \\\n",
       "0                 0.0            0.0          0.0           1.0   \n",
       "1                 0.0            1.0          0.0           0.0   \n",
       "2                 0.0            0.0          0.0           1.0   \n",
       "3                 0.0            1.0          0.0           0.0   \n",
       "4                 0.0            0.0          1.0           0.0   \n",
       "...               ...            ...          ...           ...   \n",
       "7807              0.0            0.0          1.0           0.0   \n",
       "7808              0.0            0.0          1.0           0.0   \n",
       "7809              0.0            0.0          0.0           1.0   \n",
       "7810              0.0            0.0          1.0           0.0   \n",
       "7811              0.0            0.0          0.0           0.0   \n",
       "\n",
       "      Material_SiO2  log Area/Vol  ShortestDim  MiddleDim  LongDim  \n",
       "0               0.0      3.785575         0.05       0.55     4.71  \n",
       "1               1.0      1.412331         0.75       2.78     2.78  \n",
       "2               0.0      1.523726         0.90       8.29    21.49  \n",
       "3               1.0      0.795989         1.93       1.93    13.88  \n",
       "4               0.0      3.962482         0.08       0.56     1.26  \n",
       "...             ...           ...          ...        ...      ...  \n",
       "7807            0.0      3.412746         0.17       0.48     0.48  \n",
       "7808            0.0      2.329279         0.51       1.37     1.37  \n",
       "7809            0.0      2.016808         0.66       2.06     2.26  \n",
       "7810            0.0      3.335932         0.09       0.68     0.68  \n",
       "7811            1.0      2.751874         0.26       0.26     6.96  \n",
       "\n",
       "[7812 rows x 12 columns]"
      ]
     },
     "execution_count": 117,
     "metadata": {},
     "output_type": "execute_result"
    }
   ],
   "source": [
    "spectra_train = joblib.load('cache/r20200406_234541_50.0sc_50.0sp_1_CPU/spectral/y_new_train.joblib')\n",
    "spectra_test = joblib.load('cache/r20200406_234541_50.0sc_50.0sp_1_CPU/spectral/y_test.joblib')\n",
    "labels_train = joblib.load('cache/r20200406_234541_50.0sc_50.0sp_1_CPU/spectral/x_new_train.joblib').reset_index()\n",
    "labels_test = joblib.load('cache/r20200406_234541_50.0sc_50.0sp_1_CPU/spectral/x_test.joblib').reset_index()\n",
    "labels_train_smaller = joblib.load('cache/r20200406_234541_50.0sc_50.0sp_1_CPU/spectral/x_train.joblib').reset_index()\n",
    "spectra_train_smaller = joblib.load('cache/r20200406_234541_50.0sc_50.0sp_1_CPU/spectral/y_train.joblib')\n"
   ]
  },
  {
   "cell_type": "markdown",
   "metadata": {},
   "source": [
    "Define functions used for building the model and parsing datasets"
   ]
  },
  {
   "cell_type": "code",
   "execution_count": null,
   "metadata": {},
   "outputs": [],
   "source": [
    "def preliminary_NN(xtrain, ytrain, xtest, ytest, num_catagories):\n",
    "    # Xtrain and xtest should be spectra while ytrain and ytest should be specifications of materials \n",
    "    # num_catagories (int) should be the number of options availble for the catagorical variable being predicted (ie 3 for \n",
    "    # material type since there are 3 materials)\n",
    "    model = Sequential()\n",
    "    model.add(Dense(512, activation='relu', input_shape=(400,)))\n",
    "    model.add(Dense(num_catagories, activation='softmax'))\n",
    "    model.summary()\n",
    "    \n",
    "    model.compile(loss='categorical_crossentropy',\n",
    "              optimizer=RMSprop(),\n",
    "              metrics=['accuracy'])\n",
    "    history = model.fit(xtrain, ytrain,\n",
    "                    batch_size=100,\n",
    "                    epochs=10,\n",
    "                    verbose=2,\n",
    "                    validation_data=(xtest, ytest))"
   ]
  },
  {
   "cell_type": "code",
   "execution_count": 13,
   "metadata": {},
   "outputs": [],
   "source": [
    "def drop_indicies(df, column, condition_to_drop, update_existing_file = True):\n",
    "    df_condition = df[column] == condition_to_drop \n",
    "    \"\"\"\n",
    "    This function takes a pandas df as input and drops a series of rows depending on a specified condition. For example, use this\n",
    "    function to search through x_train and drop all rows where the material is not gold. \n",
    "    \n",
    "    df - pandas dataframe \n",
    "    column - STR the column of the dataframe you want to use to determine if a row should be dropped \n",
    "    condition_to_drop - choose condition_to_drop such that the expression evalutes to true for the condition you want dropped \n",
    "    (ie if I want to only have Au samples, my column would be Material_Au and my condition would be 0, so that when the \n",
    "    condition would be true if the material was not gold)\n",
    "    update_existing_file - BOOL, determines if the df that is inputted to this function is updated or if a new df with only the\n",
    "    columns that aren't dropped by this function \n",
    "    \"\"\"\n",
    "    indicies_to_drop_list = []\n",
    "    for row in df_condition.index:\n",
    "        if df_condition.iloc[row] == True:\n",
    "            indicies_to_drop_list.append(row)\n",
    "    \n",
    "    if update_existing_file == True:\n",
    "        df.drop(indicies_to_drop_list, inplace=update_existing_file)\n",
    "        return indicies_to_drop_list\n",
    "    if update_existing_file == False:\n",
    "        df_new = df.drop(indicies_to_drop_list, inplace=update_existing_file)\n",
    "        return (df_new, indicies_to_drop_list)\n",
    "        "
   ]
  },
  {
   "cell_type": "markdown",
   "metadata": {},
   "source": [
    "Train model to predict the material of the particle corresponding to a spectrum "
   ]
  },
  {
   "cell_type": "code",
   "execution_count": 14,
   "metadata": {},
   "outputs": [],
   "source": [
    "labels_train_material = labels_train.drop(columns = ['log Area/Vol', 'ShortestDim', 'MiddleDim', 'LongDim', 'Geometry_TriangPrismIsosc',\n",
    "                                                    'Geometry_parallelepiped', 'Geometry_sphere', 'Geometry_wire', 'index'] )\n",
    "labels_test_material = labels_test.drop(columns = ['log Area/Vol', 'ShortestDim', 'MiddleDim', 'LongDim', 'Geometry_TriangPrismIsosc',\n",
    "                                                    'Geometry_parallelepiped', 'Geometry_sphere', 'Geometry_wire', 'index'] )"
   ]
  },
  {
   "cell_type": "code",
   "execution_count": 65,
   "metadata": {},
   "outputs": [
    {
     "name": "stdout",
     "output_type": "stream",
     "text": [
      "[[1. 0. 0.]\n",
      " [0. 0. 1.]\n",
      " [0. 1. 0.]\n",
      " ...\n",
      " [0. 1. 0.]\n",
      " [1. 0. 0.]\n",
      " [0. 0. 1.]]\n"
     ]
    }
   ],
   "source": [
    "labels_train_material_as_array = labels_train_material.to_numpy()\n",
    "print(labels_train_material_as_array)\n",
    "labels_test_material_as_array = labels_test_material.to_numpy()"
   ]
  },
  {
   "cell_type": "code",
   "execution_count": 146,
   "metadata": {},
   "outputs": [
    {
     "name": "stdout",
     "output_type": "stream",
     "text": [
      "Model: \"sequential_14\"\n",
      "_________________________________________________________________\n",
      "Layer (type)                 Output Shape              Param #   \n",
      "=================================================================\n",
      "dense_29 (Dense)             (None, 512)               205312    \n",
      "_________________________________________________________________\n",
      "dense_30 (Dense)             (None, 3)                 1539      \n",
      "=================================================================\n",
      "Total params: 206,851\n",
      "Trainable params: 206,851\n",
      "Non-trainable params: 0\n",
      "_________________________________________________________________\n",
      "Train on 164052 samples, validate on 7813 samples\n",
      "Epoch 1/10\n",
      "164052/164052 - 6s - loss: 0.0197 - accuracy: 0.9992 - val_loss: 0.0689 - val_accuracy: 0.9994\n",
      "Epoch 2/10\n",
      "164052/164052 - 5s - loss: 0.0026 - accuracy: 1.0000 - val_loss: 0.0029 - val_accuracy: 0.9997\n",
      "Epoch 3/10\n",
      "164052/164052 - 5s - loss: 3.9521e-04 - accuracy: 1.0000 - val_loss: 3.8173e-08 - val_accuracy: 1.0000\n",
      "Epoch 4/10\n",
      "164052/164052 - 5s - loss: 9.0534e-09 - accuracy: 1.0000 - val_loss: 0.0064 - val_accuracy: 0.9996\n",
      "Epoch 5/10\n",
      "164052/164052 - 5s - loss: 5.1771e-07 - accuracy: 1.0000 - val_loss: 1.2511e-08 - val_accuracy: 1.0000\n",
      "Epoch 6/10\n",
      "164052/164052 - 5s - loss: 4.9522e-09 - accuracy: 1.0000 - val_loss: 8.3002e-09 - val_accuracy: 1.0000\n",
      "Epoch 7/10\n",
      "164052/164052 - 5s - loss: 3.7139e-09 - accuracy: 1.0000 - val_loss: 0.0021 - val_accuracy: 0.9999\n",
      "Epoch 8/10\n",
      "164052/164052 - 5s - loss: 2.0397e-04 - accuracy: 1.0000 - val_loss: 1.9590e-08 - val_accuracy: 1.0000\n",
      "Epoch 9/10\n",
      "164052/164052 - 5s - loss: 9.2009e-05 - accuracy: 1.0000 - val_loss: 3.7239e-08 - val_accuracy: 1.0000\n",
      "Epoch 10/10\n",
      "164052/164052 - 6s - loss: 2.8092e-09 - accuracy: 1.0000 - val_loss: 3.2194e-09 - val_accuracy: 1.0000\n"
     ]
    }
   ],
   "source": [
    "preliminary_NN(spectra_train, labels_train_material_as_array, spectra_test, labels_test_material_as_array, 3)"
   ]
  },
  {
   "cell_type": "markdown",
   "metadata": {},
   "source": [
    "I got an accuracy of 1.0000"
   ]
  },
  {
   "cell_type": "markdown",
   "metadata": {},
   "source": [
    "Train model to predict the shape of the particle corresponding to a spectrum "
   ]
  },
  {
   "cell_type": "code",
   "execution_count": 16,
   "metadata": {},
   "outputs": [],
   "source": [
    "labels_train_shape = labels_train.drop(columns = ['index','log Area/Vol', 'ShortestDim', 'MiddleDim', 'LongDim', 'Material_Au', \n",
    "                                                    'Material_SiN', 'Material_SiO2', 'index'] )\n",
    "labels_test_shape = labels_test.drop(columns = ['index','log Area/Vol', 'ShortestDim', 'MiddleDim', 'LongDim', 'Material_Au',\n",
    "                                                    'Material_SiN', 'Material_SiO2', 'index'] )\n",
    "\n",
    "labels_train_shape_as_array = labels_train_shape.to_numpy()\n",
    "labels_test_shape_as_array = labels_test_shape.to_numpy()"
   ]
  },
  {
   "cell_type": "code",
   "execution_count": 155,
   "metadata": {},
   "outputs": [
    {
     "name": "stdout",
     "output_type": "stream",
     "text": [
      "Model: \"sequential_17\"\n",
      "_________________________________________________________________\n",
      "Layer (type)                 Output Shape              Param #   \n",
      "=================================================================\n",
      "dense_35 (Dense)             (None, 512)               205312    \n",
      "_________________________________________________________________\n",
      "dense_36 (Dense)             (None, 4)                 2052      \n",
      "=================================================================\n",
      "Total params: 207,364\n",
      "Trainable params: 207,364\n",
      "Non-trainable params: 0\n",
      "_________________________________________________________________\n",
      "Train on 164052 samples, validate on 7813 samples\n",
      "Epoch 1/10\n",
      "164052/164052 - 6s - loss: 0.8693 - accuracy: 0.5908 - val_loss: 1.0397 - val_accuracy: 0.4894\n",
      "Epoch 2/10\n",
      "164052/164052 - 5s - loss: 0.7536 - accuracy: 0.6385 - val_loss: 1.1194 - val_accuracy: 0.4748\n",
      "Epoch 3/10\n",
      "164052/164052 - 5s - loss: 0.7208 - accuracy: 0.6531 - val_loss: 1.0278 - val_accuracy: 0.5266\n",
      "Epoch 4/10\n",
      "164052/164052 - 5s - loss: 0.6997 - accuracy: 0.6619 - val_loss: 0.9537 - val_accuracy: 0.5531\n",
      "Epoch 5/10\n",
      "164052/164052 - 5s - loss: 0.6833 - accuracy: 0.6679 - val_loss: 0.9839 - val_accuracy: 0.5637\n",
      "Epoch 6/10\n",
      "164052/164052 - 5s - loss: 0.6726 - accuracy: 0.6736 - val_loss: 0.9957 - val_accuracy: 0.5346\n",
      "Epoch 7/10\n",
      "164052/164052 - 5s - loss: 0.6627 - accuracy: 0.6770 - val_loss: 1.1056 - val_accuracy: 0.4921\n",
      "Epoch 8/10\n",
      "164052/164052 - 6s - loss: 0.6543 - accuracy: 0.6820 - val_loss: 1.0334 - val_accuracy: 0.5452\n",
      "Epoch 9/10\n",
      "164052/164052 - 5s - loss: 0.6468 - accuracy: 0.6856 - val_loss: 1.0497 - val_accuracy: 0.5368\n",
      "Epoch 10/10\n",
      "164052/164052 - 5s - loss: 0.6405 - accuracy: 0.6876 - val_loss: 0.9178 - val_accuracy: 0.5728\n"
     ]
    }
   ],
   "source": [
    "preliminary_NN(spectra_train, labels_train_shape_as_array, spectra_test, labels_test_shape_as_array, 4)"
   ]
  },
  {
   "cell_type": "markdown",
   "metadata": {},
   "source": [
    "I ran this a couple times with different set ups and my best model was around 57% accuracy"
   ]
  },
  {
   "cell_type": "markdown",
   "metadata": {},
   "source": [
    "Train model to predict the shape of the particle corresponding to a spectrum for ONLY GOLD"
   ]
  },
  {
   "cell_type": "code",
   "execution_count": 118,
   "metadata": {},
   "outputs": [],
   "source": [
    "labels_train_shape_Au = labels_train.drop(columns = ['index','log Area/Vol', 'ShortestDim', 'MiddleDim', 'LongDim', \n",
    "                                                    'Material_SiN', 'Material_SiO2'] )\n",
    "labels_test_shape_Au = labels_test.drop(columns = ['index','log Area/Vol', 'ShortestDim', 'MiddleDim', 'LongDim', \n",
    "                                                    'Material_SiN', 'Material_SiO2'] )\n",
    "indicies_to_drop_train_list = drop_indicies(labels_train_shape_Au, 'Material_Au', 0, True)\n",
    "indicies_to_drop_test_list = drop_indicies(labels_test_shape_Au, 'Material_Au', 0, True)"
   ]
  },
  {
   "cell_type": "code",
   "execution_count": 119,
   "metadata": {},
   "outputs": [],
   "source": [
    "labels_train_shape_Au.drop(columns = ['Material_Au'] , inplace=True)\n",
    "labels_test_shape_Au.drop(columns = ['Material_Au'] , inplace=True)\n",
    "\n",
    "spectra_train_df = pd.DataFrame(spectra_train)\n",
    "spectra_test_df = pd.DataFrame(spectra_test)\n",
    "\n",
    "spectra_train_df.drop(indicies_to_drop_train_list, inplace=True)\n",
    "spectra_test_df.drop(indicies_to_drop_test_list, inplace=True)"
   ]
  },
  {
   "cell_type": "code",
   "execution_count": 19,
   "metadata": {},
   "outputs": [],
   "source": [
    "labels_train_shape_Au_as_array = labels_train_shape_Au.to_numpy()\n",
    "labels_test_shape_Au_as_array = labels_test_shape_Au.to_numpy()\n",
    "spectra_train_shape_Au_as_array = spectra_train_df.to_numpy()\n",
    "spectra_test_shape_Au_as_array= spectra_test_df.to_numpy()"
   ]
  },
  {
   "cell_type": "code",
   "execution_count": 152,
   "metadata": {},
   "outputs": [
    {
     "name": "stdout",
     "output_type": "stream",
     "text": [
      "Model: \"sequential_16\"\n",
      "_________________________________________________________________\n",
      "Layer (type)                 Output Shape              Param #   \n",
      "=================================================================\n",
      "dense_33 (Dense)             (None, 512)               205312    \n",
      "_________________________________________________________________\n",
      "dense_34 (Dense)             (None, 4)                 2052      \n",
      "=================================================================\n",
      "Total params: 207,364\n",
      "Trainable params: 207,364\n",
      "Non-trainable params: 0\n",
      "_________________________________________________________________\n",
      "Train on 54950 samples, validate on 2604 samples\n",
      "Epoch 1/10\n",
      "54950/54950 - 2s - loss: 1.0649 - accuracy: 0.5310 - val_loss: 1.3469 - val_accuracy: 0.4581\n",
      "Epoch 2/10\n",
      "54950/54950 - 2s - loss: 0.9098 - accuracy: 0.5901 - val_loss: 1.3126 - val_accuracy: 0.4343\n",
      "Epoch 3/10\n",
      "54950/54950 - 2s - loss: 0.8674 - accuracy: 0.6084 - val_loss: 1.2200 - val_accuracy: 0.4528\n",
      "Epoch 4/10\n",
      "54950/54950 - 2s - loss: 0.8426 - accuracy: 0.6185 - val_loss: 1.3035 - val_accuracy: 0.4658\n",
      "Epoch 5/10\n",
      "54950/54950 - 2s - loss: 0.8250 - accuracy: 0.6223 - val_loss: 1.3305 - val_accuracy: 0.4328\n",
      "Epoch 6/10\n",
      "54950/54950 - 2s - loss: 0.8137 - accuracy: 0.6268 - val_loss: 1.1053 - val_accuracy: 0.5008\n",
      "Epoch 7/10\n",
      "54950/54950 - 2s - loss: 0.8034 - accuracy: 0.6317 - val_loss: 1.2405 - val_accuracy: 0.4854\n",
      "Epoch 8/10\n",
      "54950/54950 - 2s - loss: 0.7973 - accuracy: 0.6330 - val_loss: 1.0874 - val_accuracy: 0.5058\n",
      "Epoch 9/10\n",
      "54950/54950 - 2s - loss: 0.7902 - accuracy: 0.6359 - val_loss: 1.1983 - val_accuracy: 0.4854\n",
      "Epoch 10/10\n",
      "54950/54950 - 2s - loss: 0.7850 - accuracy: 0.6388 - val_loss: 1.1497 - val_accuracy: 0.4927\n"
     ]
    }
   ],
   "source": [
    "preliminary_NN(spectra_train_shape_Au_as_array, labels_train_shape_Au_as_array, spectra_test_shape_Au_as_array, labels_test_shape_Au_as_array, 4)"
   ]
  },
  {
   "cell_type": "code",
   "execution_count": 11,
   "metadata": {},
   "outputs": [
    {
     "data": {
      "text/plain": [
       "array([[0., 0., 0., 1.],\n",
       "       [0., 1., 0., 0.],\n",
       "       [1., 0., 0., 0.],\n",
       "       ...,\n",
       "       [1., 0., 0., 0.],\n",
       "       [0., 1., 0., 0.],\n",
       "       [0., 1., 0., 0.]])"
      ]
     },
     "execution_count": 11,
     "metadata": {},
     "output_type": "execute_result"
    }
   ],
   "source": [
    "labels_train_shape_Au_as_array"
   ]
  },
  {
   "cell_type": "markdown",
   "metadata": {},
   "source": [
    "This one I'm pretty surpised by - I tried a couple different models and I never got above 51%, I really thought this would be better than looking at all the materials"
   ]
  },
  {
   "cell_type": "code",
   "execution_count": 12,
   "metadata": {},
   "outputs": [
    {
     "data": {
      "text/plain": [
       "RandomForestClassifier(bootstrap=True, class_weight=None, criterion='gini',\n",
       "                       max_depth=None, max_features='auto', max_leaf_nodes=None,\n",
       "                       min_impurity_decrease=0.0, min_impurity_split=None,\n",
       "                       min_samples_leaf=1, min_samples_split=2,\n",
       "                       min_weight_fraction_leaf=0.0, n_estimators=100,\n",
       "                       n_jobs=None, oob_score=False, random_state=None,\n",
       "                       verbose=0, warm_start=False)"
      ]
     },
     "execution_count": 12,
     "metadata": {},
     "output_type": "execute_result"
    }
   ],
   "source": [
    "rf_Au_model = RandomForestClassifier(n_estimators = 100)\n",
    "rf_Au_model.fit(spectra_train_shape_Au_as_array, labels_train_shape_Au_as_array)"
   ]
  },
  {
   "cell_type": "code",
   "execution_count": 13,
   "metadata": {},
   "outputs": [
    {
     "data": {
      "text/plain": [
       "0.5841013824884793"
      ]
     },
     "execution_count": 13,
     "metadata": {},
     "output_type": "execute_result"
    }
   ],
   "source": [
    "rf_Au_model.score(spectra_test_shape_Au_as_array, labels_test_shape_Au_as_array)"
   ]
  },
  {
   "cell_type": "code",
   "execution_count": 14,
   "metadata": {},
   "outputs": [
    {
     "data": {
      "text/plain": [
       "array([[1., 0., 0., 0.]])"
      ]
     },
     "execution_count": 14,
     "metadata": {},
     "output_type": "execute_result"
    }
   ],
   "source": [
    "rf_Au_model.predict([spectra_test_shape_Au_as_array[0]])"
   ]
  },
  {
   "cell_type": "code",
   "execution_count": 16,
   "metadata": {},
   "outputs": [
    {
     "data": {
      "text/plain": [
       "1.0"
      ]
     },
     "execution_count": 16,
     "metadata": {},
     "output_type": "execute_result"
    }
   ],
   "source": [
    "rf_model = RandomForestClassifier(n_estimators=100)\n",
    "rf_model.fit(spectra_train, labels_train_material_as_array)\n",
    "rf_model.score(spectra_test, labels_test_material_as_array)"
   ]
  },
  {
   "cell_type": "code",
   "execution_count": 17,
   "metadata": {},
   "outputs": [
    {
     "data": {
      "text/plain": [
       "0.6476385511327275"
      ]
     },
     "execution_count": 17,
     "metadata": {},
     "output_type": "execute_result"
    }
   ],
   "source": [
    "rf_model_shape = RandomForestClassifier(n_estimators=100)\n",
    "rf_model_shape.fit(spectra_train, labels_train_shape_as_array)\n",
    "rf_model_shape.score(spectra_test, labels_test_shape_as_array)"
   ]
  },
  {
   "cell_type": "code",
   "execution_count": 20,
   "metadata": {},
   "outputs": [],
   "source": [
    "from_one_hot_dict = {(1.,0.,0.,0.) : 0, (0.,1.,0.,0.) : 1, (0.,0.,1.,0.) : 2, (0.,0.,0.,1.) : 3}\n",
    "from_one_hot_dict_materials = {(1.,0.,0.) : 0, (0.,1.,0.) : 1, (0.,0.,1.) : 2}\n",
    "\n",
    "\n",
    "\n",
    "def convert_from_one_hot(df_as_array, dictionary):\n",
    "    catagories_list = []\n",
    "    for row in df_as_array:\n",
    "        row_tuple = tuple(row)\n",
    "        catagories_list.append(dictionary[row_tuple])\n",
    "    catagories_list_array = np.asarray(catagories_list)\n",
    "    print('done')\n",
    "    return catagories_list_array"
   ]
  },
  {
   "cell_type": "code",
   "execution_count": 21,
   "metadata": {},
   "outputs": [
    {
     "name": "stdout",
     "output_type": "stream",
     "text": [
      "done\n"
     ]
    }
   ],
   "source": [
    "labels_train_shape_Au_as_array_wo_OHE = convert_from_one_hot(labels_train_shape_Au_as_array, from_one_hot_dict)"
   ]
  },
  {
   "cell_type": "code",
   "execution_count": 22,
   "metadata": {},
   "outputs": [
    {
     "name": "stdout",
     "output_type": "stream",
     "text": [
      "done\n"
     ]
    }
   ],
   "source": [
    "labels_test_shape_Au_as_array_wo_OHE = convert_from_one_hot(labels_test_shape_Au_as_array, from_one_hot_dict)"
   ]
  },
  {
   "cell_type": "code",
   "execution_count": 149,
   "metadata": {},
   "outputs": [
    {
     "data": {
      "text/plain": [
       "RandomForestClassifier(bootstrap=True, class_weight=None, criterion='gini',\n",
       "                       max_depth=None, max_features='auto', max_leaf_nodes=None,\n",
       "                       min_impurity_decrease=0.0, min_impurity_split=None,\n",
       "                       min_samples_leaf=1, min_samples_split=2,\n",
       "                       min_weight_fraction_leaf=0.0, n_estimators=100,\n",
       "                       n_jobs=None, oob_score=False, random_state=None,\n",
       "                       verbose=0, warm_start=False)"
      ]
     },
     "execution_count": 149,
     "metadata": {},
     "output_type": "execute_result"
    }
   ],
   "source": [
    "rf_Au_model_wo_OHE = RandomForestClassifier(n_estimators = 100)\n",
    "rf_Au_model_wo_OHE.fit(spectra_train_shape_Au_as_array, labels_train_shape_Au_as_array_wo_OHE)"
   ]
  },
  {
   "cell_type": "code",
   "execution_count": 150,
   "metadata": {},
   "outputs": [
    {
     "data": {
      "text/plain": [
       "0.6728110599078341"
      ]
     },
     "execution_count": 150,
     "metadata": {},
     "output_type": "execute_result"
    }
   ],
   "source": [
    "rf_Au_model_wo_OHE.score(spectra_test_shape_Au_as_array, labels_test_shape_Au_as_array_wo_OHE)"
   ]
  },
  {
   "cell_type": "code",
   "execution_count": 304,
   "metadata": {},
   "outputs": [
    {
     "data": {
      "text/plain": [
       "['rf_Au_model_wo_OHE.joblib']"
      ]
     },
     "execution_count": 304,
     "metadata": {},
     "output_type": "execute_result"
    }
   ],
   "source": [
    "joblib.dump(rf_Au_model_wo_OHE, \"rf_Au_model_wo_OHE.joblib\")"
   ]
  },
  {
   "cell_type": "code",
   "execution_count": 23,
   "metadata": {},
   "outputs": [
    {
     "name": "stdout",
     "output_type": "stream",
     "text": [
      "done\n",
      "done\n"
     ]
    }
   ],
   "source": [
    "labels_train_shape_as_array_wo_OHE = convert_from_one_hot(labels_train_shape_as_array, from_one_hot_dict)\n",
    "labels_test_shape_as_array_wo_OHE = convert_from_one_hot(labels_test_shape_as_array, from_one_hot_dict)"
   ]
  },
  {
   "cell_type": "code",
   "execution_count": 305,
   "metadata": {},
   "outputs": [
    {
     "data": {
      "text/plain": [
       "0.714322283373864"
      ]
     },
     "execution_count": 305,
     "metadata": {},
     "output_type": "execute_result"
    }
   ],
   "source": [
    "rf_model_shape_wo_OHE = RandomForestClassifier(n_estimators=100)\n",
    "rf_model_shape_wo_OHE.fit(spectra_train, labels_train_shape_as_array_wo_OHE)\n",
    "rf_model_shape_wo_OHE.score(spectra_test, labels_test_shape_as_array_wo_OHE)"
   ]
  },
  {
   "cell_type": "code",
   "execution_count": 306,
   "metadata": {},
   "outputs": [
    {
     "data": {
      "text/plain": [
       "['rf_model_shape_wo_OHE.joblib']"
      ]
     },
     "execution_count": 306,
     "metadata": {},
     "output_type": "execute_result"
    }
   ],
   "source": [
    "joblib.dump(rf_model_shape_wo_OHE, \"rf_model_shape_wo_OHE.joblib\")"
   ]
  },
  {
   "cell_type": "code",
   "execution_count": 24,
   "metadata": {},
   "outputs": [
    {
     "name": "stdout",
     "output_type": "stream",
     "text": [
      "41815\n",
      "41943\n",
      "39822\n",
      "40472\n"
     ]
    },
    {
     "data": {
      "image/png": "[encoded data removed]",
      "text/plain": [
       "<Figure size 432x288 with 1 Axes>"
      ]
     },
     "metadata": {
      "needs_background": "light"
     },
     "output_type": "display_data"
    }
   ],
   "source": [
    "labels_train_shape_wo_OHE = list(labels_train_shape_as_array_wo_OHE)\n",
    "print(labels_train_shape_wo_OHE.count(0))\n",
    "print(labels_train_shape_wo_OHE.count(1))\n",
    "print(labels_train_shape_wo_OHE.count(2))\n",
    "print(labels_train_shape_wo_OHE.count(3))\n",
    "data_points_list_shape = [labels_train_shape_wo_OHE.count(0), labels_train_shape_wo_OHE.count(1), labels_train_shape_wo_OHE.count(2),\n",
    "                         labels_train_shape_wo_OHE.count(3)]\n",
    "catagories_shape_prediction = [\"TriangPrismIsosc\", \"Parallelepiped\", \"Sphere\", \"Wire\"]\n",
    "sns.barplot(catagories_shape_prediction, data_points_list_shape).set(title = \"Data for each shape\", ylabel = \"Number of Points\", ylim = [30000,43000])\n",
    "plt.savefig('Number_of_points_for_each_shape.png', format='png')"
   ]
  },
  {
   "cell_type": "code",
   "execution_count": 67,
   "metadata": {},
   "outputs": [
    {
     "name": "stdout",
     "output_type": "stream",
     "text": [
      "54950\n",
      "54556\n",
      "54546\n"
     ]
    },
    {
     "data": {
      "image/png": "[encoded data removed]",
      "text/plain": [
       "<Figure size 432x288 with 1 Axes>"
      ]
     },
     "metadata": {
      "needs_background": "light"
     },
     "output_type": "display_data"
    }
   ],
   "source": [
    "labels_train_shape_wo_OHE = list(labels_train_shape_as_array_wo_OHE)\n",
    "labels_train_material_wo_OHE = list(labels_train_material_as_array_wo_OHE)\n",
    "print(labels_train_material_wo_OHE.count(0))\n",
    "print(labels_train_material_wo_OHE.count(1))\n",
    "print(labels_train_material_wo_OHE.count(2))\n",
    "data_points_list_shape = [labels_train_material_wo_OHE.count(0), labels_train_material_wo_OHE.count(1), labels_train_material_wo_OHE.count(2)]\n",
    "catagories_shape_prediction = [\"Au\", \"SiN\", \"SiO2\"]\n",
    "sns.barplot(catagories_shape_prediction, data_points_list_shape).set(title = \"Data for each material\", ylabel = \"Number of Points\", ylim = [50000,56000])\n",
    "plt.savefig('Number_of_points_for_each_material.png', format='png')"
   ]
  },
  {
   "cell_type": "code",
   "execution_count": 25,
   "metadata": {},
   "outputs": [
    {
     "name": "stdout",
     "output_type": "stream",
     "text": [
      "3000\n",
      "3000\n",
      "613\n",
      "1200\n"
     ]
    }
   ],
   "source": [
    "labels_test_shape_wo_OHE = list(labels_test_shape_as_array_wo_OHE)\n",
    "print(labels_test_shape_wo_OHE.count(0))\n",
    "print(labels_test_shape_wo_OHE.count(1))\n",
    "print(labels_test_shape_wo_OHE.count(2))\n",
    "print(labels_test_shape_wo_OHE.count(3))"
   ]
  },
  {
   "cell_type": "code",
   "execution_count": 26,
   "metadata": {},
   "outputs": [
    {
     "ename": "NameError",
     "evalue": "name 'rf_model_shape_wo_OHE' is not defined",
     "output_type": "error",
     "traceback": [
      "\u001b[1;31m---------------------------------------------------------------------------\u001b[0m",
      "\u001b[1;31mNameError\u001b[0m                                 Traceback (most recent call last)",
      "\u001b[1;32m<ipython-input-26-3b7016fd30cb>\u001b[0m in \u001b[0;36m<module>\u001b[1;34m\u001b[0m\n\u001b[1;32m----> 1\u001b[1;33m \u001b[0mpredictions\u001b[0m \u001b[1;33m=\u001b[0m \u001b[0mrf_model_shape_wo_OHE\u001b[0m\u001b[1;33m.\u001b[0m\u001b[0mpredict\u001b[0m\u001b[1;33m(\u001b[0m\u001b[0mspectra_test\u001b[0m\u001b[1;33m)\u001b[0m\u001b[1;33m\u001b[0m\u001b[1;33m\u001b[0m\u001b[0m\n\u001b[0m",
      "\u001b[1;31mNameError\u001b[0m: name 'rf_model_shape_wo_OHE' is not defined"
     ]
    }
   ],
   "source": [
    "predictions = rf_model_shape_wo_OHE.predict(spectra_test)"
   ]
  },
  {
   "cell_type": "code",
   "execution_count": 27,
   "metadata": {},
   "outputs": [
    {
     "ename": "NameError",
     "evalue": "name 'predictions' is not defined",
     "output_type": "error",
     "traceback": [
      "\u001b[1;31m---------------------------------------------------------------------------\u001b[0m",
      "\u001b[1;31mNameError\u001b[0m                                 Traceback (most recent call last)",
      "\u001b[1;32m<ipython-input-27-b7d536ab2ae1>\u001b[0m in \u001b[0;36m<module>\u001b[1;34m\u001b[0m\n\u001b[1;32m----> 1\u001b[1;33m \u001b[0mcm_rf\u001b[0m \u001b[1;33m=\u001b[0m \u001b[0mconfusion_matrix\u001b[0m\u001b[1;33m(\u001b[0m\u001b[0mlabels_test_shape_wo_OHE\u001b[0m\u001b[1;33m,\u001b[0m \u001b[0mpredictions\u001b[0m\u001b[1;33m)\u001b[0m\u001b[1;33m\u001b[0m\u001b[1;33m\u001b[0m\u001b[0m\n\u001b[0m\u001b[0;32m      2\u001b[0m \u001b[0mprint\u001b[0m\u001b[1;33m(\u001b[0m\u001b[0mcm_rf\u001b[0m\u001b[1;33m)\u001b[0m\u001b[1;33m\u001b[0m\u001b[1;33m\u001b[0m\u001b[0m\n\u001b[0;32m      3\u001b[0m \u001b[1;32mdef\u001b[0m \u001b[0mnormalize_cm\u001b[0m\u001b[1;33m(\u001b[0m\u001b[0mcm\u001b[0m\u001b[1;33m,\u001b[0m \u001b[0mtest_set\u001b[0m\u001b[1;33m,\u001b[0m \u001b[0mnum_catagories\u001b[0m\u001b[1;33m)\u001b[0m\u001b[1;33m:\u001b[0m\u001b[1;33m\u001b[0m\u001b[1;33m\u001b[0m\u001b[0m\n\u001b[0;32m      4\u001b[0m     \u001b[0mnormalized_list_cm\u001b[0m \u001b[1;33m=\u001b[0m \u001b[1;33m[\u001b[0m\u001b[1;33m]\u001b[0m\u001b[1;33m\u001b[0m\u001b[1;33m\u001b[0m\u001b[0m\n\u001b[0;32m      5\u001b[0m     \u001b[1;32mfor\u001b[0m \u001b[0mi\u001b[0m \u001b[1;32min\u001b[0m \u001b[0mrange\u001b[0m\u001b[1;33m(\u001b[0m\u001b[1;36m0\u001b[0m\u001b[1;33m,\u001b[0m \u001b[0mnum_catagories\u001b[0m\u001b[1;33m)\u001b[0m\u001b[1;33m:\u001b[0m\u001b[1;33m\u001b[0m\u001b[1;33m\u001b[0m\u001b[0m\n",
      "\u001b[1;31mNameError\u001b[0m: name 'predictions' is not defined"
     ]
    }
   ],
   "source": [
    "cm_rf = confusion_matrix(labels_test_shape_wo_OHE, predictions)\n",
    "print(cm_rf)\n",
    "def normalize_cm(cm, test_set, num_catagories):\n",
    "    normalized_list_cm = []\n",
    "    for i in range(0, num_catagories):\n",
    "        list_cm = list(cm[i])\n",
    "        print(test_set.count(i))\n",
    "        normalized_row_cm = [x /test_set.count(i) for x in  list_cm]\n",
    "        normalized_list_cm.append(normalized_row_cm)\n",
    "        \n",
    "    return normalized_list_cm\n",
    "\n",
    "cm_normalized_rf = normalize_cm(cm_rf, labels_test_shape_wo_OHE, 4)"
   ]
  },
  {
   "cell_type": "code",
   "execution_count": 265,
   "metadata": {},
   "outputs": [],
   "source": [
    "def plot_accuracy(cm, catagories, title, y_range = [0.5,1]):\n",
    "    accuracies = []\n",
    "    for i in range(0, len(catagories)):\n",
    "        print(cm[i][i])\n",
    "        accuracies.append(cm[i][i])\n",
    "    sns.barplot(catagories, accuracies).set(title = title, ylabel = \"Accuracy\", ylim = y_range)\n",
    "    plt.savefig(str(title) + '.png', format='png')\n"
   ]
  },
  {
   "cell_type": "code",
   "execution_count": 309,
   "metadata": {},
   "outputs": [
    {
     "name": "stdout",
     "output_type": "stream",
     "text": [
      "0.7193333333333334\n",
      "0.6286666666666667\n",
      "0.9951060358890701\n",
      "0.7725\n"
     ]
    },
    {
     "data": {
      "image/png": "[encoded data removed]",
      "text/plain": [
       "<Figure size 432x288 with 1 Axes>"
      ]
     },
     "metadata": {
      "needs_background": "light"
     },
     "output_type": "display_data"
    }
   ],
   "source": [
    "#print(labels_train_shape.columns)\n",
    "catagories_shape_prediction = [\"TriangPrismIsosc\", \"Parallelepiped\", \"Sphere\", \"Wire\"]\n",
    "plot_accuracy(cm_normalized_rf, catagories_shape_prediction, \"Accuracy of Shapes\")"
   ]
  },
  {
   "cell_type": "code",
   "execution_count": 34,
   "metadata": {},
   "outputs": [],
   "source": [
    "#rf_model_shape_wo_OHE.n_features_\n",
    "#features_list = [200,250,300,350,400]\n",
    "#for feature in features_list:\n",
    "    "
   ]
  },
  {
   "cell_type": "code",
   "execution_count": 310,
   "metadata": {},
   "outputs": [
    {
     "name": "stdout",
     "output_type": "stream",
     "text": [
      "1000\n",
      "1000\n",
      "204\n",
      "400\n",
      "0.674\n",
      "0.563\n",
      "0.9852941176470589\n",
      "0.775\n"
     ]
    },
    {
     "data": {
      "image/png": "[encoded data removed]",
      "text/plain": [
       "<Figure size 432x288 with 1 Axes>"
      ]
     },
     "metadata": {
      "needs_background": "light"
     },
     "output_type": "display_data"
    }
   ],
   "source": [
    "predictions_Au = rf_Au_model_wo_OHE.predict(spectra_test_shape_Au_as_array)\n",
    "\n",
    "cm_rf_Au = confusion_matrix(labels_test_shape_Au_as_array_wo_OHE, predictions_Au)\n",
    "labels_test_shape_Au_wo_OHE = list(labels_test_shape_Au_as_array_wo_OHE)\n",
    "cm_normalized_rf_Au = normalize_cm(cm_rf_Au, labels_test_shape_Au_wo_OHE, 4)\n",
    "plot_accuracy(cm_normalized_rf_Au, catagories_shape_prediction, \"Accuracy of Shapes only Au\")"
   ]
  },
  {
   "cell_type": "code",
   "execution_count": 36,
   "metadata": {},
   "outputs": [
    {
     "name": "stdout",
     "output_type": "stream",
     "text": [
      "{'n_estimators': [200, 400, 600, 800, 1000], 'max_features': ['auto', 'sqrt'], 'max_depth': [10, 43, 76, 110, None], 'min_samples_split': [2, 5, 10], 'min_samples_leaf': [1, 2, 4], 'bootstrap': [True, False]}\n"
     ]
    }
   ],
   "source": [
    "from sklearn.model_selection import RandomizedSearchCV\n",
    "# Number of trees in random forest\n",
    "n_estimators = [int(x) for x in np.linspace(start = 200, stop = 1000, num = 5)]\n",
    "# Number of features to consider at every split\n",
    "max_features = ['auto', 'sqrt']\n",
    "# Maximum number of levels in tree\n",
    "max_depth = [int(x) for x in np.linspace(10, 110, num = 4)]\n",
    "max_depth.append(None)\n",
    "# Minimum number of samples required to split a node\n",
    "min_samples_split = [2, 5, 10]\n",
    "# Minimum number of samples required at each leaf node\n",
    "min_samples_leaf = [1, 2, 4]\n",
    "# Method of selecting samples for training each tree\n",
    "bootstrap = [True, False]\n",
    "# Create the random grid\n",
    "random_grid = {'n_estimators': n_estimators,\n",
    "               'max_features': max_features,\n",
    "               'max_depth': max_depth,\n",
    "               'min_samples_split': min_samples_split,\n",
    "               'min_samples_leaf': min_samples_leaf,\n",
    "               'bootstrap': bootstrap}\n",
    "print(random_grid)"
   ]
  },
  {
   "cell_type": "code",
   "execution_count": null,
   "metadata": {},
   "outputs": [
    {
     "name": "stdout",
     "output_type": "stream",
     "text": [
      "Fitting 3 folds for each of 100 candidates, totalling 300 fits\n"
     ]
    },
    {
     "name": "stderr",
     "output_type": "stream",
     "text": [
      "[Parallel(n_jobs=-1)]: Using backend LokyBackend with 12 concurrent workers.\n"
     ]
    }
   ],
   "source": [
    "# Use the random grid to search for best hyperparameters\n",
    "# First create the base model to tune\n",
    "rf_shape_base = RandomForestClassifier()\n",
    "# Random search of parameters, using 3 fold cross validation, \n",
    "# search across 100 different combinations, and use all available cores\n",
    "rf_shape_random = RandomizedSearchCV(estimator = rf_shape_base, param_distributions = random_grid, n_iter = 100, cv = 3, verbose=2, random_state=42, n_jobs = -1)\n",
    "# Fit the random search model\n",
    "rf_shape_random.fit(spectra_train, labels_train_shape_as_array_wo_OHE)"
   ]
  },
  {
   "cell_type": "code",
   "execution_count": null,
   "metadata": {},
   "outputs": [],
   "source": [
    "rf_shape_random.best_params_"
   ]
  },
  {
   "cell_type": "code",
   "execution_count": 39,
   "metadata": {},
   "outputs": [
    {
     "name": "stdout",
     "output_type": "stream",
     "text": [
      "done with 2\n",
      "accuracy = 0.6569819531549981\n",
      "done with 5\n",
      "accuracy = 0.6810444131575579\n",
      "done with 10\n",
      "accuracy = 0.6967874056060412\n",
      "done with 25\n",
      "accuracy = 0.7095865864584666\n",
      "done with 50\n",
      "accuracy = 0.7162421605017278\n",
      "done with 100\n",
      "accuracy = 0.7145782669909125\n",
      "done with 200\n",
      "accuracy = 0.7167541277358249\n",
      "done with 400\n",
      "accuracy = 0.7159861768846794\n"
     ]
    }
   ],
   "source": [
    "tree_list = [2,5,10,25,50,100,200,400]   \n",
    "accuracy_list = []\n",
    "for tree_num in tree_list:\n",
    "    rf_model_shape_wo_OHE = RandomForestClassifier(n_estimators=tree_num)\n",
    "    rf_model_shape_wo_OHE.fit(spectra_train, labels_train_shape_as_array_wo_OHE)\n",
    "    accuracy_list.append(rf_model_shape_wo_OHE.score(spectra_test, labels_test_shape_as_array_wo_OHE))\n",
    "    print(\"done with \" + str(tree_num) )\n",
    "    print(\"accuracy = \" + str(rf_model_shape_wo_OHE.score(spectra_test, labels_test_shape_as_array_wo_OHE)))"
   ]
  },
  {
   "cell_type": "code",
   "execution_count": 52,
   "metadata": {},
   "outputs": [],
   "source": [
    "labels_train_smaller_shape = lables_train_smaller.drop(columns = ['index','log Area/Vol', 'ShortestDim', 'MiddleDim', 'LongDim', \n",
    "                                                    'Material_SiN', 'Material_SiO2', 'Material_Au'] )\n",
    "lables_train_smaller_shape_as_array = np.asarray(labels_train_smaller_shape)"
   ]
  },
  {
   "cell_type": "code",
   "execution_count": 54,
   "metadata": {},
   "outputs": [
    {
     "data": {
      "text/plain": [
       "array([[0., 1., 0., 0.],\n",
       "       [0., 0., 0., 1.],\n",
       "       [1., 0., 0., 0.],\n",
       "       ...,\n",
       "       [1., 0., 0., 0.],\n",
       "       [0., 1., 0., 0.],\n",
       "       [0., 1., 0., 0.]])"
      ]
     },
     "execution_count": 54,
     "metadata": {},
     "output_type": "execute_result"
    }
   ],
   "source": [
    "lables_train_smaller_shape_as_array"
   ]
  },
  {
   "cell_type": "code",
   "execution_count": 55,
   "metadata": {},
   "outputs": [
    {
     "name": "stdout",
     "output_type": "stream",
     "text": [
      "done\n"
     ]
    }
   ],
   "source": [
    "lables_train_smaller_shape_as_array_wo_OHE = convert_from_one_hot(lables_train_smaller_shape_as_array,from_one_hot_dict)"
   ]
  },
  {
   "cell_type": "code",
   "execution_count": 56,
   "metadata": {},
   "outputs": [
    {
     "data": {
      "text/plain": [
       "array([1, 3, 0, ..., 0, 1, 1])"
      ]
     },
     "execution_count": 56,
     "metadata": {},
     "output_type": "execute_result"
    }
   ],
   "source": [
    "lables_train_smaller_shape_as_array_wo_OHE"
   ]
  },
  {
   "cell_type": "code",
   "execution_count": 60,
   "metadata": {},
   "outputs": [
    {
     "name": "stdout",
     "output_type": "stream",
     "text": [
      "3000\n",
      "3000\n",
      "612\n",
      "1200\n"
     ]
    }
   ],
   "source": [
    "labels_train_smaller_shape_wo_OHE = list(lables_train_smaller_shape_as_array_wo_OHE)\n",
    "print(labels_train_smaller_shape_wo_OHE.count(0))\n",
    "print(labels_train_smaller_shape_wo_OHE.count(1))\n",
    "print(labels_train_smaller_shape_wo_OHE.count(2))\n",
    "print(labels_train_smaller_shape_wo_OHE.count(3))"
   ]
  },
  {
   "cell_type": "code",
   "execution_count": 83,
   "metadata": {},
   "outputs": [
    {
     "data": {
      "text/plain": [
       "0.7121464226289518"
      ]
     },
     "execution_count": 83,
     "metadata": {},
     "output_type": "execute_result"
    }
   ],
   "source": [
    "rf_shape_smaller_wo_OHE = RandomForestClassifier(n_estimators = 50, bootstrap = False)\n",
    "rf_shape_smaller_wo_OHE.fit(spectra_train_smaller, lables_train_smaller_shape_as_array_wo_OHE)\n",
    "rf_shape_smaller_wo_OHE.score(spectra_test, labels_test_shape_as_array_wo_OHE)"
   ]
  },
  {
   "cell_type": "code",
   "execution_count": 67,
   "metadata": {},
   "outputs": [
    {
     "name": "stdout",
     "output_type": "stream",
     "text": [
      "[0.67007673 0.71099744 0.67221511 0.70934699 0.69398207 0.6709347\n",
      " 0.69398207 0.66453265 0.70678617 0.69654289]\n"
     ]
    }
   ],
   "source": [
    "rf_shape_smaller_wo_OHE = RandomForestClassifier(n_estimators = 50)\n",
    "\n",
    "\n",
    "print(cross_val_score(rf_shape_smaller_wo_OHE, spectra_train_smaller, lables_train_smaller_shape_as_array_wo_OHE, cv=10))"
   ]
  },
  {
   "cell_type": "code",
   "execution_count": 79,
   "metadata": {},
   "outputs": [
    {
     "name": "stdout",
     "output_type": "stream",
     "text": [
      "{'n_estimators': [50], 'max_features': ['auto', 'sqrt'], 'max_depth': [100, 190, 280, 370, 460, 550, 640, 730, 820, 910, 1000, None], 'min_samples_split': [10, 20, 30], 'min_samples_leaf': [1, 2, 4], 'bootstrap': [True, False]}\n"
     ]
    }
   ],
   "source": [
    "from sklearn.model_selection import RandomizedSearchCV\n",
    "# Number of trees in random forest\n",
    "n_estimators = [50]\n",
    "# Number of features to consider at every split\n",
    "max_features = ['auto', 'sqrt']\n",
    "# Maximum number of levels in tree\n",
    "max_depth = [int(x) for x in np.linspace(100, 1000, num = 11)]\n",
    "max_depth.append(None)\n",
    "# Minimum number of samples required to split a node\n",
    "min_samples_split = [10, 20, 30]\n",
    "# Minimum number of samples required at each leaf node\n",
    "min_samples_leaf = [1, 2, 4]\n",
    "# Method of selecting samples for training each tree\n",
    "bootstrap = [True, False]\n",
    "# Create the random grid\n",
    "random_grid = {'n_estimators': n_estimators,\n",
    "               'max_features': max_features,\n",
    "               'max_depth': max_depth,\n",
    "               'min_samples_split': min_samples_split,\n",
    "               'min_samples_leaf': min_samples_leaf,\n",
    "               'bootstrap': bootstrap}\n",
    "print(random_grid)"
   ]
  },
  {
   "cell_type": "code",
   "execution_count": 80,
   "metadata": {},
   "outputs": [
    {
     "name": "stdout",
     "output_type": "stream",
     "text": [
      "Fitting 3 folds for each of 200 candidates, totalling 600 fits\n"
     ]
    },
    {
     "name": "stderr",
     "output_type": "stream",
     "text": [
      "[Parallel(n_jobs=-1)]: Using backend LokyBackend with 12 concurrent workers.\n",
      "[Parallel(n_jobs=-1)]: Done  17 tasks      | elapsed:   20.3s\n",
      "[Parallel(n_jobs=-1)]: Done 138 tasks      | elapsed:  2.1min\n",
      "[Parallel(n_jobs=-1)]: Done 341 tasks      | elapsed:  4.9min\n",
      "[Parallel(n_jobs=-1)]: Done 600 out of 600 | elapsed:  8.7min finished\n"
     ]
    },
    {
     "data": {
      "text/plain": [
       "RandomizedSearchCV(cv=3, error_score='raise-deprecating',\n",
       "                   estimator=RandomForestClassifier(bootstrap=True,\n",
       "                                                    class_weight=None,\n",
       "                                                    criterion='gini',\n",
       "                                                    max_depth=None,\n",
       "                                                    max_features='auto',\n",
       "                                                    max_leaf_nodes=None,\n",
       "                                                    min_impurity_decrease=0.0,\n",
       "                                                    min_impurity_split=None,\n",
       "                                                    min_samples_leaf=1,\n",
       "                                                    min_samples_split=2,\n",
       "                                                    min_weight_fraction_leaf=0.0,\n",
       "                                                    n_estimators='warn',\n",
       "                                                    n_jobs=None,\n",
       "                                                    oob_sc...\n",
       "                   iid='warn', n_iter=200, n_jobs=-1,\n",
       "                   param_distributions={'bootstrap': [True, False],\n",
       "                                        'max_depth': [100, 190, 280, 370, 460,\n",
       "                                                      550, 640, 730, 820, 910,\n",
       "                                                      1000, None],\n",
       "                                        'max_features': ['auto', 'sqrt'],\n",
       "                                        'min_samples_leaf': [1, 2, 4],\n",
       "                                        'min_samples_split': [10, 20, 30],\n",
       "                                        'n_estimators': [50]},\n",
       "                   pre_dispatch='2*n_jobs', random_state=42, refit=True,\n",
       "                   return_train_score=False, scoring=None, verbose=2)"
      ]
     },
     "execution_count": 80,
     "metadata": {},
     "output_type": "execute_result"
    }
   ],
   "source": [
    "# Use the random grid to search for best hyperparameters\n",
    "# First create the base model to tune\n",
    "rf_shape_base = RandomForestClassifier()\n",
    "# Random search of parameters, using 3 fold cross validation, \n",
    "# search across 100 different combinations, and use all available cores\n",
    "rf_shape_random = RandomizedSearchCV(estimator = rf_shape_base, param_distributions = random_grid, n_iter = 200, cv = 3, verbose=2, random_state=42, n_jobs = -1)\n",
    "# Fit the random search model\n",
    "rf_shape_random.fit(spectra_train_smaller, lables_train_smaller_shape_as_array_wo_OHE)"
   ]
  },
  {
   "cell_type": "code",
   "execution_count": 85,
   "metadata": {
    "pycharm": {
     "name": "#%%\n"
    }
   },
   "outputs": [
    {
     "data": {
      "text/plain": [
       "0.9962877624167946"
      ]
     },
     "execution_count": 85,
     "metadata": {},
     "output_type": "execute_result"
    }
   ],
   "source": [
    "#rf_shape_random.best_params_\n",
    "best_random = rf_shape_random.best_estimator_\n",
    "best_random.score(spectra_train_smaller, lables_train_smaller_shape_as_array_wo_OHE)"
   ]
  },
  {
   "cell_type": "code",
   "execution_count": 82,
   "metadata": {},
   "outputs": [
    {
     "data": {
      "text/plain": [
       "{'n_estimators': 50,\n",
       " 'min_samples_split': 10,\n",
       " 'min_samples_leaf': 1,\n",
       " 'max_features': 'auto',\n",
       " 'max_depth': None,\n",
       " 'bootstrap': False}"
      ]
     },
     "execution_count": 82,
     "metadata": {},
     "output_type": "execute_result"
    }
   ],
   "source": [
    "rf_shape_random.best_params_"
   ]
  },
  {
   "cell_type": "markdown",
   "metadata": {
    "pycharm": {
     "name": "#%% md\n"
    }
   },
   "source": [
    "Test how accurate a generic RF model is at predicting whether a spectrum is/isn't a particular shape "
   ]
  },
  {
   "cell_type": "code",
   "execution_count": 78,
   "metadata": {},
   "outputs": [],
   "source": [
    "def shape_classification_binary(training_set_spectrum, training_set_lables, test_set_spectrum, test_set_labels, \n",
    "                                num_trees, shapes):\n",
    "    for shape in shapes: \n",
    "        if shape == 'Geometry_parallelepiped':\n",
    "            labels_train_shape_parallelepiped = labels_train.drop(columns = ['index','log Area/Vol', 'ShortestDim', \n",
    "                                                                             'MiddleDim', 'LongDim', 'Material_SiN', \n",
    "                                                                             'Material_SiO2', 'Material_Au', 'Geometry_sphere', \n",
    "                                                                             'Geometry_wire', 'Geometry_TriangPrismIsosc'])\n",
    "            labels_test_shape_parallelepiped = labels_test.drop(columns = ['index','log Area/Vol', 'ShortestDim', \n",
    "                                                                             'MiddleDim', 'LongDim', 'Material_SiN', \n",
    "                                                                             'Material_SiO2', 'Material_Au', 'Geometry_sphere', \n",
    "                                                                             'Geometry_wire', 'Geometry_TriangPrismIsosc'])\n",
    "            labels_train_shape_parallelepiped_as_array = np.asarray(labels_train_shape_parallelepiped) \n",
    "            labels_test_shape_parallelepiped_as_array = np.asarray(labels_test_shape_parallelepiped) \n",
    "\n",
    "        if shape == 'Geometry_TriangPrismIsosc':\n",
    "            labels_train_shape_triangle = labels_train.drop(columns = ['index','log Area/Vol', 'ShortestDim', \n",
    "                                                                             'MiddleDim', 'LongDim', 'Material_SiN', \n",
    "                                                                             'Material_SiO2', 'Material_Au', 'Geometry_sphere', \n",
    "                                                                             'Geometry_wire', 'Geometry_parallelepiped'])\n",
    "            labels_test_shape_triangle = labels_test.drop(columns = ['index','log Area/Vol', 'ShortestDim', \n",
    "                                                                             'MiddleDim', 'LongDim', 'Material_SiN', \n",
    "                                                                             'Material_SiO2', 'Material_Au', 'Geometry_sphere', \n",
    "                                                                             'Geometry_wire', 'Geometry_parallelepiped'])\n",
    "            \n",
    "            labels_train_shape_triangle_as_array = np.asarray(labels_train_shape_triangle) \n",
    "            labels_test_shape_triangle_as_array = np.asarray(labels_test_shape_triangle) \n",
    "            \n",
    "        if shape == 'Geometry_wire':\n",
    "            labels_train_shape_wire = labels_train.drop(columns = ['index','log Area/Vol', 'ShortestDim', \n",
    "                                                                             'MiddleDim', 'LongDim', 'Material_SiN', \n",
    "                                                                             'Material_SiO2', 'Material_Au', 'Geometry_sphere', \n",
    "                                                                             'Geometry_TriangPrismIsosc', 'Geometry_parallelepiped'])\n",
    "            labels_test_shape_wire = labels_test.drop(columns = ['index','log Area/Vol', 'ShortestDim', \n",
    "                                                                             'MiddleDim', 'LongDim', 'Material_SiN', \n",
    "                                                                             'Material_SiO2', 'Material_Au', 'Geometry_sphere', \n",
    "                                                                             'Geometry_TriangPrismIsosc', 'Geometry_parallelepiped'])\n",
    "            \n",
    "            labels_train_shape_wire_as_array = np.asarray(labels_train_shape_wire) \n",
    "            labels_test_shape_wire_as_array = np.asarray(labels_test_shape_wire) \n",
    "        \n",
    "        if shape == 'Geometry_sphere':\n",
    "            labels_train_shape_sphere = labels_train.drop(columns = ['index','log Area/Vol', 'ShortestDim', \n",
    "                                                                             'MiddleDim', 'LongDim', 'Material_SiN', \n",
    "                                                                             'Material_SiO2', 'Material_Au', 'Geometry_wire', \n",
    "                                                                             'Geometry_TriangPrismIsosc', 'Geometry_parallelepiped'])\n",
    "            labels_test_shape_sphere = labels_test.drop(columns = ['index','log Area/Vol', 'ShortestDim', \n",
    "                                                                             'MiddleDim', 'LongDim', 'Material_SiN', \n",
    "                                                                             'Material_SiO2', 'Material_Au', 'Geometry_wire', \n",
    "                                                                             'Geometry_TriangPrismIsosc', 'Geometry_parallelepiped'])\n",
    "            labels_train_shape_sphere_as_array = np.asarray(labels_train_shape_sphere) \n",
    "            labels_test_shape_sphere_as_array = np.asarray(labels_test_shape_sphere) \n",
    "    \n",
    "\n",
    "    rf_parallelepiped = RandomForestClassifier(n_estimators=num_trees)\n",
    "    rf_parallelepiped.fit(spectra_train, np.ravel(labels_train_shape_parallelepiped_as_array))\n",
    "    print(\"parallelepiped classifier accuracy \" + str(rf_parallelepiped.score(spectra_test, labels_test_shape_parallelepiped_as_array))) \n",
    "\n",
    "    rf_sphere = RandomForestClassifier(n_estimators=num_trees)\n",
    "    rf_sphere.fit(spectra_train, np.ravel(labels_train_shape_sphere_as_array))\n",
    "    print(\"sphere classifier accuracy \" + str(rf_sphere.score(spectra_test, labels_test_shape_sphere_as_array))) \n",
    "\n",
    "    \n",
    "    rf_triangle = RandomForestClassifier(n_estimators=num_trees)\n",
    "    rf_triangle.fit(spectra_train, np.ravel(labels_train_shape_triangle_as_array))\n",
    "    print(\"triangle classifier accuracy \" + str(rf_triangle.score(spectra_test, labels_test_shape_triangle_as_array))) \n",
    "\n",
    "    \n",
    "    rf_wire = RandomForestClassifier(n_estimators=num_trees)\n",
    "    rf_wire.fit(spectra_train, np.ravel(labels_train_shape_wire_as_array))\n",
    "    print(\"wire classifier accuracy \" + str(rf_wire.score(spectra_test, labels_test_shape_wire_as_array))) \n",
    "\n",
    "    return({'parallelepiped': rf_parallelepiped, 'sphere': rf_sphere, 'triangle': rf_triangle, 'wire': rf_wire})\n",
    "    "
   ]
  },
  {
   "cell_type": "code",
   "execution_count": 326,
   "metadata": {},
   "outputs": [],
   "source": [
    "\n",
    "labels_test_shape_parallelepiped = labels_test.drop(columns = ['index','log Area/Vol', 'ShortestDim', \n",
    "                                                                             'MiddleDim', 'LongDim', 'Material_SiN', \n",
    "                                                                             'Material_SiO2', 'Material_Au', 'Geometry_sphere', \n",
    "                                                                             'Geometry_wire', 'Geometry_TriangPrismIsosc'])\n",
    "labels_test_shape_parallelepiped_as_array = np.asarray(labels_test_shape_parallelepiped) \n",
    "\n",
    "labels_test_shape_triangle = labels_test.drop(columns = ['index','log Area/Vol', 'ShortestDim', \n",
    "                                                                             'MiddleDim', 'LongDim', 'Material_SiN', \n",
    "                                                                             'Material_SiO2', 'Material_Au', 'Geometry_sphere', \n",
    "                                                                             'Geometry_wire', 'Geometry_parallelepiped'])\n",
    "            \n",
    "labels_test_shape_triangle_as_array = np.asarray(labels_test_shape_triangle) \n",
    "            \n",
    "            \n",
    "labels_test_shape_wire = labels_test.drop(columns = ['index','log Area/Vol', 'ShortestDim', \n",
    "                                                                             'MiddleDim', 'LongDim', 'Material_SiN', \n",
    "                                                                             'Material_SiO2', 'Material_Au', 'Geometry_sphere', \n",
    "                                                                             'Geometry_TriangPrismIsosc', 'Geometry_parallelepiped'])\n",
    "            \n",
    "labels_test_shape_wire_as_array = np.asarray(labels_test_shape_wire) \n",
    "        \n",
    "            \n",
    "labels_test_shape_sphere = labels_test.drop(columns = ['index','log Area/Vol', 'ShortestDim', \n",
    "                                                                             'MiddleDim', 'LongDim', 'Material_SiN', \n",
    "                                                                             'Material_SiO2', 'Material_Au', 'Geometry_wire', \n",
    "                                                                             'Geometry_TriangPrismIsosc', 'Geometry_parallelepiped'])\n",
    "labels_test_shape_sphere_as_array = np.asarray(labels_test_shape_sphere) "
   ]
  },
  {
   "cell_type": "code",
   "execution_count": 327,
   "metadata": {},
   "outputs": [
    {
     "data": {
      "text/plain": [
       "['Test_set_labels_sphere']"
      ]
     },
     "execution_count": 327,
     "metadata": {},
     "output_type": "execute_result"
    }
   ],
   "source": [
    "joblib.dump(labels_test_shape_parallelepiped_as_array, \"Test_set_labels_parallelepiped\")\n",
    "joblib.dump(labels_test_shape_triangle_as_array, \"Test_set_labels_triangle\")\n",
    "joblib.dump(labels_test_shape_wire_as_array, \"Test_set_labels_wire\")\n",
    "joblib.dump(labels_test_shape_sphere_as_array, \"Test_set_labels_sphere\")"
   ]
  },
  {
   "cell_type": "code",
   "execution_count": 84,
   "metadata": {},
   "outputs": [],
   "source": [
    "shapes_list = ['Geometry_parallelepiped', 'Geometry_sphere', 'Geometry_wire', 'Geometry_TriangPrismIsosc']\n",
    "shapes_list_clean = ['TriangPrism', 'Parallelepiped', 'Sphere',  'Wire']"
   ]
  },
  {
   "cell_type": "code",
   "execution_count": 75,
   "metadata": {},
   "outputs": [
    {
     "ename": "NameError",
     "evalue": "name 'shape_classification_binary' is not defined",
     "output_type": "error",
     "traceback": [
      "\u001b[1;31m---------------------------------------------------------------------------\u001b[0m",
      "\u001b[1;31mNameError\u001b[0m                                 Traceback (most recent call last)",
      "\u001b[1;32m<ipython-input-75-ea94f1819160>\u001b[0m in \u001b[0;36m<module>\u001b[1;34m\u001b[0m\n\u001b[1;32m----> 1\u001b[1;33m shape_classification_rf_dict = shape_classification_binary(spectra_train, labels_train, spectra_test, \n\u001b[0m\u001b[0;32m      2\u001b[0m                                                            labels_test, 20, shapes_list)\n",
      "\u001b[1;31mNameError\u001b[0m: name 'shape_classification_binary' is not defined"
     ]
    }
   ],
   "source": [
    "shape_classification_rf_dict = shape_classification_binary(spectra_train, labels_train, spectra_test, \n",
    "                                                           labels_test, 20, shapes_list)"
   ]
  },
  {
   "cell_type": "code",
   "execution_count": 87,
   "metadata": {},
   "outputs": [
    {
     "data": {
      "image/png": "[encoded data removed]",
      "text/plain": [
       "<Figure size 432x288 with 1 Axes>"
      ]
     },
     "metadata": {
      "needs_background": "light"
     },
     "output_type": "display_data"
    }
   ],
   "source": [
    "sns.barplot(shapes_list_clean, accuracy_list_binary_classifiction).set(title = \"Accuracy Binary Classification\",\n",
    "                                                                                ylabel = \"Accuracy\", xlabel = \"Shape\", ylim = [0.5,1.01])\n",
    "plt.savefig('Accuracy_Binary_Classification_boxplot.png', format='png')"
   ]
  },
  {
   "cell_type": "code",
   "execution_count": 86,
   "metadata": {},
   "outputs": [],
   "source": [
    "accuracies_binary_classification = {'parallelepiped classifier accuracy': 0.7574555228465378, 'sphere classifier accuracy': 0.9985920901062332,\n",
    "                 'triangle classifier accuracy': 0.8227313451939076, 'wire classifier accuracy':0.8534493792397286}\n",
    "accuracy_list_binary_classifiction = [0.8227313451939076, 0.7574555228465378, 0.9985920901062332, 0.8534493792397286]"
   ]
  },
  {
   "cell_type": "code",
   "execution_count": 63,
   "metadata": {},
   "outputs": [
    {
     "name": "stdout",
     "output_type": "stream",
     "text": [
      "done\n"
     ]
    }
   ],
   "source": [
    "labels_train_material_as_array_wo_OHE = convert_from_one_hot(labels_train_material_as_array, from_one_hot_dict_materials)"
   ]
  },
  {
   "cell_type": "code",
   "execution_count": 191,
   "metadata": {},
   "outputs": [
    {
     "name": "stdout",
     "output_type": "stream",
     "text": [
      "[0 2 1 ... 1 0 2]\n",
      "[3 1 0 ... 0 1 1]\n"
     ]
    }
   ],
   "source": [
    "print(labels_train_material_as_array_wo_OHE)\n",
    "print(labels_train_shape_as_array_wo_OHE)\n",
    "labels_train_material_and_shape_as_array = np.vstack((labels_train_material_as_array_wo_OHE, labels_train_shape_as_array_wo_OHE)).T"
   ]
  },
  {
   "cell_type": "code",
   "execution_count": 192,
   "metadata": {},
   "outputs": [
    {
     "name": "stdout",
     "output_type": "stream",
     "text": [
      "done\n"
     ]
    }
   ],
   "source": [
    "labels_test_material_as_array_wo_OHE = convert_from_one_hot(labels_test_material_as_array, from_one_hot_dict_materials)"
   ]
  },
  {
   "cell_type": "code",
   "execution_count": 193,
   "metadata": {},
   "outputs": [],
   "source": [
    "labels_test_material_and_shape_as_array = np.vstack((labels_test_material_as_array_wo_OHE, labels_test_shape_as_array_wo_OHE)).T"
   ]
  },
  {
   "cell_type": "code",
   "execution_count": 205,
   "metadata": {},
   "outputs": [
    {
     "data": {
      "text/plain": [
       "0.7166261359273006"
      ]
     },
     "execution_count": 205,
     "metadata": {},
     "output_type": "execute_result"
    }
   ],
   "source": [
    "rf_shape_and_material = RandomForestClassifier(n_estimators = 100)\n",
    "rf_shape_and_material_classifier = MultiOutputClassifier(rf_shape_and_material, n_jobs=-1)\n",
    "rf_shape_and_material_classifier.fit(spectra_train, labels_train_material_and_shape_as_array)"
   ]
  },
  {
   "cell_type": "code",
   "execution_count": 206,
   "metadata": {},
   "outputs": [
    {
     "data": {
      "text/plain": [
       "0.7166261359273006"
      ]
     },
     "execution_count": 206,
     "metadata": {},
     "output_type": "execute_result"
    }
   ],
   "source": [
    "rf_shape_and_material_classifier.score(spectra_test, labels_test_material_and_shape_as_array)"
   ]
  },
  {
   "cell_type": "code",
   "execution_count": 252,
   "metadata": {},
   "outputs": [],
   "source": [
    "predictions = rf_shape_and_material_classifier.predict(spectra_test)"
   ]
  },
  {
   "cell_type": "code",
   "execution_count": 253,
   "metadata": {},
   "outputs": [
    {
     "data": {
      "text/plain": [
       "array([2, 2, 2, ..., 1, 1, 1])"
      ]
     },
     "execution_count": 253,
     "metadata": {},
     "output_type": "execute_result"
    }
   ],
   "source": [
    "predictions.T[0]"
   ]
  },
  {
   "cell_type": "code",
   "execution_count": 284,
   "metadata": {},
   "outputs": [
    {
     "name": "stdout",
     "output_type": "stream",
     "text": [
      "2604\n",
      "2604\n",
      "2605\n",
      "1.0\n",
      "0.999231950844854\n",
      "1.0\n"
     ]
    },
    {
     "data": {
      "image/png": "[encoded data removed]",
      "text/plain": [
       "<Figure size 432x288 with 1 Axes>"
      ]
     },
     "metadata": {
      "needs_background": "light"
     },
     "output_type": "display_data"
    }
   ],
   "source": [
    "cm_rf_material = confusion_matrix(labels_test_material_as_array_wo_OHE, predictions.T[0])\n",
    "labels_test_material_wo_OHE=list(labels_test_material_as_array_wo_OHE)\n",
    "cm_normalized_rf_material = normalize_cm(cm_rf_material, labels_test_material_wo_OHE, 3)\n",
    "plot_accuracy(cm_normalized_rf, labels_train_material.columns, \"Accuracy Material Predictions Material and Shape Model\")"
   ]
  },
  {
   "cell_type": "code",
   "execution_count": 90,
   "metadata": {},
   "outputs": [
    {
     "ename": "TypeError",
     "evalue": "Singleton array 2.997482660388375 cannot be considered a valid collection.",
     "output_type": "error",
     "traceback": [
      "\u001b[1;31m---------------------------------------------------------------------------\u001b[0m",
      "\u001b[1;31mTypeError\u001b[0m                                 Traceback (most recent call last)",
      "\u001b[1;32m<ipython-input-90-7b8966c0856e>\u001b[0m in \u001b[0;36m<module>\u001b[1;34m\u001b[0m\n\u001b[1;32m----> 1\u001b[1;33m \u001b[0mcm_rf_shape\u001b[0m \u001b[1;33m=\u001b[0m \u001b[0mconfusion_matrix\u001b[0m\u001b[1;33m(\u001b[0m\u001b[0mlabels_test_shape_as_array_wo_OHE\u001b[0m\u001b[1;33m,\u001b[0m \u001b[0mpredictions\u001b[0m\u001b[1;33m.\u001b[0m\u001b[0mT\u001b[0m\u001b[1;33m[\u001b[0m\u001b[1;36m1\u001b[0m\u001b[1;33m]\u001b[0m\u001b[1;33m)\u001b[0m\u001b[1;33m\u001b[0m\u001b[1;33m\u001b[0m\u001b[0m\n\u001b[0m\u001b[0;32m      2\u001b[0m \u001b[1;33m\u001b[0m\u001b[0m\n\u001b[0;32m      3\u001b[0m \u001b[0mlabels_test_shape_wo_OHE\u001b[0m\u001b[1;33m=\u001b[0m\u001b[0mlist\u001b[0m\u001b[1;33m(\u001b[0m\u001b[0mlabels_test_shape_as_array_wo_OHE\u001b[0m\u001b[1;33m)\u001b[0m\u001b[1;33m\u001b[0m\u001b[1;33m\u001b[0m\u001b[0m\n\u001b[0;32m      4\u001b[0m \u001b[0mcm_normalized_rf_shape\u001b[0m \u001b[1;33m=\u001b[0m \u001b[0mnormalize_cm\u001b[0m\u001b[1;33m(\u001b[0m\u001b[0mcm_rf_shape\u001b[0m\u001b[1;33m,\u001b[0m \u001b[0mlabels_test_shape_wo_OHE\u001b[0m\u001b[1;33m,\u001b[0m \u001b[1;36m4\u001b[0m\u001b[1;33m)\u001b[0m\u001b[1;33m\u001b[0m\u001b[1;33m\u001b[0m\u001b[0m\n\u001b[0;32m      5\u001b[0m \u001b[1;33m\u001b[0m\u001b[0m\n",
      "\u001b[1;32m~\\Anaconda3\\lib\\site-packages\\sklearn\\metrics\\classification.py\u001b[0m in \u001b[0;36mconfusion_matrix\u001b[1;34m(y_true, y_pred, labels, sample_weight)\u001b[0m\n\u001b[0;32m    251\u001b[0m \u001b[1;33m\u001b[0m\u001b[0m\n\u001b[0;32m    252\u001b[0m     \"\"\"\n\u001b[1;32m--> 253\u001b[1;33m     \u001b[0my_type\u001b[0m\u001b[1;33m,\u001b[0m \u001b[0my_true\u001b[0m\u001b[1;33m,\u001b[0m \u001b[0my_pred\u001b[0m \u001b[1;33m=\u001b[0m \u001b[0m_check_targets\u001b[0m\u001b[1;33m(\u001b[0m\u001b[0my_true\u001b[0m\u001b[1;33m,\u001b[0m \u001b[0my_pred\u001b[0m\u001b[1;33m)\u001b[0m\u001b[1;33m\u001b[0m\u001b[1;33m\u001b[0m\u001b[0m\n\u001b[0m\u001b[0;32m    254\u001b[0m     \u001b[1;32mif\u001b[0m \u001b[0my_type\u001b[0m \u001b[1;32mnot\u001b[0m \u001b[1;32min\u001b[0m \u001b[1;33m(\u001b[0m\u001b[1;34m\"binary\"\u001b[0m\u001b[1;33m,\u001b[0m \u001b[1;34m\"multiclass\"\u001b[0m\u001b[1;33m)\u001b[0m\u001b[1;33m:\u001b[0m\u001b[1;33m\u001b[0m\u001b[1;33m\u001b[0m\u001b[0m\n\u001b[0;32m    255\u001b[0m         \u001b[1;32mraise\u001b[0m \u001b[0mValueError\u001b[0m\u001b[1;33m(\u001b[0m\u001b[1;34m\"%s is not supported\"\u001b[0m \u001b[1;33m%\u001b[0m \u001b[0my_type\u001b[0m\u001b[1;33m)\u001b[0m\u001b[1;33m\u001b[0m\u001b[1;33m\u001b[0m\u001b[0m\n",
      "\u001b[1;32m~\\Anaconda3\\lib\\site-packages\\sklearn\\metrics\\classification.py\u001b[0m in \u001b[0;36m_check_targets\u001b[1;34m(y_true, y_pred)\u001b[0m\n\u001b[0;32m     69\u001b[0m     \u001b[0my_pred\u001b[0m \u001b[1;33m:\u001b[0m \u001b[0marray\u001b[0m \u001b[1;32mor\u001b[0m \u001b[0mindicator\u001b[0m \u001b[0mmatrix\u001b[0m\u001b[1;33m\u001b[0m\u001b[1;33m\u001b[0m\u001b[0m\n\u001b[0;32m     70\u001b[0m     \"\"\"\n\u001b[1;32m---> 71\u001b[1;33m     \u001b[0mcheck_consistent_length\u001b[0m\u001b[1;33m(\u001b[0m\u001b[0my_true\u001b[0m\u001b[1;33m,\u001b[0m \u001b[0my_pred\u001b[0m\u001b[1;33m)\u001b[0m\u001b[1;33m\u001b[0m\u001b[1;33m\u001b[0m\u001b[0m\n\u001b[0m\u001b[0;32m     72\u001b[0m     \u001b[0mtype_true\u001b[0m \u001b[1;33m=\u001b[0m \u001b[0mtype_of_target\u001b[0m\u001b[1;33m(\u001b[0m\u001b[0my_true\u001b[0m\u001b[1;33m)\u001b[0m\u001b[1;33m\u001b[0m\u001b[1;33m\u001b[0m\u001b[0m\n\u001b[0;32m     73\u001b[0m     \u001b[0mtype_pred\u001b[0m \u001b[1;33m=\u001b[0m \u001b[0mtype_of_target\u001b[0m\u001b[1;33m(\u001b[0m\u001b[0my_pred\u001b[0m\u001b[1;33m)\u001b[0m\u001b[1;33m\u001b[0m\u001b[1;33m\u001b[0m\u001b[0m\n",
      "\u001b[1;32m~\\Anaconda3\\lib\\site-packages\\sklearn\\utils\\validation.py\u001b[0m in \u001b[0;36mcheck_consistent_length\u001b[1;34m(*arrays)\u001b[0m\n\u001b[0;32m    199\u001b[0m     \"\"\"\n\u001b[0;32m    200\u001b[0m \u001b[1;33m\u001b[0m\u001b[0m\n\u001b[1;32m--> 201\u001b[1;33m     \u001b[0mlengths\u001b[0m \u001b[1;33m=\u001b[0m \u001b[1;33m[\u001b[0m\u001b[0m_num_samples\u001b[0m\u001b[1;33m(\u001b[0m\u001b[0mX\u001b[0m\u001b[1;33m)\u001b[0m \u001b[1;32mfor\u001b[0m \u001b[0mX\u001b[0m \u001b[1;32min\u001b[0m \u001b[0marrays\u001b[0m \u001b[1;32mif\u001b[0m \u001b[0mX\u001b[0m \u001b[1;32mis\u001b[0m \u001b[1;32mnot\u001b[0m \u001b[1;32mNone\u001b[0m\u001b[1;33m]\u001b[0m\u001b[1;33m\u001b[0m\u001b[1;33m\u001b[0m\u001b[0m\n\u001b[0m\u001b[0;32m    202\u001b[0m     \u001b[0muniques\u001b[0m \u001b[1;33m=\u001b[0m \u001b[0mnp\u001b[0m\u001b[1;33m.\u001b[0m\u001b[0munique\u001b[0m\u001b[1;33m(\u001b[0m\u001b[0mlengths\u001b[0m\u001b[1;33m)\u001b[0m\u001b[1;33m\u001b[0m\u001b[1;33m\u001b[0m\u001b[0m\n\u001b[0;32m    203\u001b[0m     \u001b[1;32mif\u001b[0m \u001b[0mlen\u001b[0m\u001b[1;33m(\u001b[0m\u001b[0muniques\u001b[0m\u001b[1;33m)\u001b[0m \u001b[1;33m>\u001b[0m \u001b[1;36m1\u001b[0m\u001b[1;33m:\u001b[0m\u001b[1;33m\u001b[0m\u001b[1;33m\u001b[0m\u001b[0m\n",
      "\u001b[1;32m~\\Anaconda3\\lib\\site-packages\\sklearn\\utils\\validation.py\u001b[0m in \u001b[0;36m<listcomp>\u001b[1;34m(.0)\u001b[0m\n\u001b[0;32m    199\u001b[0m     \"\"\"\n\u001b[0;32m    200\u001b[0m \u001b[1;33m\u001b[0m\u001b[0m\n\u001b[1;32m--> 201\u001b[1;33m     \u001b[0mlengths\u001b[0m \u001b[1;33m=\u001b[0m \u001b[1;33m[\u001b[0m\u001b[0m_num_samples\u001b[0m\u001b[1;33m(\u001b[0m\u001b[0mX\u001b[0m\u001b[1;33m)\u001b[0m \u001b[1;32mfor\u001b[0m \u001b[0mX\u001b[0m \u001b[1;32min\u001b[0m \u001b[0marrays\u001b[0m \u001b[1;32mif\u001b[0m \u001b[0mX\u001b[0m \u001b[1;32mis\u001b[0m \u001b[1;32mnot\u001b[0m \u001b[1;32mNone\u001b[0m\u001b[1;33m]\u001b[0m\u001b[1;33m\u001b[0m\u001b[1;33m\u001b[0m\u001b[0m\n\u001b[0m\u001b[0;32m    202\u001b[0m     \u001b[0muniques\u001b[0m \u001b[1;33m=\u001b[0m \u001b[0mnp\u001b[0m\u001b[1;33m.\u001b[0m\u001b[0munique\u001b[0m\u001b[1;33m(\u001b[0m\u001b[0mlengths\u001b[0m\u001b[1;33m)\u001b[0m\u001b[1;33m\u001b[0m\u001b[1;33m\u001b[0m\u001b[0m\n\u001b[0;32m    203\u001b[0m     \u001b[1;32mif\u001b[0m \u001b[0mlen\u001b[0m\u001b[1;33m(\u001b[0m\u001b[0muniques\u001b[0m\u001b[1;33m)\u001b[0m \u001b[1;33m>\u001b[0m \u001b[1;36m1\u001b[0m\u001b[1;33m:\u001b[0m\u001b[1;33m\u001b[0m\u001b[1;33m\u001b[0m\u001b[0m\n",
      "\u001b[1;32m~\\Anaconda3\\lib\\site-packages\\sklearn\\utils\\validation.py\u001b[0m in \u001b[0;36m_num_samples\u001b[1;34m(x)\u001b[0m\n\u001b[0;32m    144\u001b[0m         \u001b[1;32mif\u001b[0m \u001b[0mlen\u001b[0m\u001b[1;33m(\u001b[0m\u001b[0mx\u001b[0m\u001b[1;33m.\u001b[0m\u001b[0mshape\u001b[0m\u001b[1;33m)\u001b[0m \u001b[1;33m==\u001b[0m \u001b[1;36m0\u001b[0m\u001b[1;33m:\u001b[0m\u001b[1;33m\u001b[0m\u001b[1;33m\u001b[0m\u001b[0m\n\u001b[0;32m    145\u001b[0m             raise TypeError(\"Singleton array %r cannot be considered\"\n\u001b[1;32m--> 146\u001b[1;33m                             \" a valid collection.\" % x)\n\u001b[0m\u001b[0;32m    147\u001b[0m         \u001b[1;31m# Check that shape is returning an integer or default to len\u001b[0m\u001b[1;33m\u001b[0m\u001b[1;33m\u001b[0m\u001b[1;33m\u001b[0m\u001b[0m\n\u001b[0;32m    148\u001b[0m         \u001b[1;31m# Dask dataframes may not return numeric shape[0] value\u001b[0m\u001b[1;33m\u001b[0m\u001b[1;33m\u001b[0m\u001b[1;33m\u001b[0m\u001b[0m\n",
      "\u001b[1;31mTypeError\u001b[0m: Singleton array 2.997482660388375 cannot be considered a valid collection."
     ]
    }
   ],
   "source": [
    "cm_rf_shape = confusion_matrix(labels_test_shape_as_array_wo_OHE, predictions.T[1])\n",
    "\n",
    "labels_test_shape_wo_OHE=list(labels_test_shape_as_array_wo_OHE)\n",
    "cm_normalized_rf_shape = normalize_cm(cm_rf_shape, labels_test_shape_wo_OHE, 4)\n",
    "\n",
    "plot_accuracy(cm_normalized_rf_shape, catagories_shape_prediction, \"Accuracy Shape Predictions Material and Shape Model\")"
   ]
  },
  {
   "cell_type": "code",
   "execution_count": 293,
   "metadata": {},
   "outputs": [
    {
     "data": {
      "text/plain": [
       "dict_keys(['parallelepiped', 'sphere', 'triangle', 'wire'])"
      ]
     },
     "execution_count": 293,
     "metadata": {},
     "output_type": "execute_result"
    }
   ],
   "source": [
    "shape_classification_rf_dict.keys()\n",
    "\n",
    "#binary_classification_list = [shape_classification_rf_dict, accuracies_binary_classification]\n",
    "joblib.dump(shape_classification_rf_dict, \"dictionary_containing_binary_shape_classification_RFs.joblib\")"
   ]
  },
  {
   "cell_type": "code",
   "execution_count": null,
   "metadata": {
    "pycharm": {
     "name": "#%%\n"
    }
   },
   "outputs": [],
   "source": [
    "for key in shape_classification_rf_dict.keys():\n",
    "    joblib.dump(shape_classification_rf_dict[key], key + \"_binary_classifier.joblib\")"
   ]
  },
  {
   "cell_type": "code",
   "execution_count": null,
   "metadata": {
    "pycharm": {
     "name": "#%%\n"
    }
   },
   "outputs": [],
   "source": [
    "joblib.dump(accuracies_binary_classification, 'accuracies_binary_classification.joblib')"
   ]
  },
  {
   "cell_type": "code",
   "execution_count": null,
   "metadata": {
    "pycharm": {
     "name": "#%%\n"
    }
   },
   "outputs": [],
   "source": [
    "joblib.dump(spectra_test, \"Test_set_spectra.joblib\")"
   ]
  },
  {
   "cell_type": "code",
   "execution_count": null,
   "metadata": {
    "pycharm": {
     "name": "#%%\n"
    }
   },
   "outputs": [],
   "source": [
    "labels_train_size_volume = labels_train.drop(columns = ['log Area/Vol', 'ShortestDim', 'MiddleDim', 'LongDim', 'Geometry_TriangPrismIsosc',\n",
    "                                                    'Geometry_parallelepiped', 'Geometry_sphere', 'Geometry_wire', 'index'] )\n",
    "labels_test_size_volume = labels_test.drop(columns = ['log Area/Vol', 'ShortestDim', 'MiddleDim', 'LongDim', 'Geometry_TriangPrismIsosc',\n",
    "                                                    'Geometry_parallelepiped', 'Geometry_sphere', 'Geometry_wire', 'index'] )"
   ]
  },
  {
   "cell_type": "code",
   "execution_count": null,
   "metadata": {
    "pycharm": {
     "name": "#%%\n"
    }
   },
   "outputs": [],
   "source": [
    "rf_model_material_wo_OHE = RandomForestClassifier(n_estimators=50)\n",
    "rf_model_material_wo_OHE.fit(spectra_train, labels_train_material_as_array_wo_OHE)\n",
    "rf_model_material_wo_OHE.score(spectra_test, labels_test_material_as_array_wo_OHE)"
   ]
  },
  {
   "cell_type": "code",
   "execution_count": null,
   "metadata": {
    "pycharm": {
     "name": "#%%\n"
    }
   },
   "outputs": [],
   "source": [
    "#joblib.dump(rf_model_material_wo_OHE, \"rf_model_material_wo_OHE.joblib\")\n",
    "joblib.dump(labels_test_material_as_array_wo_OHE, \"labels_test_material_wo_OHE.joblib\")"
   ]
  },
  {
   "cell_type": "code",
   "execution_count": null,
   "metadata": {
    "pycharm": {
     "name": "#%%\n"
    }
   },
   "outputs": [],
   "source": [
    "joblib.dump(rf_shape_and_material_classifier, \"rf_shape_and_material_classifier.joblib\")"
   ]
  },
  {
   "cell_type": "code",
   "execution_count": null,
   "metadata": {
    "pycharm": {
     "name": "#%%\n"
    }
   },
   "outputs": [],
   "source": [
    "joblib.dump(labels_test_material_and_shape_as_array, \"labels_test_material_and_shape_wo_OHE\")"
   ]
  },
  {
   "cell_type": "code",
   "execution_count": null,
   "metadata": {
    "pycharm": {
     "name": "#%%\n"
    }
   },
   "outputs": [],
   "source": [
    "joblib.dump(spectra_test_shape_Au_as_array, \"Test_set_spectra_Au_only\")"
   ]
  },
  {
   "cell_type": "code",
   "execution_count": null,
   "metadata": {
    "pycharm": {
     "name": "#%%\n"
    }
   },
   "outputs": [],
   "source": [
    "joblib.dump(labels_train_shape_Au_as_array_wo_OHE, \"Test_set_labels_Au_only\")"
   ]
  },
  {
   "cell_type": "code",
   "execution_count": null,
   "metadata": {
    "pycharm": {
     "name": "#%%\n"
    }
   },
   "outputs": [],
   "source": [
    "joblib.dump(labels_test_shape_as_array, \"Test_set_labels_shape\")"
   ]
  },
  {
   "cell_type": "code",
   "execution_count": null,
   "metadata": {
    "pycharm": {
     "name": "#%%\n"
    }
   },
   "outputs": [],
   "source": [
    "joblib.dump(labels_test_material_and_shape_as_array, \"Test_set_labels_shape_and_material\")"
   ]
  },
  {
   "cell_type": "code",
   "execution_count": null,
   "metadata": {
    "pycharm": {
     "name": "#%%\n"
    }
   },
   "outputs": [],
   "source": []
  },
  {
   "cell_type": "code",
   "execution_count": 300,
   "metadata": {},
   "outputs": [],
   "source": []
  },
  {
   "cell_type": "code",
   "execution_count": 291,
   "metadata": {},
   "outputs": [
    {
     "data": {
      "text/plain": [
       "['accuracies_binary_classification.joblib']"
      ]
     },
     "execution_count": 291,
     "metadata": {},
     "output_type": "execute_result"
    }
   ],
   "source": [
    "joblib.dump(accuracies_binary_classification, 'accuracies_binary_classification.joblib')"
   ]
  },
  {
   "cell_type": "code",
   "execution_count": 320,
   "metadata": {},
   "outputs": [
    {
     "data": {
      "text/plain": [
       "['Test_set_spectra.joblib']"
      ]
     },
     "execution_count": 320,
     "metadata": {},
     "output_type": "execute_result"
    }
   ],
   "source": [
    "joblib.dump(spectra_test, \"Test_set_spectra.joblib\")"
   ]
  },
  {
   "cell_type": "code",
   "execution_count": 313,
   "metadata": {},
   "outputs": [
    {
     "data": {
      "text/plain": [
       "1.0"
      ]
     },
     "execution_count": 313,
     "metadata": {},
     "output_type": "execute_result"
    }
   ],
   "source": [
    "rf_model_material_wo_OHE = RandomForestClassifier(n_estimators=50)\n",
    "rf_model_material_wo_OHE.fit(spectra_train, labels_train_material_as_array_wo_OHE)\n",
    "rf_model_material_wo_OHE.score(spectra_test, labels_test_material_as_array_wo_OHE)"
   ]
  },
  {
   "cell_type": "code",
   "execution_count": 319,
   "metadata": {},
   "outputs": [
    {
     "data": {
      "text/plain": [
       "['labels_test_material_wo_OHE.joblib']"
      ]
     },
     "execution_count": 319,
     "metadata": {},
     "output_type": "execute_result"
    }
   ],
   "source": [
    "#joblib.dump(rf_model_material_wo_OHE, \"rf_model_material_wo_OHE.joblib\")\n",
    "joblib.dump(labels_test_material_as_array_wo_OHE, \"labels_test_material_wo_OHE.joblib\")"
   ]
  },
  {
   "cell_type": "code",
   "execution_count": 315,
   "metadata": {},
   "outputs": [
    {
     "data": {
      "text/plain": [
       "['rf_shape_and_material_classifier.joblib']"
      ]
     },
     "execution_count": 315,
     "metadata": {},
     "output_type": "execute_result"
    }
   ],
   "source": [
    "joblib.dump(rf_shape_and_material_classifier, \"rf_shape_and_material_classifier.joblib\")"
   ]
  },
  {
   "cell_type": "code",
   "execution_count": 318,
   "metadata": {},
   "outputs": [
    {
     "data": {
      "text/plain": [
       "['labels_test_material_and_shape_wo_OHE']"
      ]
     },
     "execution_count": 318,
     "metadata": {},
     "output_type": "execute_result"
    }
   ],
   "source": [
    "joblib.dump(labels_test_material_and_shape_as_array, \"labels_test_material_and_shape_wo_OHE\")"
   ]
  },
  {
   "cell_type": "code",
   "execution_count": 321,
   "metadata": {},
   "outputs": [
    {
     "data": {
      "text/plain": [
       "['Test_set_spectra_Au_only']"
      ]
     },
     "execution_count": 321,
     "metadata": {},
     "output_type": "execute_result"
    }
   ],
   "source": [
    "joblib.dump(spectra_test_shape_Au_as_array, \"Test_set_spectra_Au_only\")"
   ]
  },
  {
   "cell_type": "code",
   "execution_count": 322,
   "metadata": {},
   "outputs": [
    {
     "data": {
      "text/plain": [
       "['Test_set_labels_Au_only']"
      ]
     },
     "execution_count": 322,
     "metadata": {},
     "output_type": "execute_result"
    }
   ],
   "source": [
    "joblib.dump(labels_train_shape_Au_as_array_wo_OHE, \"Test_set_labels_Au_only\")"
   ]
  },
  {
   "cell_type": "code",
   "execution_count": 323,
   "metadata": {},
   "outputs": [
    {
     "data": {
      "text/plain": [
       "['Test_set_labels_shape']"
      ]
     },
     "execution_count": 323,
     "metadata": {},
     "output_type": "execute_result"
    }
   ],
   "source": [
    "joblib.dump(labels_test_shape_as_array, \"Test_set_labels_shape\")"
   ]
  },
  {
   "cell_type": "code",
   "execution_count": 324,
   "metadata": {},
   "outputs": [
    {
     "data": {
      "text/plain": [
       "['Test_set_labels_shape_and_material']"
      ]
     },
     "execution_count": 324,
     "metadata": {},
     "output_type": "execute_result"
    }
   ],
   "source": [
    "joblib.dump(labels_test_material_and_shape_as_array, \"Test_set_labels_shape_and_material\")"
   ]
  },
  {
   "cell_type": "code",
   "execution_count": 28,
   "metadata": {},
   "outputs": [],
   "source": [
    "labels_train_size_volume = labels_train.drop(columns = ['ShortestDim', 'MiddleDim', 'LongDim', 'Geometry_TriangPrismIsosc',\n",
    "                                                    'Geometry_parallelepiped', 'Geometry_sphere', 'Geometry_wire', 'index',\n",
    "                                                    'Material_Au', 'Material_SiN', 'Material_SiO2'] )\n",
    "labels_test_size_volume = labels_test.drop(columns = ['ShortestDim', 'MiddleDim', 'LongDim', 'Geometry_TriangPrismIsosc',\n",
    "                                                    'Geometry_parallelepiped', 'Geometry_sphere', 'Geometry_wire', 'index',\n",
    "                                                     'Material_Au', 'Material_SiN', 'Material_SiO2'] )"
   ]
  },
  {
   "cell_type": "code",
   "execution_count": 35,
   "metadata": {},
   "outputs": [
    {
     "data": {
      "text/plain": [
       "RandomForestRegressor(bootstrap=True, criterion='mse', max_depth=None,\n",
       "                      max_features='auto', max_leaf_nodes=None,\n",
       "                      min_impurity_decrease=0.0, min_impurity_split=None,\n",
       "                      min_samples_leaf=1, min_samples_split=2,\n",
       "                      min_weight_fraction_leaf=0.0, n_estimators=10, n_jobs=-1,\n",
       "                      oob_score=False, random_state=None, verbose=0,\n",
       "                      warm_start=False)"
      ]
     },
     "execution_count": 35,
     "metadata": {},
     "output_type": "execute_result"
    }
   ],
   "source": [
    "rf_volume = RandomForestRegressor(n_estimators = 10, n_jobs = -1)\n",
    "rf_volume.fit(spectra_train, np.ravel(labels_train_size_volume))"
   ]
  },
  {
   "cell_type": "code",
   "execution_count": 36,
   "metadata": {},
   "outputs": [
    {
     "data": {
      "text/plain": [
       "0.9733092312919017"
      ]
     },
     "execution_count": 36,
     "metadata": {},
     "output_type": "execute_result"
    }
   ],
   "source": [
    "rf_volume.score(spectra_test, np.ravel(labels_test_size_volume))"
   ]
  },
  {
   "cell_type": "code",
   "execution_count": 37,
   "metadata": {},
   "outputs": [],
   "source": [
    "predictions = rf_volume.predict(spectra_test)"
   ]
  },
  {
   "cell_type": "code",
   "execution_count": 38,
   "metadata": {},
   "outputs": [
    {
     "data": {
      "text/plain": [
       "array([3.8310645 , 2.99748266, 2.32836699, ..., 3.77872027, 2.69235198,\n",
       "       4.4481172 ])"
      ]
     },
     "execution_count": 38,
     "metadata": {},
     "output_type": "execute_result"
    }
   ],
   "source": [
    "predictions"
   ]
  },
  {
   "cell_type": "code",
   "execution_count": 40,
   "metadata": {},
   "outputs": [
    {
     "data": {
      "text/plain": [
       "array([3.83217036, 3.02216553, 2.33523359, ..., 3.78348881, 2.69359616,\n",
       "       4.43835435])"
      ]
     },
     "execution_count": 40,
     "metadata": {},
     "output_type": "execute_result"
    }
   ],
   "source": [
    "np.ravel(labels_test_size_volume)"
   ]
  },
  {
   "cell_type": "code",
   "execution_count": 41,
   "metadata": {},
   "outputs": [],
   "source": [
    "labels_train_size_volume_dims = labels_train.drop(columns = ['Geometry_TriangPrismIsosc',\n",
    "                                                    'Geometry_parallelepiped', 'Geometry_sphere', 'Geometry_wire', 'index',\n",
    "                                                    'Material_Au', 'Material_SiN', 'Material_SiO2'] )\n",
    "labels_test_size_volume_dims = labels_test.drop(columns = ['Geometry_TriangPrismIsosc',\n",
    "                                                    'Geometry_parallelepiped', 'Geometry_sphere', 'Geometry_wire', 'index',\n",
    "                                                     'Material_Au', 'Material_SiN', 'Material_SiO2'] )"
   ]
  },
  {
   "cell_type": "code",
   "execution_count": 45,
   "metadata": {},
   "outputs": [],
   "source": [
    "labels_train_size_volume_dims_array = np.asarray(labels_train_size_volume_dims)\n",
    "labels_test_size_volume_dims_array = np.asarray(labels_test_size_volume_dims)"
   ]
  },
  {
   "cell_type": "code",
   "execution_count": 48,
   "metadata": {},
   "outputs": [
    {
     "data": {
      "text/plain": [
       "MultiOutputRegressor(estimator=RandomForestRegressor(bootstrap=True,\n",
       "                                                     criterion='mse',\n",
       "                                                     max_depth=None,\n",
       "                                                     max_features='auto',\n",
       "                                                     max_leaf_nodes=None,\n",
       "                                                     min_impurity_decrease=0.0,\n",
       "                                                     min_impurity_split=None,\n",
       "                                                     min_samples_leaf=1,\n",
       "                                                     min_samples_split=2,\n",
       "                                                     min_weight_fraction_leaf=0.0,\n",
       "                                                     n_estimators=10,\n",
       "                                                     n_jobs=None,\n",
       "                                                     oob_score=False,\n",
       "                                                     random_state=None,\n",
       "                                                     verbose=0,\n",
       "                                                     warm_start=False),\n",
       "                     n_jobs=-1)"
      ]
     },
     "execution_count": 48,
     "metadata": {},
     "output_type": "execute_result"
    }
   ],
   "source": [
    "rf_volume_size = RandomForestRegressor(n_estimators = 10)\n",
    "rf_volume_size_multioutput = MultiOutputRegressor(rf_volume_size, n_jobs = -1)\n",
    "rf_volume_size_multioutput.fit(spectra_train, labels_train_size_volume_dims_array)"
   ]
  },
  {
   "cell_type": "code",
   "execution_count": 49,
   "metadata": {},
   "outputs": [
    {
     "data": {
      "text/plain": [
       "0.8975875362612722"
      ]
     },
     "execution_count": 49,
     "metadata": {},
     "output_type": "execute_result"
    }
   ],
   "source": [
    "rf_volume_size_multioutput.score(spectra_test, labels_test_size_volume_dims_array)"
   ]
  },
  {
   "cell_type": "code",
   "execution_count": 50,
   "metadata": {},
   "outputs": [
    {
     "data": {
      "text/plain": [
       "MultiOutputRegressor(estimator=RandomForestRegressor(bootstrap=True,\n",
       "                                                     criterion='mse',\n",
       "                                                     max_depth=None,\n",
       "                                                     max_features='auto',\n",
       "                                                     max_leaf_nodes=None,\n",
       "                                                     min_impurity_decrease=0.0,\n",
       "                                                     min_impurity_split=None,\n",
       "                                                     min_samples_leaf=1,\n",
       "                                                     min_samples_split=2,\n",
       "                                                     min_weight_fraction_leaf=0.0,\n",
       "                                                     n_estimators=10,\n",
       "                                                     n_jobs=None,\n",
       "                                                     oob_score=False,\n",
       "                                                     random_state=None,\n",
       "                                                     verbose=0,\n",
       "                                                     warm_start=False),\n",
       "                     n_jobs=-1)"
      ]
     },
     "execution_count": 50,
     "metadata": {},
     "output_type": "execute_result"
    }
   ],
   "source": [
    "rf_volume_size_more_trees = RandomForestRegressor(n_estimators = 50)\n",
    "rf_volume_size_multioutput_more_trees = MultiOutputRegressor(rf_volume_size_more_trees, n_jobs = -1)\n",
    "rf_volume_size_multioutput_more_trees.fit(spectra_train, labels_train_size_volume_dims_array)"
   ]
  },
  {
   "cell_type": "code",
   "execution_count": 51,
   "metadata": {},
   "outputs": [
    {
     "data": {
      "text/plain": [
       "0.8925285870088243"
      ]
     },
     "execution_count": 51,
     "metadata": {},
     "output_type": "execute_result"
    }
   ],
   "source": [
    "rf_volume_size_multioutput_more_trees.score(spectra_test, labels_test_size_volume_dims_array)"
   ]
  },
  {
   "cell_type": "code",
   "execution_count": 53,
   "metadata": {},
   "outputs": [],
   "source": [
    "labels_train_size_dims = labels_train.drop(columns = ['Geometry_TriangPrismIsosc','log Area/Vol',\n",
    "                                                    'Geometry_parallelepiped', 'Geometry_sphere', 'Geometry_wire', 'index',\n",
    "                                                    'Material_Au', 'Material_SiN', 'Material_SiO2'] )\n",
    "labels_test_size_dims = labels_test.drop(columns = ['Geometry_TriangPrismIsosc','log Area/Vol',\n",
    "                                                    'Geometry_parallelepiped', 'Geometry_sphere', 'Geometry_wire', 'index',\n",
    "                                                     'Material_Au', 'Material_SiN', 'Material_SiO2'] )"
   ]
  },
  {
   "cell_type": "code",
   "execution_count": 54,
   "metadata": {},
   "outputs": [
    {
     "data": {
      "text/plain": [
       "MultiOutputRegressor(estimator=RandomForestRegressor(bootstrap=True,\n",
       "                                                     criterion='mse',\n",
       "                                                     max_depth=None,\n",
       "                                                     max_features='auto',\n",
       "                                                     max_leaf_nodes=None,\n",
       "                                                     min_impurity_decrease=0.0,\n",
       "                                                     min_impurity_split=None,\n",
       "                                                     min_samples_leaf=1,\n",
       "                                                     min_samples_split=2,\n",
       "                                                     min_weight_fraction_leaf=0.0,\n",
       "                                                     n_estimators=10,\n",
       "                                                     n_jobs=None,\n",
       "                                                     oob_score=False,\n",
       "                                                     random_state=None,\n",
       "                                                     verbose=0,\n",
       "                                                     warm_start=False),\n",
       "                     n_jobs=-1)"
      ]
     },
     "execution_count": 54,
     "metadata": {},
     "output_type": "execute_result"
    }
   ],
   "source": [
    "rf_size_dims = RandomForestRegressor(n_estimators = 10)\n",
    "rf_size_dims_mulitoutput = MultiOutputRegressor(rf_volume_size, n_jobs = -1)\n",
    "rf_size_dims_mulitoutput.fit(spectra_train, labels_train_size_dims)"
   ]
  },
  {
   "cell_type": "code",
   "execution_count": 55,
   "metadata": {},
   "outputs": [],
   "source": [
    "labels_train_size_dims_as_array = np.asarray(labels_train_size_dims)\n",
    "labels_test_size_dims_as_array = np.asarray(labels_test_size_dims)"
   ]
  },
  {
   "cell_type": "code",
   "execution_count": 58,
   "metadata": {},
   "outputs": [
    {
     "data": {
      "text/plain": [
       "0.868801427839477"
      ]
     },
     "execution_count": 58,
     "metadata": {},
     "output_type": "execute_result"
    }
   ],
   "source": [
    "rf_size_dims_mulitoutput.score(spectra_test, labels_test_size_dims_as_array)"
   ]
  },
  {
   "cell_type": "code",
   "execution_count": 127,
   "metadata": {},
   "outputs": [
    {
     "name": "stdout",
     "output_type": "stream",
     "text": [
      "done\n",
      "done\n"
     ]
    }
   ],
   "source": [
    "labels_train_shape_SiN = labels_train.drop(columns = ['index','Material_Au','log Area/Vol', 'ShortestDim', 'MiddleDim', 'LongDim', \n",
    "                                                     'Material_SiO2'] )\n",
    "labels_test_shape_SiN = labels_test.drop(columns = ['index','log Area/Vol', 'ShortestDim', 'MiddleDim', 'LongDim', \n",
    "                                                    'Material_Au', 'Material_SiO2'] )\n",
    "indicies_to_drop_train_list_SiN = drop_indicies(labels_train_shape_SiN, 'Material_SiN', 0, True)\n",
    "indicies_to_drop_test_list_SiN = drop_indicies(labels_test_shape_SiN, 'Material_SiN', 0, True)\n",
    "\n",
    "labels_train_shape_SiN.drop(columns = ['Material_SiN'] , inplace=True)\n",
    "labels_test_shape_SiN.drop(columns = ['Material_SiN'] , inplace=True)\n",
    "\n",
    "spectra_train_df_SiN = pd.DataFrame(spectra_train)\n",
    "spectra_test_df_SiN = pd.DataFrame(spectra_test)\n",
    "\n",
    "spectra_train_df_SiN.drop(indicies_to_drop_train_list_SiN, inplace=True)\n",
    "spectra_test_df_SiN.drop(indicies_to_drop_test_list_SiN, inplace=True)\n",
    "\n",
    "labels_train_shape_SiN_as_array = labels_train_shape_SiN.to_numpy()\n",
    "labels_test_shape_SiN_as_array = labels_test_shape_SiN.to_numpy()\n",
    "\n",
    "labels_train_shape_SiN_as_array_wo_OHE = convert_from_one_hot(labels_train_shape_SiN_as_array, from_one_hot_dict)\n",
    "labels_test_shape_SiN_as_array_wo_OHE =  convert_from_one_hot(labels_test_shape_SiN_as_array, from_one_hot_dict)\n",
    "\n",
    "spectra_train_shape_SiN_as_array = spectra_train_df_SiN.to_numpy()\n",
    "spectra_test_shape_SiN_as_array= spectra_test_df_SiN.to_numpy()"
   ]
  },
  {
   "cell_type": "code",
   "execution_count": 128,
   "metadata": {},
   "outputs": [
    {
     "data": {
      "text/plain": [
       "RandomForestClassifier(bootstrap=True, class_weight=None, criterion='gini',\n",
       "                       max_depth=None, max_features='auto', max_leaf_nodes=None,\n",
       "                       min_impurity_decrease=0.0, min_impurity_split=None,\n",
       "                       min_samples_leaf=1, min_samples_split=2,\n",
       "                       min_weight_fraction_leaf=0.0, n_estimators=100,\n",
       "                       n_jobs=None, oob_score=False, random_state=None,\n",
       "                       verbose=0, warm_start=False)"
      ]
     },
     "execution_count": 128,
     "metadata": {},
     "output_type": "execute_result"
    }
   ],
   "source": [
    "rf_SiN_model_wo_OHE = RandomForestClassifier(n_estimators = 100)\n",
    "rf_SiN_model_wo_OHE.fit(spectra_train_shape_SiN_as_array, labels_train_shape_SiN_as_array_wo_OHE)"
   ]
  },
  {
   "cell_type": "code",
   "execution_count": 129,
   "metadata": {},
   "outputs": [
    {
     "data": {
      "text/plain": [
       "0.7549923195084486"
      ]
     },
     "execution_count": 129,
     "metadata": {},
     "output_type": "execute_result"
    }
   ],
   "source": [
    "rf_SiN_model_wo_OHE.score(spectra_test_shape_SiN_as_array, labels_test_shape_SiN_as_array_wo_OHE)"
   ]
  },
  {
   "cell_type": "code",
   "execution_count": 137,
   "metadata": {},
   "outputs": [
    {
     "name": "stdout",
     "output_type": "stream",
     "text": [
      "done\n",
      "done\n",
      "54546\n",
      "54546\n"
     ]
    }
   ],
   "source": [
    "labels_train_shape_SiO2 = labels_train.drop(columns = ['index','Material_Au','log Area/Vol', 'ShortestDim', 'MiddleDim', 'LongDim', \n",
    "                                                     'Material_SiN'] )\n",
    "labels_test_shape_SiO2= labels_test.drop(columns = ['index','log Area/Vol', 'ShortestDim', 'MiddleDim', 'LongDim', \n",
    "                                                    'Material_Au', 'Material_SiN'] )\n",
    "indicies_to_drop_train_list_SiO2 = drop_indicies(labels_train_shape_SiO2, 'Material_SiO2', 0, True)\n",
    "indicies_to_drop_test_list_SiO2 = drop_indicies(labels_test_shape_SiO2, 'Material_SiO2', 0, True)\n",
    "\n",
    "labels_train_shape_SiO2.drop(columns = ['Material_SiO2'] , inplace=True)\n",
    "labels_test_shape_SiO2.drop(columns = ['Material_SiO2'] , inplace=True)\n",
    "\n",
    "spectra_train_df_SiO2 = pd.DataFrame(spectra_train)\n",
    "spectra_test_df_SiO2 = pd.DataFrame(spectra_test)\n",
    "\n",
    "spectra_train_df_SiO2.drop(indicies_to_drop_train_list_SiO2, inplace=True)\n",
    "spectra_test_df_SiO2.drop(indicies_to_drop_test_list_SiO2, inplace=True)\n",
    "\n",
    "labels_train_shape_SiO2_as_array = labels_train_shape_SiO2.to_numpy()\n",
    "labels_test_shape_SiO2_as_array = labels_test_shape_SiO2.to_numpy()\n",
    "\n",
    "labels_train_shape_SiO2_as_array_wo_OHE = convert_from_one_hot(labels_train_shape_SiO2_as_array, from_one_hot_dict)\n",
    "labels_test_shape_SiO2_as_array_wo_OHE =  convert_from_one_hot(labels_test_shape_SiO2_as_array, from_one_hot_dict)\n",
    "\n",
    "spectra_train_shape_SiO2_as_array = spectra_train_df_SiO2.to_numpy()\n",
    "spectra_test_shape_SiO2_as_array= spectra_test_df_SiO2.to_numpy()\n",
    "\n",
    "print(len(labels_train_shape_SiO2_as_array_wo_OHE))\n",
    "print(len(spectra_train_shape_SiO2_as_array))"
   ]
  },
  {
   "cell_type": "code",
   "execution_count": 138,
   "metadata": {},
   "outputs": [
    {
     "data": {
      "text/plain": [
       "RandomForestClassifier(bootstrap=True, class_weight=None, criterion='gini',\n",
       "                       max_depth=None, max_features='auto', max_leaf_nodes=None,\n",
       "                       min_impurity_decrease=0.0, min_impurity_split=None,\n",
       "                       min_samples_leaf=1, min_samples_split=2,\n",
       "                       min_weight_fraction_leaf=0.0, n_estimators=100,\n",
       "                       n_jobs=None, oob_score=False, random_state=None,\n",
       "                       verbose=0, warm_start=False)"
      ]
     },
     "execution_count": 138,
     "metadata": {},
     "output_type": "execute_result"
    }
   ],
   "source": [
    "rf_SiO2_model_wo_OHE = RandomForestClassifier(n_estimators = 100)\n",
    "rf_SiO2_model_wo_OHE.fit(spectra_train_shape_SiO2_as_array, labels_train_shape_SiO2_as_array_wo_OHE)"
   ]
  },
  {
   "cell_type": "code",
   "execution_count": 139,
   "metadata": {},
   "outputs": [
    {
     "data": {
      "text/plain": [
       "0.7393474088291747"
      ]
     },
     "execution_count": 139,
     "metadata": {},
     "output_type": "execute_result"
    }
   ],
   "source": [
    "rf_SiO2_model_wo_OHE.score(spectra_test_shape_SiO2_as_array, labels_test_shape_SiO2_as_array_wo_OHE)"
   ]
  },
  {
   "cell_type": "code",
   "execution_count": 145,
   "metadata": {},
   "outputs": [
    {
     "data": {
      "text/plain": [
       "0.07834101382488479"
      ]
     },
     "execution_count": 145,
     "metadata": {},
     "output_type": "execute_result"
    }
   ],
   "source": [
    "rf_SiO2_model_wo_OHE.score(spectra_test_shape_SiN_as_array, labels_test_shape_SiN_as_array_wo_OHE)"
   ]
  },
  {
   "cell_type": "code",
   "execution_count": 144,
   "metadata": {},
   "outputs": [
    {
     "data": {
      "text/plain": [
       "0.07834101382488479"
      ]
     },
     "execution_count": 144,
     "metadata": {},
     "output_type": "execute_result"
    }
   ],
   "source": [
    "rf_SiO2_model_wo_OHE.score(spectra_test_shape_Au_as_array, labels_test_shape_Au_as_array_wo_OHE)"
   ]
  },
  {
   "cell_type": "code",
   "execution_count": 146,
   "metadata": {},
   "outputs": [
    {
     "data": {
      "text/plain": [
       "0.32092130518234163"
      ]
     },
     "execution_count": 146,
     "metadata": {},
     "output_type": "execute_result"
    }
   ],
   "source": [
    "rf_SiN_model_wo_OHE.score(spectra_test_shape_SiO2_as_array, labels_test_shape_SiO2_as_array_wo_OHE)"
   ]
  },
  {
   "cell_type": "code",
   "execution_count": 147,
   "metadata": {},
   "outputs": [
    {
     "data": {
      "text/plain": [
       "0.34639016897081415"
      ]
     },
     "execution_count": 147,
     "metadata": {},
     "output_type": "execute_result"
    }
   ],
   "source": [
    "rf_SiN_model_wo_OHE.score(spectra_test_shape_Au_as_array, labels_test_shape_Au_as_array_wo_OHE)"
   ]
  },
  {
   "cell_type": "code",
   "execution_count": 151,
   "metadata": {},
   "outputs": [
    {
     "data": {
      "text/plain": [
       "0.6728110599078341"
      ]
     },
     "execution_count": 151,
     "metadata": {},
     "output_type": "execute_result"
    }
   ],
   "source": [
    "rf_Au_model_wo_OHE.score(spectra_test_shape_Au_as_array, labels_test_shape_Au_as_array_wo_OHE)"
   ]
  },
  {
   "cell_type": "code",
   "execution_count": 152,
   "metadata": {},
   "outputs": [
    {
     "data": {
      "text/plain": [
       "0.1390168970814132"
      ]
     },
     "execution_count": 152,
     "metadata": {},
     "output_type": "execute_result"
    }
   ],
   "source": [
    "rf_Au_model_wo_OHE.score(spectra_test_shape_SiN_as_array, labels_test_shape_SiN_as_array_wo_OHE)"
   ]
  },
  {
   "cell_type": "code",
   "execution_count": 153,
   "metadata": {},
   "outputs": [
    {
     "data": {
      "text/plain": [
       "0.13051823416506717"
      ]
     },
     "execution_count": 153,
     "metadata": {},
     "output_type": "execute_result"
    }
   ],
   "source": [
    "rf_Au_model_wo_OHE.score(spectra_test_shape_SiO2_as_array, labels_test_shape_SiO2_as_array_wo_OHE)"
   ]
  },
  {
   "cell_type": "code",
   "execution_count": null,
   "metadata": {},
   "outputs": [],
   "source": []
  }
 ],
 "metadata": {
  "kernelspec": {
   "display_name": "Python 3",
   "language": "python",
   "name": "python3"
  },
  "language_info": {
   "codemirror_mode": {
    "name": "ipython",
    "version": 3
   },
   "file_extension": ".py",
   "mimetype": "text/x-python",
   "name": "python",
   "nbconvert_exporter": "python",
   "pygments_lexer": "ipython3",
   "version": "3.7.4"
  },
  "pycharm": {
   "stem_cell": {
    "cell_type": "raw",
    "metadata": {
     "collapsed": false
    },
    "source": []
   }
  }
 },
 "nbformat": 4,
 "nbformat_minor": 2
}
