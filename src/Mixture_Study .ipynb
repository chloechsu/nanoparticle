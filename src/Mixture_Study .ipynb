{
 "cells": [
  {
   "cell_type": "code",
   "execution_count": 2,
   "metadata": {},
   "outputs": [
    {
     "name": "stderr",
     "output_type": "stream",
     "text": [
      "C:\\Users\\smgls\\Anaconda3\\lib\\site-packages\\sklearn\\externals\\six.py:31: FutureWarning: The module is deprecated in version 0.21 and will be removed in version 0.23 since we've dropped support for Python 2.7. Please rely on the official version of six (https://pypi.org/project/six/).\n",
      "  \"(https://pypi.org/project/six/).\", FutureWarning)\n"
     ]
    }
   ],
   "source": [
    "import joblib\n",
    "from sklearn.model_selection import RandomizedSearchCV\n",
    "import itertools\n",
    "import matplotlib.pyplot as plt\n",
    "import pandas as pd\n",
    "from sklearn import tree\n",
    "from sklearn.ensemble import RandomForestClassifier\n",
    "import numpy as np\n",
    "from sklearn.metrics import confusion_matrix\n",
    "import seaborn as sns\n",
    "from sklearn.multioutput import MultiOutputClassifier\n",
    "from sklearn.ensemble import RandomForestRegressor\n",
    "from sklearn.multioutput import MultiOutputRegressor\n",
    "from RF_Model_Functions import *\n",
    "from IPython.display import Image  \n",
    "from sklearn.externals.six import StringIO  \n",
    "import pydotplus\n",
    "from scipy.signal import savgol_filter\n",
    "from sklearn.datasets import load_iris\n",
    "from sklearn.ensemble import RandomForestClassifier, StackingClassifier\n",
    "from sklearn.linear_model import LogisticRegression\n",
    "from sklearn.model_selection import train_test_split\n",
    "from sklearn.neighbors import KNeighborsClassifier\n",
    "from sklearn.svm import SVC\n",
    "from sklearn.linear_model import LinearRegression\n",
    "from sklearn.multioutput import MultiOutputRegressor"
   ]
  },
  {
   "cell_type": "code",
   "execution_count": 3,
   "metadata": {},
   "outputs": [],
   "source": [
    "def plot_confusion_matrix(cm, classes,\n",
    "                          normalize=False,\n",
    "                          title='Confusion matrix',\n",
    "                          cmap=plt.cm.Blues):\n",
    "    \"\"\"\n",
    "    This function prints and plots the confusion matrix.\n",
    "    Normalization can be applied by setting `normalize=True`.\n",
    "    \"\"\"\n",
    "    plt.imshow(cm, interpolation='nearest', cmap=cmap)\n",
    "    plt.title(title)\n",
    "    plt.colorbar()\n",
    "    tick_marks = np.arange(len(classes))\n",
    "    plt.xticks(tick_marks, classes, rotation=45)\n",
    "    plt.yticks(tick_marks, classes)\n",
    "\n",
    "    if normalize:\n",
    "        cm = cm.astype('float') / cm.sum(axis=1)[:, np.newaxis]\n",
    "        print(\"Normalized confusion matrix\")\n",
    "    else:\n",
    "        print('Confusion matrix, without normalization')\n",
    "\n",
    "    print(cm)\n",
    "\n",
    "    thresh = cm.max() / 2.\n",
    "    for i, j in itertools.product(range(cm.shape[0]), range(cm.shape[1])):\n",
    "        plt.text(j, i, cm[i, j],\n",
    "                 horizontalalignment=\"center\",\n",
    "                 color=\"white\" if cm[i, j] > thresh else \"black\")\n",
    "\n",
    "    plt.tight_layout()\n",
    "    plt.ylabel('True label')\n",
    "    plt.xlabel('Predicted label')"
   ]
  },
  {
   "cell_type": "code",
   "execution_count": 4,
   "metadata": {},
   "outputs": [],
   "source": [
    "from_one_hot_dict = {(1.,0.,0.,0.) : 0, (0.,1.,0.,0.) : 1, (0.,0.,1.,0.) : 2, (0.,0.,0.,1.) : 3}\n",
    "from_one_hot_dict_materials = {(1.,0.,0.) : 0, (0.,1.,0.) : 1, (0.,0.,1.) : 2}"
   ]
  },
  {
   "cell_type": "code",
   "execution_count": 67,
   "metadata": {},
   "outputs": [],
   "source": [
    "spectra_train = joblib.load('cache/r20200406_234541_50.0sc_50.0sp_1_CPU/spectral/y_new_train.joblib')\n",
    "spectra_test = joblib.load('cache/r20200406_234541_50.0sc_50.0sp_1_CPU/spectral/y_test.joblib')\n",
    "labels_train = joblib.load('cache/r20200406_234541_50.0sc_50.0sp_1_CPU/spectral/x_new_train.joblib').reset_index()\n",
    "labels_test = joblib.load('cache/r20200406_234541_50.0sc_50.0sp_1_CPU/spectral/x_test.joblib').reset_index()\n",
    "labels_train_smaller = joblib.load('cache/r20200406_234541_50.0sc_50.0sp_1_CPU/spectral/x_train.joblib').reset_index()\n",
    "spectra_train_smaller = joblib.load('cache/r20200406_234541_50.0sc_50.0sp_1_CPU/spectral/y_train.joblib')"
   ]
  },
  {
   "cell_type": "code",
   "execution_count": 68,
   "metadata": {},
   "outputs": [],
   "source": [
    "def create_pure_datasets(training_labels, testing_lables, training_spectra, testing_spectra, material, shape):\n",
    "    \n",
    "    labels_train_Au = drop_indicies(training_labels, material, 0, False)[0]\n",
    "    labels_test_Au = drop_indicies(testing_lables, material, 0, False)[0]\n",
    "\n",
    "    labels_train_Au = labels_train_Au.reset_index()\n",
    "    labels_test_Au = labels_test_Au.reset_index()\n",
    "\n",
    "    labels_train_Au_sphere = drop_indicies(labels_train_Au, shape, 0, False)[0].drop(columns = ['level_0'])\n",
    "    labels_test_Au_sphere = drop_indicies(labels_test_Au, shape, 0, False)[0].drop(columns = ['level_0'])\n",
    "\n",
    "    labels_train_Au_sphere = labels_train_Au_sphere.reset_index()\n",
    "    labels_test_Au_sphere = labels_test_Au_sphere.reset_index()\n",
    "\n",
    "    labels_test_Au_sphere = labels_test_Au_sphere.drop(columns = ['level_0'])\n",
    "    labels_train_Au_sphere = labels_train_Au_sphere.drop(columns = ['level_0'])\n",
    "    \n",
    "    spectra_train_df = pd.DataFrame(training_spectra)\n",
    "    spectra_test_df = pd.DataFrame(testing_spectra)\n",
    "        \n",
    "    spectra_test_df_Au = spectra_test_df.drop(drop_indicies(testing_lables, material, 0, False)[1])\n",
    "    spectra_train_df_Au = spectra_train_df.drop(drop_indicies(training_labels, material, 0, False)[1])\n",
    "    spectra_test_df_Au = spectra_test_df_Au.reset_index()\n",
    "    spectra_train_df_Au = spectra_train_df_Au.reset_index()\n",
    "    \n",
    "    spectra_train_df_Au.drop(columns = ['index'], inplace = True)\n",
    "    spectra_test_df_Au.drop(columns = ['index'], inplace = True)\n",
    "    \n",
    "    spectra_test_df_Au_sphere = spectra_test_df_Au.drop(drop_indicies(labels_test_Au, shape, 0, False)[1])\n",
    "    spectra_train_df_Au_sphere = spectra_train_df_Au.drop(drop_indicies(labels_train_Au, shape, 0, False)[1])\n",
    "    \n",
    "    spectra_test_df_Au_sphere.reset_index(inplace = True)\n",
    "    spectra_train_df_Au_sphere.reset_index(inplace = True)\n",
    "    \n",
    "    spectra_test_df_Au_sphere = spectra_test_df_Au_sphere.drop(columns = [\"index\"])\n",
    "    spectra_train_df_Au_sphere = spectra_train_df_Au_sphere.drop(columns = [\"index\"])\n",
    "    \n",
    "    return(labels_train_Au_sphere, labels_test_Au_sphere, spectra_train_df_Au_sphere, spectra_test_df_Au_sphere)"
   ]
  },
  {
   "cell_type": "code",
   "execution_count": 40,
   "metadata": {},
   "outputs": [],
   "source": [
    "Au_Sphere = create_pure_datasets(labels_train, labels_test, spectra_train, spectra_test, \"Material_Au\", \"Geometry_sphere\")\n",
    "Au_sphere_training_spectra = Au_Sphere[2]\n",
    "Au_sphere_test_spectra = Au_Sphere[3]\n",
    "Au_sphere_training_labels = Au_Sphere[0]\n",
    "Au_sphere_test_labels = Au_Sphere[1]"
   ]
  },
  {
   "cell_type": "code",
   "execution_count": 101,
   "metadata": {},
   "outputs": [
    {
     "data": {
      "text/html": [
       "<div>\n",
       "<style scoped>\n",
       "    .dataframe tbody tr th:only-of-type {\n",
       "        vertical-align: middle;\n",
       "    }\n",
       "\n",
       "    .dataframe tbody tr th {\n",
       "        vertical-align: top;\n",
       "    }\n",
       "\n",
       "    .dataframe thead th {\n",
       "        text-align: right;\n",
       "    }\n",
       "</style>\n",
       "<table border=\"1\" class=\"dataframe\">\n",
       "  <thead>\n",
       "    <tr style=\"text-align: right;\">\n",
       "      <th></th>\n",
       "      <th>0</th>\n",
       "      <th>1</th>\n",
       "      <th>2</th>\n",
       "      <th>3</th>\n",
       "      <th>4</th>\n",
       "      <th>5</th>\n",
       "      <th>6</th>\n",
       "      <th>7</th>\n",
       "      <th>8</th>\n",
       "      <th>9</th>\n",
       "      <th>...</th>\n",
       "      <th>390</th>\n",
       "      <th>391</th>\n",
       "      <th>392</th>\n",
       "      <th>393</th>\n",
       "      <th>394</th>\n",
       "      <th>395</th>\n",
       "      <th>396</th>\n",
       "      <th>397</th>\n",
       "      <th>398</th>\n",
       "      <th>399</th>\n",
       "    </tr>\n",
       "  </thead>\n",
       "  <tbody>\n",
       "    <tr>\n",
       "      <th>0</th>\n",
       "      <td>0.001405</td>\n",
       "      <td>0.001426</td>\n",
       "      <td>0.001447</td>\n",
       "      <td>0.001468</td>\n",
       "      <td>0.001489</td>\n",
       "      <td>0.001510</td>\n",
       "      <td>0.001532</td>\n",
       "      <td>0.001554</td>\n",
       "      <td>0.001576</td>\n",
       "      <td>0.001598</td>\n",
       "      <td>...</td>\n",
       "      <td>0.005444</td>\n",
       "      <td>0.005458</td>\n",
       "      <td>0.005472</td>\n",
       "      <td>0.005486</td>\n",
       "      <td>0.005501</td>\n",
       "      <td>0.005516</td>\n",
       "      <td>0.005532</td>\n",
       "      <td>0.005548</td>\n",
       "      <td>0.005565</td>\n",
       "      <td>0.005582</td>\n",
       "    </tr>\n",
       "    <tr>\n",
       "      <th>1</th>\n",
       "      <td>0.004633</td>\n",
       "      <td>0.004656</td>\n",
       "      <td>0.004679</td>\n",
       "      <td>0.004703</td>\n",
       "      <td>0.004727</td>\n",
       "      <td>0.004751</td>\n",
       "      <td>0.004775</td>\n",
       "      <td>0.004800</td>\n",
       "      <td>0.004825</td>\n",
       "      <td>0.004849</td>\n",
       "      <td>...</td>\n",
       "      <td>0.015394</td>\n",
       "      <td>0.015336</td>\n",
       "      <td>0.015271</td>\n",
       "      <td>0.015199</td>\n",
       "      <td>0.015121</td>\n",
       "      <td>0.015038</td>\n",
       "      <td>0.014950</td>\n",
       "      <td>0.014858</td>\n",
       "      <td>0.014762</td>\n",
       "      <td>0.014663</td>\n",
       "    </tr>\n",
       "    <tr>\n",
       "      <th>2</th>\n",
       "      <td>0.000301</td>\n",
       "      <td>0.000306</td>\n",
       "      <td>0.000312</td>\n",
       "      <td>0.000318</td>\n",
       "      <td>0.000324</td>\n",
       "      <td>0.000329</td>\n",
       "      <td>0.000335</td>\n",
       "      <td>0.000341</td>\n",
       "      <td>0.000347</td>\n",
       "      <td>0.000353</td>\n",
       "      <td>...</td>\n",
       "      <td>0.002582</td>\n",
       "      <td>0.002589</td>\n",
       "      <td>0.002596</td>\n",
       "      <td>0.002604</td>\n",
       "      <td>0.002611</td>\n",
       "      <td>0.002619</td>\n",
       "      <td>0.002627</td>\n",
       "      <td>0.002635</td>\n",
       "      <td>0.002643</td>\n",
       "      <td>0.002652</td>\n",
       "    </tr>\n",
       "    <tr>\n",
       "      <th>3</th>\n",
       "      <td>0.004771</td>\n",
       "      <td>0.004794</td>\n",
       "      <td>0.004817</td>\n",
       "      <td>0.004841</td>\n",
       "      <td>0.004865</td>\n",
       "      <td>0.004889</td>\n",
       "      <td>0.004913</td>\n",
       "      <td>0.004938</td>\n",
       "      <td>0.004963</td>\n",
       "      <td>0.004987</td>\n",
       "      <td>...</td>\n",
       "      <td>0.013954</td>\n",
       "      <td>0.013853</td>\n",
       "      <td>0.013754</td>\n",
       "      <td>0.013657</td>\n",
       "      <td>0.013562</td>\n",
       "      <td>0.013471</td>\n",
       "      <td>0.013384</td>\n",
       "      <td>0.013300</td>\n",
       "      <td>0.013222</td>\n",
       "      <td>0.013148</td>\n",
       "    </tr>\n",
       "    <tr>\n",
       "      <th>4</th>\n",
       "      <td>0.005307</td>\n",
       "      <td>0.005330</td>\n",
       "      <td>0.005354</td>\n",
       "      <td>0.005378</td>\n",
       "      <td>0.005402</td>\n",
       "      <td>0.005426</td>\n",
       "      <td>0.005450</td>\n",
       "      <td>0.005475</td>\n",
       "      <td>0.005500</td>\n",
       "      <td>0.005525</td>\n",
       "      <td>...</td>\n",
       "      <td>0.010298</td>\n",
       "      <td>0.010295</td>\n",
       "      <td>0.010293</td>\n",
       "      <td>0.010291</td>\n",
       "      <td>0.010287</td>\n",
       "      <td>0.010282</td>\n",
       "      <td>0.010275</td>\n",
       "      <td>0.010264</td>\n",
       "      <td>0.010250</td>\n",
       "      <td>0.010235</td>\n",
       "    </tr>\n",
       "    <tr>\n",
       "      <th>...</th>\n",
       "      <td>...</td>\n",
       "      <td>...</td>\n",
       "      <td>...</td>\n",
       "      <td>...</td>\n",
       "      <td>...</td>\n",
       "      <td>...</td>\n",
       "      <td>...</td>\n",
       "      <td>...</td>\n",
       "      <td>...</td>\n",
       "      <td>...</td>\n",
       "      <td>...</td>\n",
       "      <td>...</td>\n",
       "      <td>...</td>\n",
       "      <td>...</td>\n",
       "      <td>...</td>\n",
       "      <td>...</td>\n",
       "      <td>...</td>\n",
       "      <td>...</td>\n",
       "      <td>...</td>\n",
       "      <td>...</td>\n",
       "      <td>...</td>\n",
       "    </tr>\n",
       "    <tr>\n",
       "      <th>13378</th>\n",
       "      <td>0.004922</td>\n",
       "      <td>0.004945</td>\n",
       "      <td>0.004968</td>\n",
       "      <td>0.004992</td>\n",
       "      <td>0.005016</td>\n",
       "      <td>0.005040</td>\n",
       "      <td>0.005065</td>\n",
       "      <td>0.005089</td>\n",
       "      <td>0.005114</td>\n",
       "      <td>0.005139</td>\n",
       "      <td>...</td>\n",
       "      <td>0.012517</td>\n",
       "      <td>0.012523</td>\n",
       "      <td>0.012535</td>\n",
       "      <td>0.012550</td>\n",
       "      <td>0.012569</td>\n",
       "      <td>0.012590</td>\n",
       "      <td>0.012614</td>\n",
       "      <td>0.012638</td>\n",
       "      <td>0.012664</td>\n",
       "      <td>0.012688</td>\n",
       "    </tr>\n",
       "    <tr>\n",
       "      <th>13379</th>\n",
       "      <td>0.000095</td>\n",
       "      <td>0.000097</td>\n",
       "      <td>0.000099</td>\n",
       "      <td>0.000101</td>\n",
       "      <td>0.000103</td>\n",
       "      <td>0.000105</td>\n",
       "      <td>0.000107</td>\n",
       "      <td>0.000109</td>\n",
       "      <td>0.000111</td>\n",
       "      <td>0.000113</td>\n",
       "      <td>...</td>\n",
       "      <td>0.001259</td>\n",
       "      <td>0.001263</td>\n",
       "      <td>0.001267</td>\n",
       "      <td>0.001271</td>\n",
       "      <td>0.001275</td>\n",
       "      <td>0.001279</td>\n",
       "      <td>0.001283</td>\n",
       "      <td>0.001287</td>\n",
       "      <td>0.001292</td>\n",
       "      <td>0.001296</td>\n",
       "    </tr>\n",
       "    <tr>\n",
       "      <th>13380</th>\n",
       "      <td>0.002070</td>\n",
       "      <td>0.002095</td>\n",
       "      <td>0.002120</td>\n",
       "      <td>0.002146</td>\n",
       "      <td>0.002172</td>\n",
       "      <td>0.002198</td>\n",
       "      <td>0.002224</td>\n",
       "      <td>0.002251</td>\n",
       "      <td>0.002278</td>\n",
       "      <td>0.002305</td>\n",
       "      <td>...</td>\n",
       "      <td>0.006321</td>\n",
       "      <td>0.006340</td>\n",
       "      <td>0.006359</td>\n",
       "      <td>0.006378</td>\n",
       "      <td>0.006398</td>\n",
       "      <td>0.006419</td>\n",
       "      <td>0.006440</td>\n",
       "      <td>0.006462</td>\n",
       "      <td>0.006484</td>\n",
       "      <td>0.006507</td>\n",
       "    </tr>\n",
       "    <tr>\n",
       "      <th>13381</th>\n",
       "      <td>0.004632</td>\n",
       "      <td>0.004655</td>\n",
       "      <td>0.004678</td>\n",
       "      <td>0.004702</td>\n",
       "      <td>0.004726</td>\n",
       "      <td>0.004750</td>\n",
       "      <td>0.004775</td>\n",
       "      <td>0.004799</td>\n",
       "      <td>0.004824</td>\n",
       "      <td>0.004849</td>\n",
       "      <td>...</td>\n",
       "      <td>0.015370</td>\n",
       "      <td>0.015309</td>\n",
       "      <td>0.015241</td>\n",
       "      <td>0.015166</td>\n",
       "      <td>0.015085</td>\n",
       "      <td>0.014998</td>\n",
       "      <td>0.014906</td>\n",
       "      <td>0.014810</td>\n",
       "      <td>0.014711</td>\n",
       "      <td>0.014608</td>\n",
       "    </tr>\n",
       "    <tr>\n",
       "      <th>13382</th>\n",
       "      <td>0.005358</td>\n",
       "      <td>0.005381</td>\n",
       "      <td>0.005405</td>\n",
       "      <td>0.005429</td>\n",
       "      <td>0.005453</td>\n",
       "      <td>0.005478</td>\n",
       "      <td>0.005502</td>\n",
       "      <td>0.005527</td>\n",
       "      <td>0.005553</td>\n",
       "      <td>0.005577</td>\n",
       "      <td>...</td>\n",
       "      <td>0.009859</td>\n",
       "      <td>0.009845</td>\n",
       "      <td>0.009832</td>\n",
       "      <td>0.009822</td>\n",
       "      <td>0.009814</td>\n",
       "      <td>0.009809</td>\n",
       "      <td>0.009807</td>\n",
       "      <td>0.009806</td>\n",
       "      <td>0.009806</td>\n",
       "      <td>0.009804</td>\n",
       "    </tr>\n",
       "  </tbody>\n",
       "</table>\n",
       "<p>13383 rows × 400 columns</p>\n",
       "</div>"
      ],
      "text/plain": [
       "            0         1         2         3         4         5         6    \\\n",
       "0      0.001405  0.001426  0.001447  0.001468  0.001489  0.001510  0.001532   \n",
       "1      0.004633  0.004656  0.004679  0.004703  0.004727  0.004751  0.004775   \n",
       "2      0.000301  0.000306  0.000312  0.000318  0.000324  0.000329  0.000335   \n",
       "3      0.004771  0.004794  0.004817  0.004841  0.004865  0.004889  0.004913   \n",
       "4      0.005307  0.005330  0.005354  0.005378  0.005402  0.005426  0.005450   \n",
       "...         ...       ...       ...       ...       ...       ...       ...   \n",
       "13378  0.004922  0.004945  0.004968  0.004992  0.005016  0.005040  0.005065   \n",
       "13379  0.000095  0.000097  0.000099  0.000101  0.000103  0.000105  0.000107   \n",
       "13380  0.002070  0.002095  0.002120  0.002146  0.002172  0.002198  0.002224   \n",
       "13381  0.004632  0.004655  0.004678  0.004702  0.004726  0.004750  0.004775   \n",
       "13382  0.005358  0.005381  0.005405  0.005429  0.005453  0.005478  0.005502   \n",
       "\n",
       "            7         8         9    ...       390       391       392  \\\n",
       "0      0.001554  0.001576  0.001598  ...  0.005444  0.005458  0.005472   \n",
       "1      0.004800  0.004825  0.004849  ...  0.015394  0.015336  0.015271   \n",
       "2      0.000341  0.000347  0.000353  ...  0.002582  0.002589  0.002596   \n",
       "3      0.004938  0.004963  0.004987  ...  0.013954  0.013853  0.013754   \n",
       "4      0.005475  0.005500  0.005525  ...  0.010298  0.010295  0.010293   \n",
       "...         ...       ...       ...  ...       ...       ...       ...   \n",
       "13378  0.005089  0.005114  0.005139  ...  0.012517  0.012523  0.012535   \n",
       "13379  0.000109  0.000111  0.000113  ...  0.001259  0.001263  0.001267   \n",
       "13380  0.002251  0.002278  0.002305  ...  0.006321  0.006340  0.006359   \n",
       "13381  0.004799  0.004824  0.004849  ...  0.015370  0.015309  0.015241   \n",
       "13382  0.005527  0.005553  0.005577  ...  0.009859  0.009845  0.009832   \n",
       "\n",
       "            393       394       395       396       397       398       399  \n",
       "0      0.005486  0.005501  0.005516  0.005532  0.005548  0.005565  0.005582  \n",
       "1      0.015199  0.015121  0.015038  0.014950  0.014858  0.014762  0.014663  \n",
       "2      0.002604  0.002611  0.002619  0.002627  0.002635  0.002643  0.002652  \n",
       "3      0.013657  0.013562  0.013471  0.013384  0.013300  0.013222  0.013148  \n",
       "4      0.010291  0.010287  0.010282  0.010275  0.010264  0.010250  0.010235  \n",
       "...         ...       ...       ...       ...       ...       ...       ...  \n",
       "13378  0.012550  0.012569  0.012590  0.012614  0.012638  0.012664  0.012688  \n",
       "13379  0.001271  0.001275  0.001279  0.001283  0.001287  0.001292  0.001296  \n",
       "13380  0.006378  0.006398  0.006419  0.006440  0.006462  0.006484  0.006507  \n",
       "13381  0.015166  0.015085  0.014998  0.014906  0.014810  0.014711  0.014608  \n",
       "13382  0.009822  0.009814  0.009809  0.009807  0.009806  0.009806  0.009804  \n",
       "\n",
       "[13383 rows x 400 columns]"
      ]
     },
     "execution_count": 101,
     "metadata": {},
     "output_type": "execute_result"
    }
   ],
   "source": [
    "Au_sphere_training_spectra"
   ]
  },
  {
   "cell_type": "code",
   "execution_count": 38,
   "metadata": {},
   "outputs": [],
   "source": [
    "RF_Au_Sphere = Train_Random_Forests_Size_Regression(\"all\", Au_Sphere[2], Au_Sphere[0], Au_Sphere[3], Au_Sphere[1], 50)"
   ]
  },
  {
   "cell_type": "code",
   "execution_count": 39,
   "metadata": {},
   "outputs": [
    {
     "data": {
      "text/plain": [
       "0.9999018773102332"
      ]
     },
     "execution_count": 39,
     "metadata": {},
     "output_type": "execute_result"
    }
   ],
   "source": [
    "RF_Au_Sphere[0]"
   ]
  },
  {
   "cell_type": "code",
   "execution_count": 60,
   "metadata": {},
   "outputs": [],
   "source": [
    "def create_mixture_dataframe(spectra_to_mix_train, spectra_to_mix_test, combine_w_pure_samples = True):    \n",
    "    mix_list = []\n",
    "    for row in range(0, len(spectra_to_mix_train.index)-1):\n",
    "        new_row = spectra_to_mix_train.loc[row]*0.5 + spectra_to_mix_train.loc[row+1]*0.5\n",
    "        mix_list.append(new_row)\n",
    "\n",
    "\n",
    "    mix_list_test = []\n",
    "    for row in range(0, len(spectra_to_mix_test.index)-1):\n",
    "        new_row = spectra_to_mix_test.loc[row]*0.5 + spectra_to_mix_test.loc[row+1]*0.5\n",
    "        mix_list_test.append(new_row)\n",
    "\n",
    "    mixed_spectra_train_df = pd.DataFrame(mix_list)\n",
    "    mixed_spectra_test_df = pd.DataFrame(mix_list_test)\n",
    "\n",
    "    labels_test = np.ones(203)\n",
    "    if combine_w_pure_samples == True:\n",
    "        labels_test = np.append(labels_test, np.zeros(204))\n",
    "    labels_test_df = pd.DataFrame(labels_test, columns = [\"Mixture\"])\n",
    "\n",
    "    labels_train = np.ones(13382)\n",
    "    if combine_w_pure_samples == True:\n",
    "        labels_train = np.append(labels_train, np.zeros(13383))\n",
    "    labels_train_df = pd.DataFrame(labels_train, columns = [\"Mixture\"])\n",
    "\n",
    "    if combine_w_pure_samples == True:\n",
    "        spectra_test_mixture = mixed_spectra_test_df.append(Au_sphere_test_spectra)\n",
    "    if combine_w_pure_samples == False:\n",
    "        spectra_test_mixture = mixed_spectra_test_df\n",
    "    spectra_test_mixture.reset_index(inplace = True)\n",
    "    spectra_test_mixture.drop(columns = ['index'], inplace = True)\n",
    "\n",
    "    if combine_w_pure_samples == True:\n",
    "        spectra_train_mixture = mixed_spectra_train_df.append(Au_sphere_training_spectra)\n",
    "    if combine_w_pure_samples == False:\n",
    "        spectra_train_mixture = mixed_spectra_train_df\n",
    "    spectra_train_mixture.reset_index(inplace = True)\n",
    "    spectra_train_mixture.drop(columns = ['index'], inplace = True)\n",
    "    \n",
    "    return(labels_train_df, labels_test_df, spectra_train_mixture, spectra_test_mixture)"
   ]
  },
  {
   "cell_type": "code",
   "execution_count": 61,
   "metadata": {},
   "outputs": [],
   "source": [
    "Au_spheres_mixtures = create_mixture_dataframe(Au_sphere_training_spectra, Au_sphere_test_spectra)\n",
    "Au_sphere_mixture_training_spectra = Au_spheres_mixtures[2]\n",
    "Au_sphere_mixture_test_spectra = Au_spheres_mixtures[3]\n",
    "Au_sphere_mixture_training_labels = Au_spheres_mixtures[0]\n",
    "Au_sphere_mixture_test_labels = Au_spheres_mixtures[1]"
   ]
  },
  {
   "cell_type": "code",
   "execution_count": 71,
   "metadata": {},
   "outputs": [],
   "source": [
    "Au_Wire = create_pure_datasets(labels_train, labels_test, spectra_train, spectra_test, \"Material_Au\", \"Geometry_wire\")\n",
    "Au_wire_training_spectra = Au_Wire[2]\n",
    "Au_wire_test_spectra = Au_Wire[3]\n",
    "Au_wire_training_labels = Au_Wire[0]\n",
    "Au_wire_test_labels = Au_Wire[1]"
   ]
  },
  {
   "cell_type": "code",
   "execution_count": 91,
   "metadata": {},
   "outputs": [
    {
     "name": "stdout",
     "output_type": "stream",
     "text": [
      "204\n",
      "400\n"
     ]
    }
   ],
   "source": [
    "print(len(Au_sphere_test_spectra))\n",
    "print(len(Au_wire_test_spectra))\n",
    "mix_list = []\n",
    "for row in range(0, len(Au_sphere_training_spectra.index)-1):\n",
    "    new_row = Au_wire_training_spectra.loc[row]*0.5 + Au_sphere_training_spectra.loc[row+1]*0.5\n",
    "    mix_list.append(new_row)\n",
    "\n",
    "\n",
    "mix_list_test = []\n",
    "for row in range(0, len(Au_sphere_test_spectra.index)-1):\n",
    "    new_row = Au_sphere_test_spectra.loc[row]*0.5 + Au_wire_test_spectra.loc[row+1]*0.5\n",
    "    mix_list_test.append(new_row)\n",
    "\n",
    "mixed_spectra_train_df = pd.DataFrame(mix_list)\n",
    "mixed_spectra_test_df = pd.DataFrame(mix_list_test)\n",
    "\n",
    "labels_test = np.full((1,len(mix_list_test)), 2)[0]\n",
    "labels_train = np.full((1,len(mix_list)), 2)[0]\n",
    "\n",
    "labels_train_df = pd.DataFrame(labels_train, columns = [\"Mixture\"])\n",
    "labels_test_df = pd.DataFrame(labels_test, columns = [\"Mixture\"])"
   ]
  },
  {
   "cell_type": "code",
   "execution_count": 93,
   "metadata": {},
   "outputs": [],
   "source": [
    "Au_wire_sphere_mixture_train_spectra = pd.concat([Au_sphere_mixture_training_spectra, mixed_spectra_train_df])\n",
    "Au_wire_sphere_mixture_test_spectra = pd.concat([Au_sphere_mixture_test_spectra, mixed_spectra_test_df])\n",
    "Au_wire_sphere_mixture_train_labels = pd.concat([Au_sphere_mixture_training_labels, labels_train_df])\n",
    "Au_wire_sphere_mixture_test_labels = pd.concat([Au_sphere_mixture_test_labels, labels_test_df])"
   ]
  },
  {
   "cell_type": "code",
   "execution_count": 100,
   "metadata": {},
   "outputs": [
    {
     "name": "stdout",
     "output_type": "stream",
     "text": [
      "0.6049180327868853\n",
      "Confusion matrix, without normalization\n",
      "[[0.92 0.08 0.  ]\n",
      " [0.1  0.9  0.  ]\n",
      " [0.08 0.92 0.  ]]\n"
     ]
    },
    {
     "data": {
      "image/png": "[encoded data removed]",
      "text/plain": [
       "<Figure size 432x288 with 2 Axes>"
      ]
     },
     "metadata": {
      "needs_background": "light"
     },
     "output_type": "display_data"
    }
   ],
   "source": [
    "rf_wire_sphere_mixture = RandomForestClassifier(n_estimators = 100, max_features = 20, n_jobs = -1, max_depth = 10, min_samples_leaf = 2, \n",
    "                                   bootstrap = True)\n",
    "rf_wire_sphere_mixture.fit(np.asarray(Au_wire_sphere_mixture_train_spectra), np.ravel(Au_wire_sphere_mixture_train_labels))\n",
    "print(rf_mixture.score(np.asarray(Au_wire_sphere_mixture_test_spectra), np.ravel(Au_wire_sphere_mixture_test_labels)))\n",
    "predictions = rf_mixture.predict(np.asarray(Au_wire_sphere_mixture_test_spectra))\n",
    "cm_mixture = confusion_matrix(np.ravel(Au_wire_sphere_mixture_test_labels), predictions)\n",
    "cm_normalized = normalize_cm(cm_mixture, list(np.ravel(Au_wire_sphere_mixture_test_labels)), 3)\n",
    "\n",
    "plot_confusion_matrix(np.asarray(cm_normalized), [\"Sphere\", \"Sphere Size Mix\", \"Sphere Wire Mix\"])"
   ]
  },
  {
   "cell_type": "code",
   "execution_count": 47,
   "metadata": {},
   "outputs": [
    {
     "data": {
      "image/png": "[encoded data removed]",
      "text/plain": [
       "<Figure size 432x288 with 1 Axes>"
      ]
     },
     "metadata": {
      "needs_background": "light"
     },
     "output_type": "display_data"
    },
    {
     "data": {
      "image/png": "[encoded data removed]",
      "text/plain": [
       "<Figure size 432x288 with 1 Axes>"
      ]
     },
     "metadata": {
      "needs_background": "light"
     },
     "output_type": "display_data"
    },
    {
     "data": {
      "text/plain": [
       "Text(0.5, 1.0, 'Unknown Spectrum')"
      ]
     },
     "execution_count": 47,
     "metadata": {},
     "output_type": "execute_result"
    },
    {
     "data": {
      "image/png": "[encoded data removed]",
      "text/plain": [
       "<Figure size 432x288 with 1 Axes>"
      ]
     },
     "metadata": {
      "needs_background": "light"
     },
     "output_type": "display_data"
    }
   ],
   "source": [
    "plt.plot(spectra_train_df_Au_sphere.loc[69])\n",
    "plt.title(\"Au NS Spectrum 1\")\n",
    "plt.show()\n",
    "plt.plot(spectra_train_df_Au_sphere.loc[70], color = 'r')\n",
    "plt.title(\"Au NS Spectrum 2\")\n",
    "plt.show()\n",
    "plt.plot((spectra_train_df_Au_sphere.loc[70]*0.5 + spectra_train_df_Au_sphere.loc[69]*0.5), color = 'purple')\n",
    "plt.title(\"Unknown Spectrum\")"
   ]
  },
  {
   "cell_type": "code",
   "execution_count": 49,
   "metadata": {},
   "outputs": [
    {
     "name": "stdout",
     "output_type": "stream",
     "text": [
      "max depth = 8.0 0.8574938574938575\n",
      "max depth = 9.0 0.8697788697788698\n",
      "max depth = 10.0 0.8648648648648649\n",
      "max depth = 11.0 0.8624078624078624\n",
      "max depth = 12.0 0.8574938574938575\n"
     ]
    }
   ],
   "source": [
    "for depth in np.linspace(8,12,5):    \n",
    "    rf_mixture = RandomForestClassifier(n_estimators = 50, max_features = 400, n_jobs = -1, max_depth = depth)\n",
    "    rf_mixture.fit(np.asarray(spectra_train_mixture), np.ravel(labels_train_df))\n",
    "    print(\"max depth = \" + str(depth), rf_mixture.score(np.asarray(spectra_test_mixture), np.ravel(labels_test_df)))\n",
    "    #predictions = rf_mixture.predict(np.asarray(spectra_test_mixture))\n",
    "    #cm_mixture = confusion_matrix(np.ravel(labels_test_df), predictions)\n",
    "    #cm_normalized = normalize_cm(cm_mixture, list(np.ravel(labels_test_df)), 2)\n",
    "    #plot_confusion_matrix(np.asarray(cm_normalized), [\"not mixture\", \"mixture\"])"
   ]
  },
  {
   "cell_type": "code",
   "execution_count": 103,
   "metadata": {},
   "outputs": [
    {
     "name": "stdout",
     "output_type": "stream",
     "text": [
      "0.9017199017199017\n",
      "Confusion matrix, without normalization\n",
      "[[0.91 0.09]\n",
      " [0.1  0.9 ]]\n"
     ]
    },
    {
     "data": {
      "image/png": "[encoded data removed]",
      "text/plain": [
       "<Figure size 432x288 with 2 Axes>"
      ]
     },
     "metadata": {
      "needs_background": "light"
     },
     "output_type": "display_data"
    }
   ],
   "source": [
    "rf_mixture = RandomForestClassifier(n_estimators = 100, max_features = 20, n_jobs = -1, max_depth = 10, \n",
    "                                   bootstrap = True)\n",
    "rf_mixture.fit(np.asarray(Au_sphere_mixture_training_spectra), np.ravel(Au_sphere_mixture_training_labels))\n",
    "print(rf_mixture.score(np.asarray(Au_sphere_mixture_test_spectra), np.ravel(Au_sphere_mixture_test_labels)))\n",
    "predictions = rf_mixture.predict(np.asarray(Au_sphere_mixture_test_spectra))\n",
    "cm_mixture = confusion_matrix(np.ravel(Au_sphere_mixture_test_labels), predictions)\n",
    "cm_normalized = normalize_cm(cm_mixture, list(np.ravel(Au_sphere_mixture_test_labels)), 2)\n",
    "plot_confusion_matrix(np.asarray(cm_normalized), [\"not mixture\", \"mixture\"])"
   ]
  },
  {
   "cell_type": "code",
   "execution_count": 35,
   "metadata": {},
   "outputs": [
    {
     "name": "stdout",
     "output_type": "stream",
     "text": [
      "0.7837837837837838\n",
      "Confusion matrix, without normalization\n",
      "[[0.61 0.39]\n",
      " [0.04 0.96]]\n"
     ]
    },
    {
     "data": {
      "image/png": "[encoded data removed]",
      "text/plain": [
       "<Figure size 432x288 with 2 Axes>"
      ]
     },
     "metadata": {
      "needs_background": "light"
     },
     "output_type": "display_data"
    }
   ],
   "source": [
    "rf_mixture = RandomForestClassifier(n_estimators = 100, max_features = 'auto', n_jobs = -1, \n",
    "                                   bootstrap = True)\n",
    "rf_mixture.fit(np.asarray(spectra_train_mixture), np.ravel(labels_train_df))\n",
    "print(rf_mixture.score(np.asarray(spectra_test_mixture), np.ravel(labels_test_df)))\n",
    "predictions = rf_mixture.predict(np.asarray(spectra_test_mixture))\n",
    "cm_mixture = confusion_matrix(np.ravel(labels_test_df), predictions)\n",
    "cm_normalized = normalize_cm(cm_mixture, list(np.ravel(labels_test_df)), 2)\n",
    "plot_confusion_matrix(np.asarray(cm_normalized), [\"not mixture\", \"mixture\"])"
   ]
  },
  {
   "cell_type": "code",
   "execution_count": null,
   "metadata": {},
   "outputs": [],
   "source": []
  }
 ],
 "metadata": {
  "kernelspec": {
   "display_name": "Python 3",
   "language": "python",
   "name": "python3"
  },
  "language_info": {
   "codemirror_mode": {
    "name": "ipython",
    "version": 3
   },
   "file_extension": ".py",
   "mimetype": "text/x-python",
   "name": "python",
   "nbconvert_exporter": "python",
   "pygments_lexer": "ipython3",
   "version": "3.7.7"
  }
 },
 "nbformat": 4,
 "nbformat_minor": 4
}
