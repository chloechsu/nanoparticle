{
 "cells": [
  {
   "cell_type": "code",
   "execution_count": null,
   "metadata": {},
   "outputs": [],
   "source": []
  },
  {
   "cell_type": "code",
   "execution_count": null,
   "metadata": {},
   "outputs": [],
   "source": []
  },
  {
   "cell_type": "code",
   "execution_count": null,
   "metadata": {},
   "outputs": [],
   "source": [
    "base_learners = [\n",
    "                 ('rf_1', RandomForestClassifier(n_estimators=50)),\n",
    "                 ('rf_2', SVC())             \n",
    "                ]\n",
    "\n",
    "clf = StackingClassifier(estimators=base_learners, final_estimator=LogisticRegression())\n",
    "\n",
    "# Extract score\n",
    "clf.fit(spectra_train, labels_train_shape_as_array_wo_OHE).score(spectra_test, y_test)"
   ]
  },
  {
   "cell_type": "code",
   "execution_count": null,
   "metadata": {},
   "outputs": [],
   "source": [
    "lm_size_regression = MultiOutputRegressor(LinearRegression(n_jobs = -1))"
   ]
  },
  {
   "cell_type": "code",
   "execution_count": null,
   "metadata": {},
   "outputs": [],
   "source": [
    "labels_test_size = labels_test.drop(columns = ['index', 'Geometry_sphere', 'Geometry_wire', 'Geometry_TriangPrismIsosc', \n",
    "                                            'Geometry_parallelepiped', 'index', 'Material_Au', 'Material_SiN', 'Material_SiO2'])\n",
    "labels_train_size = labels_train.drop(columns = ['index', 'Geometry_sphere', 'Geometry_wire', 'Geometry_TriangPrismIsosc', \n",
    "                                            'Geometry_parallelepiped', 'index', 'Material_Au', 'Material_SiN', 'Material_SiO2'])\n",
    "\n",
    "labels_train_size_as_array = labels_train_size.to_numpy()\n",
    "labels_test_size_as_array = labels_test_size.to_numpy()\n",
    "\n",
    "labels_test_shape = labels_test.drop(columns = [ 'index', 'Material_Au', 'Material_SiN', 'Material_SiO2', \n",
    "                                               'log Area/Vol','ShortestDim', 'MiddleDim','LongDim'])\n",
    "labels_train_shape = labels_train.drop(columns = ['index', 'Material_Au', 'Material_SiN', 'Material_SiO2', \n",
    "                                               'log Area/Vol','ShortestDim', 'MiddleDim','LongDim'])\n",
    "\n",
    "labels_train_shape_as_array = labels_train_shape.to_numpy()\n",
    "labels_test_shape_as_array = labels_test_shape.to_numpy()\n",
    "\n",
    "labels_train_shape_as_array_wo_OHE = convert_from_one_hot(labels_train_shape_as_array, from_one_hot_dict)\n",
    "labels_test_shape_as_array_wo_OHE = convert_from_one_hot(labels_test_shape_as_array, from_one_hot_dict)"
   ]
  },
  {
   "cell_type": "code",
   "execution_count": null,
   "metadata": {},
   "outputs": [],
   "source": [
    "lm_size_regression.fit(spectra_train, labels_train_size_as_array)"
   ]
  },
  {
   "cell_type": "code",
   "execution_count": null,
   "metadata": {},
   "outputs": [],
   "source": [
    "lm_size_regression.score(spectra_test, labels_test_size_as_array)"
   ]
  },
  {
   "cell_type": "code",
   "execution_count": null,
   "metadata": {},
   "outputs": [],
   "source": [
    "lm_size_regression.predict(spectra_test)"
   ]
  },
  {
   "cell_type": "code",
   "execution_count": null,
   "metadata": {},
   "outputs": [],
   "source": [
    "rf_shape_from_size = RandomForestClassifier(n_estimators = 50)"
   ]
  },
  {
   "cell_type": "code",
   "execution_count": null,
   "metadata": {},
   "outputs": [],
   "source": [
    "rf_shape_from_size.fit(labels_train_size_as_array, labels_train_shape_as_array_wo_OHE)"
   ]
  },
  {
   "cell_type": "code",
   "execution_count": null,
   "metadata": {},
   "outputs": [],
   "source": [
    "rf_shape_from_size.score(labels_test_size_as_array, labels_test_shape_as_array_wo_OHE)"
   ]
  },
  {
   "cell_type": "code",
   "execution_count": null,
   "metadata": {},
   "outputs": [],
   "source": [
    "rf_size_regression = joblib.load(\"RF size regression.joblib\")"
   ]
  },
  {
   "cell_type": "code",
   "execution_count": null,
   "metadata": {},
   "outputs": [],
   "source": [
    "predictions = rf_size_regression[1].predict(spectra_test)"
   ]
  },
  {
   "cell_type": "code",
   "execution_count": null,
   "metadata": {},
   "outputs": [],
   "source": [
    "shape_predictions = rf_shape_from_size.predict(predictions)"
   ]
  },
  {
   "cell_type": "code",
   "execution_count": null,
   "metadata": {},
   "outputs": [],
   "source": [
    "cm = confusion_matrix(labels_test_shape_as_array_wo_OHE, shape_predictions)\n",
    "normalized_cm = normalize_cm(cm, list(labels_test_shape_as_array_wo_OHE), 4)"
   ]
  },
  {
   "cell_type": "code",
   "execution_count": null,
   "metadata": {},
   "outputs": [],
   "source": [
    "plot_confusion_matrix(np.asarray(normalized_cm), [\"Parallelepiped\", \"Triangular Prism\", \"Sphere\", \"Wire\"])"
   ]
  },
  {
   "cell_type": "code",
   "execution_count": null,
   "metadata": {},
   "outputs": [],
   "source": [
    "labels_train_shape = labels_train.drop(columns = ['index','log Area/Vol', 'ShortestDim', 'MiddleDim', 'LongDim', \n",
    "                                                        'Material_Au', 'Material_SiN', 'Material_SiO2', 'index'] )\n",
    "labels_test_shape = labels_test.drop(columns = ['index','log Area/Vol', 'ShortestDim', 'MiddleDim', 'LongDim', \n",
    "                                                        'Material_Au','Material_SiN', 'Material_SiO2', 'index'] )\n",
    "\n",
    "labels_train_shape_as_array = labels_train_shape.to_numpy()\n",
    "labels_test_shape_as_array = labels_test_shape.to_numpy()\n",
    "        \n",
    "labels_train_shape_as_array_wo_OHE = convert_from_one_hot(labels_train_shape_as_array, from_one_hot_dict)\n",
    "labels_test_shape_as_array_wo_OHE = convert_from_one_hot(labels_test_shape_as_array, from_one_hot_dict)"
   ]
  },
  {
   "cell_type": "code",
   "execution_count": null,
   "metadata": {},
   "outputs": [],
   "source": [
    "correct_prediction_indicies = []\n",
    "misclassification_indicies = []\n",
    "for i in range(0, len(rf_shape_classifier_predictions)):\n",
    "    if rf_shape_classifier_predictions[i] == rf_shape_classifier_test_set[i]:\n",
    "        correct_prediction_indicies.append(i)\n",
    "    if rf_shape_classifier_predictions[i] != rf_shape_classifier_test_set[i]:\n",
    "        misclassification_indicies.append(i)"
   ]
  },
  {
   "cell_type": "code",
   "execution_count": null,
   "metadata": {},
   "outputs": [],
   "source": [
    "top_half = list(rf_shape_classifier_test_set[0:5000])\n",
    "print(\"top half\", top_half.count(0),\n",
    "top_half.count(1),\n",
    "top_half.count(2),\n",
    "top_half.count(3))\n",
    "\n",
    "\n",
    "bottom_half = list(rf_shape_classifier_test_set[5000:7811])\n",
    "print(\"bottom half\", bottom_half.count(0),\n",
    "bottom_half.count(1),\n",
    "bottom_half.count(2),\n",
    "bottom_half.count(3))"
   ]
  },
  {
   "cell_type": "code",
   "execution_count": null,
   "metadata": {},
   "outputs": [],
   "source": [
    "print(len(misclassification_indicies))\n",
    "print(len(correct_prediction_indicies))"
   ]
  },
  {
   "cell_type": "code",
   "execution_count": null,
   "metadata": {},
   "outputs": [],
   "source": [
    "misclassification_column = []\n",
    "for i in range(0, len(misclassification_indicies) + len(correct_prediction_indicies)):\n",
    "    if i in misclassification_indicies:\n",
    "        misclassification_column.append(1)\n",
    "    if i in correct_prediction_indicies:\n",
    "        misclassification_column.append(0)"
   ]
  },
  {
   "cell_type": "code",
   "execution_count": null,
   "metadata": {},
   "outputs": [],
   "source": [
    "len(misclassification_column)"
   ]
  },
  {
   "cell_type": "code",
   "execution_count": null,
   "metadata": {},
   "outputs": [],
   "source": [
    "labels_test[\"Misclassification\"] = misclassification_column"
   ]
  },
  {
   "cell_type": "code",
   "execution_count": null,
   "metadata": {},
   "outputs": [],
   "source": [
    "misclassification_correlation_area_vol = labels_test.drop(columns = [\"Geometry_TriangPrismIsosc\",\"Geometry_parallelepiped\", \n",
    "                                                                     \"Geometry_sphere\", \"Geometry_wire\", \n",
    "                            \"Material_Au\",\"Material_SiN\",\"Material_SiO2\", \"ShortestDim\",\"MiddleDim\",\"LongDim\"])"
   ]
  },
  {
   "cell_type": "code",
   "execution_count": null,
   "metadata": {},
   "outputs": [],
   "source": [
    "misclassification_correlation_area_vol.corr()"
   ]
  },
  {
   "cell_type": "code",
   "execution_count": null,
   "metadata": {},
   "outputs": [],
   "source": [
    "misclassification_correlation_short_dim = labels_test.drop(columns = [\"Geometry_TriangPrismIsosc\",\"Geometry_parallelepiped\", \n",
    "                                                                     \"Geometry_sphere\", \"Geometry_wire\", \n",
    "                            \"Material_Au\",\"Material_SiN\",\"Material_SiO2\", \"log Area/Vol\",\"MiddleDim\",\"LongDim\"])"
   ]
  },
  {
   "cell_type": "code",
   "execution_count": null,
   "metadata": {},
   "outputs": [],
   "source": [
    "misclassification_correlation_short_dim.corr()"
   ]
  },
  {
   "cell_type": "code",
   "execution_count": null,
   "metadata": {},
   "outputs": [],
   "source": [
    "misclassification_correlation_mid_dim = labels_test.drop(columns = [\"Geometry_TriangPrismIsosc\",\"Geometry_parallelepiped\", \n",
    "                                                                     \"Geometry_sphere\", \"Geometry_wire\", \n",
    "                            \"Material_Au\",\"Material_SiN\",\"Material_SiO2\", \"log Area/Vol\",\"ShortestDim\",\"LongDim\"])\n",
    "misclassification_correlation_mid_dim.corr()"
   ]
  },
  {
   "cell_type": "code",
   "execution_count": null,
   "metadata": {},
   "outputs": [],
   "source": [
    "misclassification_correlation_long_dim = labels_test.drop(columns = [\"Geometry_TriangPrismIsosc\",\"Geometry_parallelepiped\", \n",
    "                                                                     \"Geometry_sphere\", \"Geometry_wire\", \n",
    "                            \"Material_Au\",\"Material_SiN\",\"Material_SiO2\", \"log Area/Vol\",\"ShortestDim\",\"MiddleDim\"])\n",
    "misclassification_correlation_long_dim.corr()"
   ]
  },
  {
   "cell_type": "code",
   "execution_count": null,
   "metadata": {},
   "outputs": [],
   "source": [
    "labels_test_parallelepiped = drop_indicies(labels_test, 'Geometry_parallelepiped', 0, False)[0]\n",
    "labels_test_parallelepiped = labels_test_parallelepiped.reset_index()\n",
    "labels_test_parallelepiped.drop(columns = \"index\", inplace = True)"
   ]
  },
  {
   "cell_type": "code",
   "execution_count": null,
   "metadata": {},
   "outputs": [],
   "source": [
    "misclassification_parallelepiped_area_vol = labels_test_parallelepiped.drop(columns = [\"Geometry_TriangPrismIsosc\",\"Geometry_parallelepiped\", \n",
    "                                                                     \"Geometry_sphere\", \"Geometry_wire\", \n",
    "                            \"Material_Au\",\"Material_SiN\",\"Material_SiO2\", \"ShortestDim\",\"MiddleDim\",\"LongDim\"])\n",
    "misclassification_parallelepiped_area_vol.corr()"
   ]
  },
  {
   "cell_type": "code",
   "execution_count": null,
   "metadata": {},
   "outputs": [],
   "source": [
    "misclassification_parallelepiped_area_vol = labels_test_parallelepiped.drop(columns = [\"Geometry_TriangPrismIsosc\",\"Geometry_parallelepiped\", \n",
    "                                                                     \"Geometry_sphere\", \"Geometry_wire\", \n",
    "                            \"Material_Au\",\"Material_SiN\",\"Material_SiO2\", \"ShortestDim\",\"MiddleDim\",\"LongDim\"])\n",
    "misclassification_parallelepiped_area_vol.corr()"
   ]
  },
  {
   "cell_type": "code",
   "execution_count": null,
   "metadata": {},
   "outputs": [],
   "source": [
    "misclassification_parallelepiped_small_dim = labels_test_parallelepiped.drop(columns = [\"Geometry_TriangPrismIsosc\",\"Geometry_parallelepiped\", \n",
    "                                                                     \"Geometry_sphere\", \"Geometry_wire\", \n",
    "                            \"Material_Au\",\"Material_SiN\",\"Material_SiO2\", \"log Area/Vol\",\"MiddleDim\",\"LongDim\"])\n",
    "misclassification_parallelepiped_small_dim.corr()"
   ]
  },
  {
   "cell_type": "code",
   "execution_count": null,
   "metadata": {},
   "outputs": [],
   "source": [
    "misclassification_parallelepiped_medium_dim = labels_test_parallelepiped.drop(columns = [\"Geometry_TriangPrismIsosc\",\"Geometry_parallelepiped\", \n",
    "                                                                     \"Geometry_sphere\", \"Geometry_wire\", \n",
    "                            \"Material_Au\",\"Material_SiN\",\"Material_SiO2\", \"log Area/Vol\",\"ShortestDim\",\"LongDim\"])\n",
    "misclassification_parallelepiped_medium_dim.corr()"
   ]
  },
  {
   "cell_type": "code",
   "execution_count": null,
   "metadata": {},
   "outputs": [],
   "source": [
    "misclassification_parallelepiped_long_dim = labels_test_parallelepiped.drop(columns = [\"Geometry_TriangPrismIsosc\",\"Geometry_parallelepiped\", \n",
    "                                                                     \"Geometry_sphere\", \"Geometry_wire\", \n",
    "                            \"Material_Au\",\"Material_SiN\",\"Material_SiO2\", \"log Area/Vol\",\"ShortestDim\",\"MiddleDim\"])\n",
    "misclassification_parallelepiped_long_dim.corr()"
   ]
  },
  {
   "cell_type": "markdown",
   "metadata": {},
   "source": [
    "Build a random forest model to predict whether or not the spectrum will have its shape misclassified and examine which wavelengths are most important to determining misclasification using feature_importance_ \n",
    "\n",
    "use the rf model to predict shapes on spectra_train_smaller (which is all maxwell equation data) and determine which were misclassified. Build a DF with these misclassifications and use it to train a model predicting misclassification from spectrum. Test this model on labels_test to see how accurately we can predict misclassifications based on spectrum, and which wavelengths are ambigous for classification tasks"
   ]
  },
  {
   "cell_type": "code",
   "execution_count": null,
   "metadata": {},
   "outputs": [],
   "source": [
    "top_half_spectra_test = spectra_test[0:4000]"
   ]
  },
  {
   "cell_type": "code",
   "execution_count": null,
   "metadata": {},
   "outputs": [],
   "source": [
    "predictions = rf_shape_classifier_all.predict(spectra_test)\n",
    "labels_test_misclassification = rf_shape_classifier_test_set"
   ]
  },
  {
   "cell_type": "code",
   "execution_count": null,
   "metadata": {},
   "outputs": [],
   "source": [
    "correct_prediction_indicies = []\n",
    "misclassification_indicies = []\n",
    "for i in range(0, len(predictions)):\n",
    "    if predictions[i] == labels_test_misclassification[i]:\n",
    "        correct_prediction_indicies.append(i)\n",
    "    if predictions[i] != labels_test_misclassification[i]:\n",
    "        misclassification_indicies.append(i)\n",
    "misclassification_column = []\n",
    "for i in range(0, len(misclassification_indicies) + len(correct_prediction_indicies)):\n",
    "    if i in misclassification_indicies:\n",
    "        misclassification_column.append(1)\n",
    "    if i in correct_prediction_indicies:\n",
    "        misclassification_column.append(0)"
   ]
  },
  {
   "cell_type": "code",
   "execution_count": null,
   "metadata": {},
   "outputs": [],
   "source": [
    "len(misclassification_column)"
   ]
  },
  {
   "cell_type": "code",
   "execution_count": null,
   "metadata": {},
   "outputs": [],
   "source": [
    "print(sum(  misclassification_column[6000:7812]))\n",
    "\n",
    "print(1 - 506/1812)"
   ]
  },
  {
   "cell_type": "code",
   "execution_count": null,
   "metadata": {},
   "outputs": [],
   "source": [
    "rf_misclassification = RandomForestClassifier(n_estimators = 50, max_features = 200, n_jobs = -1, oob_score = True,\n",
    "                                             warm_start = True)\n",
    "rf_misclassification.fit(spectra_test[0:6000], misclassification_column[0:6000])"
   ]
  },
  {
   "cell_type": "code",
   "execution_count": null,
   "metadata": {},
   "outputs": [],
   "source": [
    "rf_misclassification.score(spectra_test[6000:7812], misclassification_column[6000:7812])"
   ]
  },
  {
   "cell_type": "code",
   "execution_count": null,
   "metadata": {},
   "outputs": [],
   "source": [
    "plt.plot(rf_misclassification.feature_importances_)\n",
    "plt.title(\"Predict Misclassification From Spectrum\")"
   ]
  },
  {
   "cell_type": "code",
   "execution_count": null,
   "metadata": {},
   "outputs": [],
   "source": [
    "predictions = rf_misclassification.predict(spectra_test[6000:7812])\n",
    "cm_rf = confusion_matrix(misclassification_column[6000:7812], predictions)"
   ]
  },
  {
   "cell_type": "code",
   "execution_count": null,
   "metadata": {},
   "outputs": [],
   "source": [
    "cm_normalized = normalize_cm(cm_rf, list(misclassification_column[6000:7812]), 2)\n",
    "plot_confusion_matrix(np.asarray(cm_normalized), [\"Correctly Classified\", \"Misclasified\"])"
   ]
  },
  {
   "cell_type": "code",
   "execution_count": null,
   "metadata": {},
   "outputs": [],
   "source": [
    "rf_misclassification_from_size = RandomForestClassifier(n_estimators = 100, n_jobs = -1, oob_score = True)\n",
    "rf_misclassification_from_size.fit(np.asarray(labels_test_no_misclassification)[0:6000], misclassification_column[0:6000])\n",
    "print(rf_misclassification_from_size.score(np.asarray(labels_test_no_misclassification)[6000:7812], misclassification_column[6000:7812]))\n",
    "predictions = rf_misclassification_from_size.predict(np.asarray(labels_test_no_misclassification)[6000:7812])\n",
    "cm_rf = confusion_matrix(misclassification_column[6000:7812], predictions)\n",
    "cm_normalized = normalize_cm(cm_rf, list(misclassification_column[6000:7812]), 2)\n",
    "plot_confusion_matrix(np.asarray(cm_normalized), [\"Correctly Classified\", \"Misclasified\"])"
   ]
  },
  {
   "cell_type": "code",
   "execution_count": null,
   "metadata": {},
   "outputs": [],
   "source": [
    "rf_misclassification_no_size = RandomForestClassifier(n_estimators = 100, n_jobs = -1, oob_score = True)\n",
    "rf_misclassification_no_size.fit(np.asarray(labels_test_no_size)[0:6000], misclassification_column[0:6000])\n",
    "print(rf_misclassification_no_size.score(np.asarray(labels_test_no_size)[6000:7812], misclassification_column[6000:7812]))\n",
    "predictions = rf_misclassification_no_size.predict(np.asarray(labels_test_no_size)[6000:7812])\n",
    "cm_rf = confusion_matrix(misclassification_column[6000:7812], predictions)\n",
    "cm_normalized = normalize_cm(cm_rf, list(misclassification_column[6000:7812]), 2)\n",
    "plot_confusion_matrix(np.asarray(cm_normalized), [\"Correctly Classified\", \"Misclasified\"])"
   ]
  },
  {
   "cell_type": "code",
   "execution_count": null,
   "metadata": {},
   "outputs": [],
   "source": [
    "labels_test_no_misclassification =labels_test.drop(columns = [\"Misclassification\"])\n",
    "labels_test_no_size = labels_test.drop(columns = [\"Misclassification\", \"Geometry_TriangPrismIsosc\",\"Geometry_parallelepiped\",\n",
    "                                                  \"Geometry_wire\", \"Geometry_sphere\"])\n",
    "labels_test_no_size"
   ]
  },
  {
   "cell_type": "code",
   "execution_count": null,
   "metadata": {},
   "outputs": [],
   "source": [
    "categories = [\"Tri\",\"Para\", \"Sphere\",\"Wire\",\"Au\", \"SiN\",\n",
    "          \"SiO2\", \"A/V\",\"Short\",\"Mid\", \"Long\"]\n",
    "\n",
    "title = \"Predict Misclassification From Size, Shape, and Material\"\n",
    "\n",
    "sns.barplot(categories, rf_misclassification_from_size.feature_importances_).set(title = title, ylabel = \"Importance\")"
   ]
  },
  {
   "cell_type": "code",
   "execution_count": null,
   "metadata": {},
   "outputs": [],
   "source": [
    "labels_test.drop(columns = [\"Geometry_TriangPrismIsosc\",\"Geometry_parallelepiped\",\"Geometry_sphere\",\"Geometry_wire\", \"index\"], inplace = True)"
   ]
  },
  {
   "cell_type": "code",
   "execution_count": null,
   "metadata": {},
   "outputs": [],
   "source": [
    "labels_test[\"Shape\"] = rf_shape_classifier_test_set\n",
    "labels_test"
   ]
  },
  {
   "cell_type": "code",
   "execution_count": null,
   "metadata": {},
   "outputs": [],
   "source": [
    "labels_test_material = labels_test.drop(columns = [\"log Area/Vol\", \"ShortestDim\", \"MiddleDim\", \"LongDim\", \"Shape\"])"
   ]
  },
  {
   "cell_type": "code",
   "execution_count": null,
   "metadata": {},
   "outputs": [],
   "source": [
    "from_one_hot_dict_materials = {(1.,0.,0.) : 0, (0.,1.,0.) : 1, (0.,0.,1.) : 2}"
   ]
  },
  {
   "cell_type": "code",
   "execution_count": null,
   "metadata": {},
   "outputs": [],
   "source": [
    "array_labels_test_material = convert_from_one_hot(np.asarray(labels_test_material), from_one_hot_dict_materials)"
   ]
  },
  {
   "cell_type": "code",
   "execution_count": null,
   "metadata": {},
   "outputs": [],
   "source": [
    "array_labels_test_material"
   ]
  },
  {
   "cell_type": "code",
   "execution_count": null,
   "metadata": {},
   "outputs": [],
   "source": [
    "labels_test[\"Material\"] = array_labels_test_material"
   ]
  },
  {
   "cell_type": "code",
   "execution_count": null,
   "metadata": {},
   "outputs": [],
   "source": [
    "labels_test_no_OHE = labels_test.drop(columns = [\"Material_Au\",\"Material_SiN\",\"Material_SiO2\"])"
   ]
  }
 ],
 "metadata": {
  "kernelspec": {
   "display_name": "Python 3",
   "language": "python",
   "name": "python3"
  },
  "language_info": {
   "codemirror_mode": {
    "name": "ipython",
    "version": 3
   },
   "file_extension": ".py",
   "mimetype": "text/x-python",
   "name": "python",
   "nbconvert_exporter": "python",
   "pygments_lexer": "ipython3",
   "version": "3.7.7"
  }
 },
 "nbformat": 4,
 "nbformat_minor": 4
}
