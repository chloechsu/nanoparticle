{
 "cells": [
  {
   "cell_type": "code",
   "execution_count": 3,
   "metadata": {},
   "outputs": [],
   "source": [
    "import joblib\n",
    "import itertools\n",
    "import matplotlib.pyplot as plt\n",
    "import pandas as pd\n",
    "from sklearn import tree\n",
    "from sklearn.ensemble import RandomForestClassifier\n",
    "import numpy as np\n",
    "from sklearn.metrics import confusion_matrix\n",
    "import seaborn as sns\n",
    "from sklearn.multioutput import MultiOutputClassifier\n",
    "from sklearn.ensemble import RandomForestRegressor\n",
    "from sklearn.multioutput import MultiOutputRegressor\n",
    "from RF_Model_Functions import *\n",
    "from IPython.display import Image  \n",
    "from sklearn.externals.six import StringIO  \n",
    "import pydotplus\n",
    "from scipy.signal import savgol_filter\n",
    "from sklearn.datasets import load_iris\n",
    "from sklearn.ensemble import RandomForestClassifier, StackingClassifier\n",
    "from sklearn.linear_model import LogisticRegression\n",
    "from sklearn.model_selection import train_test_split\n",
    "from sklearn.neighbors import KNeighborsClassifier\n",
    "from sklearn.svm import SVC\n",
    "from sklearn.linear_model import LinearRegression\n",
    "from sklearn.multioutput import MultiOutputRegressor"
   ]
  },
  {
   "cell_type": "markdown",
   "metadata": {},
   "source": [
    "def plot_confusion_matrix(cm, classes,\n",
    "                          normalize=False,\n",
    "                          title='Confusion matrix',\n",
    "                          cmap=plt.cm.Blues):\n",
    "    \"\"\"\n",
    "    This function prints and plots the confusion matrix.\n",
    "    Normalization can be applied by setting `normalize=True`.\n",
    "    \"\"\"\n",
    "    plt.imshow(cm, interpolation='nearest', cmap=cmap)\n",
    "    plt.title(title)\n",
    "    plt.colorbar()\n",
    "    tick_marks = np.arange(len(classes))\n",
    "    plt.xticks(tick_marks, classes, rotation=45)\n",
    "    plt.yticks(tick_marks, classes)\n",
    "\n",
    "    if normalize:\n",
    "        cm = cm.astype('float') / cm.sum(axis=1)[:, np.newaxis]\n",
    "        print(\"Normalized confusion matrix\")\n",
    "    else:\n",
    "        print('Confusion matrix, without normalization')\n",
    "\n",
    "    print(cm)\n",
    "\n",
    "    thresh = cm.max() / 2.\n",
    "    for i, j in itertools.product(range(cm.shape[0]), range(cm.shape[1])):\n",
    "        plt.text(j, i, cm[i, j],\n",
    "                 horizontalalignment=\"center\",\n",
    "                 color=\"white\" if cm[i, j] > thresh else \"black\")\n",
    "\n",
    "    plt.tight_layout()\n",
    "    plt.ylabel('True label')\n",
    "    plt.xlabel('Predicted label')"
   ]
  },
  {
   "cell_type": "markdown",
   "metadata": {},
   "source": [
    "def shape_classification_binary(training_set_spectrum, training_set_lables, test_set_spectrum, test_set_labels, \n",
    "                                num_trees, shapes):\n",
    "    for shape in shapes: \n",
    "        if shape == 'Geometry_parallelepiped':\n",
    "            labels_train_shape_parallelepiped = labels_train.drop(columns = ['index','log Area/Vol', 'ShortestDim', \n",
    "                                                                             'MiddleDim', 'LongDim', 'Material_SiN', \n",
    "                                                                             'Material_SiO2', 'Material_Au', 'Geometry_sphere', \n",
    "                                                                             'Geometry_wire', 'Geometry_TriangPrismIsosc'])\n",
    "            labels_test_shape_parallelepiped = labels_test.drop(columns = ['index','log Area/Vol', 'ShortestDim', \n",
    "                                                                             'MiddleDim', 'LongDim', 'Material_SiN', \n",
    "                                                                             'Material_SiO2', 'Material_Au', 'Geometry_sphere', \n",
    "                                                                             'Geometry_wire', 'Geometry_TriangPrismIsosc'])\n",
    "            labels_train_shape_parallelepiped_as_array = np.asarray(labels_train_shape_parallelepiped) \n",
    "            labels_test_shape_parallelepiped_as_array = np.asarray(labels_test_shape_parallelepiped) \n",
    "            \n",
    "            \n",
    "            print(\"Training rf_parallelepiped\")\n",
    "            rf_parallelepiped = RandomForestClassifier(n_estimators=num_trees)\n",
    "            rf_parallelepiped.fit(spectra_train, np.ravel(labels_train_shape_parallelepiped_as_array))\n",
    "            rf_parallelepiped_accuracy = rf_parallelepiped.score(spectra_test, labels_test_shape_parallelepiped_as_array)\n",
    "            rf_parallelepiped_predictions = rf_parallelepiped.predict(spectra_test)\n",
    "            rf_parallelepiped_cm = confusion_matrix(labels_test_shape_parallelepiped_as_array, rf_parallelepiped_predictions)\n",
    "\n",
    "        if shape == 'Geometry_TriangPrismIsosc':\n",
    "            labels_train_shape_triangle = labels_train.drop(columns = ['index','log Area/Vol', 'ShortestDim', \n",
    "                                                                             'MiddleDim', 'LongDim', 'Material_SiN', \n",
    "                                                                             'Material_SiO2', 'Material_Au', 'Geometry_sphere', \n",
    "                                                                             'Geometry_wire', 'Geometry_parallelepiped'])\n",
    "            labels_test_shape_triangle = labels_test.drop(columns = ['index','log Area/Vol', 'ShortestDim', \n",
    "                                                                             'MiddleDim', 'LongDim', 'Material_SiN', \n",
    "                                                                             'Material_SiO2', 'Material_Au', 'Geometry_sphere', \n",
    "                                                                             'Geometry_wire', 'Geometry_parallelepiped'])\n",
    "            \n",
    "            labels_train_shape_triangle_as_array = np.asarray(labels_train_shape_triangle) \n",
    "            labels_test_shape_triangle_as_array = np.asarray(labels_test_shape_triangle) \n",
    "            \n",
    "            print(\"Training rf_triangle\")\n",
    "            rf_triangle = RandomForestClassifier(n_estimators=num_trees)\n",
    "            rf_triangle.fit(spectra_train, np.ravel(labels_train_shape_triangle_as_array))\n",
    "            rf_triangle_accuracy = rf_triangle.score(spectra_test, labels_test_shape_triangle_as_array)\n",
    "            rf_triangle_predictions = rf_triangle.predict(spectra_test)\n",
    "            rf_triangle_cm = confusion_matrix(labels_test_shape_triangle_as_array, rf_triangle_predictions)\n",
    "            \n",
    "        if shape == 'Geometry_wire':\n",
    "            labels_train_shape_wire = labels_train.drop(columns = ['index','log Area/Vol', 'ShortestDim', \n",
    "                                                                             'MiddleDim', 'LongDim', 'Material_SiN', \n",
    "                                                                             'Material_SiO2', 'Material_Au', 'Geometry_sphere', \n",
    "                                                                             'Geometry_TriangPrismIsosc', 'Geometry_parallelepiped'])\n",
    "            labels_test_shape_wire = labels_test.drop(columns = ['index','log Area/Vol', 'ShortestDim', \n",
    "                                                                             'MiddleDim', 'LongDim', 'Material_SiN', \n",
    "                                                                             'Material_SiO2', 'Material_Au', 'Geometry_sphere', \n",
    "                                                                             'Geometry_TriangPrismIsosc', 'Geometry_parallelepiped'])\n",
    "            \n",
    "            labels_train_shape_wire_as_array = np.asarray(labels_train_shape_wire) \n",
    "            labels_test_shape_wire_as_array = np.asarray(labels_test_shape_wire) \n",
    "            \n",
    "            print(\"Training rf_wire\")\n",
    "            rf_wire = RandomForestClassifier(n_estimators=num_trees)\n",
    "            rf_wire.fit(spectra_train, np.ravel(labels_train_shape_wire_as_array))\n",
    "            rf_wire_accuracy = rf_wire.score(spectra_test, labels_test_shape_wire_as_array)\n",
    "            rf_wire_predictions = rf_wire.predict(spectra_test)\n",
    "            rf_wire_cm = confusion_matrix(labels_test_shape_wire_as_array, rf_wire_predictions)\n",
    "\n",
    "        if shape == 'Geometry_sphere':\n",
    "            labels_train_shape_sphere = labels_train.drop(columns = ['index','log Area/Vol', 'ShortestDim', \n",
    "                                                                             'MiddleDim', 'LongDim', 'Material_SiN', \n",
    "                                                                             'Material_SiO2', 'Material_Au', 'Geometry_wire', \n",
    "                                                                             'Geometry_TriangPrismIsosc', 'Geometry_parallelepiped'])\n",
    "            labels_test_shape_sphere = labels_test.drop(columns = ['index','log Area/Vol', 'ShortestDim', \n",
    "                                                                             'MiddleDim', 'LongDim', 'Material_SiN', \n",
    "                                                                             'Material_SiO2', 'Material_Au', 'Geometry_wire', \n",
    "                                                                             'Geometry_TriangPrismIsosc', 'Geometry_parallelepiped'])\n",
    "            labels_train_shape_sphere_as_array = np.asarray(labels_train_shape_sphere) \n",
    "            labels_test_shape_sphere_as_array = np.asarray(labels_test_shape_sphere) \n",
    "            \n",
    "            print(\"Training rf_sphere\")\n",
    "            rf_sphere = RandomForestClassifier(n_estimators=num_trees)\n",
    "            rf_sphere.fit(spectra_train, np.ravel(labels_train_shape_sphere_as_array))\n",
    "            rf_sphere_accuracy = rf_sphere.score(spectra_test, labels_test_shape_sphere_as_array)\n",
    "            rf_sphere_predictions = rf_sphere.predict(spectra_test)\n",
    "            rf_sphere_cm = confusion_matrix(labels_test_shape_sphere_as_array, rf_sphere_predictions)\n",
    "\n",
    "    \n",
    "\n",
    "    return[[\"parallelepiped\", rf_parallelepiped_accuracy, rf_parallelepiped_predictions, rf_parallelepiped_cm, labels_test_shape_parallelepiped_as_array],\n",
    "           [\"sphere\", rf_sphere_accuracy, rf_sphere_predictions, rf_sphere_cm, labels_test_shape_sphere_as_array],\n",
    "           [\"triangle\", rf_triangle_accuracy, rf_triangle_predictions, rf_triangle_cm, labels_test_shape_triangle_as_array],\n",
    "           [\"wire\", rf_wire_accuracy, rf_wire_predictions, rf_wire_cm, labels_test_shape_wire_as_array]]"
   ]
  },
  {
   "cell_type": "code",
   "execution_count": 4,
   "metadata": {},
   "outputs": [],
   "source": [
    "spectra_train = joblib.load('cache/r20200406_234541_50.0sc_50.0sp_1_CPU/spectral/y_new_train.joblib')\n",
    "spectra_test = joblib.load('cache/r20200406_234541_50.0sc_50.0sp_1_CPU/spectral/y_test.joblib')\n",
    "labels_train = joblib.load('cache/r20200406_234541_50.0sc_50.0sp_1_CPU/spectral/x_new_train.joblib').reset_index()\n",
    "labels_test = joblib.load('cache/r20200406_234541_50.0sc_50.0sp_1_CPU/spectral/x_test.joblib').reset_index()\n",
    "labels_train_smaller = joblib.load('cache/r20200406_234541_50.0sc_50.0sp_1_CPU/spectral/x_train.joblib').reset_index()\n",
    "spectra_train_smaller = joblib.load('cache/r20200406_234541_50.0sc_50.0sp_1_CPU/spectral/y_train.joblib')"
   ]
  },
  {
   "cell_type": "code",
   "execution_count": 8,
   "metadata": {},
   "outputs": [],
   "source": [
    "from_one_hot_dict = {(1.,0.,0.,0.) : 0, (0.,1.,0.,0.) : 1, (0.,0.,1.,0.) : 2, (0.,0.,0.,1.) : 3}\n",
    "from_one_hot_dict_materials = {(1.,0.,0.) : 0, (0.,1.,0.) : 1, (0.,0.,1.) : 2}"
   ]
  },
  {
   "cell_type": "markdown",
   "metadata": {},
   "source": [
    "Add derivatives of spectra to the model (The next clump of cells deal with this question)"
   ]
  },
  {
   "cell_type": "code",
   "execution_count": 9,
   "metadata": {},
   "outputs": [],
   "source": [
    "derivs = []\n",
    "for spectrum in spectra_train:\n",
    "    deriv_spectrum = np.gradient(spectrum)\n",
    "    derivs.append(deriv_spectrum)\n",
    "spectra_train_derivs = np.asarray(derivs)\n",
    "\n",
    "second_derivs = []\n",
    "for spectrum_deriv in spectra_train_derivs:\n",
    "    deriv_deriv_spectrum = np.gradient(spectrum_deriv)\n",
    "    second_derivs.append(deriv_deriv_spectrum)\n",
    "spectra_train_deriv_derivs = np.asarray(second_derivs)"
   ]
  },
  {
   "cell_type": "code",
   "execution_count": 10,
   "metadata": {},
   "outputs": [],
   "source": [
    "derivs = []\n",
    "for spectrum in spectra_test:\n",
    "    deriv_spectrum = np.gradient(spectrum)\n",
    "    derivs.append(deriv_spectrum)\n",
    "spectra_test_derivs = np.asarray(derivs)\n",
    "\n",
    "second_derivs = []\n",
    "for spectrum_deriv in spectra_test_derivs:\n",
    "    deriv_deriv_spectrum = np.gradient(spectrum_deriv)\n",
    "    second_derivs.append(deriv_deriv_spectrum)\n",
    "spectra_test_deriv_derivs = np.asarray(second_derivs)"
   ]
  },
  {
   "cell_type": "code",
   "execution_count": 11,
   "metadata": {},
   "outputs": [],
   "source": [
    "spectra_test_w_derivs = np.hstack((spectra_test, spectra_test_derivs))"
   ]
  },
  {
   "cell_type": "code",
   "execution_count": 12,
   "metadata": {},
   "outputs": [],
   "source": [
    "spectra_train_w_derivs = np.hstack((spectra_train, spectra_train_derivs))"
   ]
  },
  {
   "cell_type": "code",
   "execution_count": 13,
   "metadata": {},
   "outputs": [],
   "source": [
    "spectra_test_w_derivs_2 = np.hstack((spectra_test, spectra_test_derivs, spectra_test_deriv_derivs))"
   ]
  },
  {
   "cell_type": "code",
   "execution_count": 14,
   "metadata": {},
   "outputs": [
    {
     "data": {
      "text/plain": [
       "(7813, 1200)"
      ]
     },
     "execution_count": 14,
     "metadata": {},
     "output_type": "execute_result"
    }
   ],
   "source": [
    "spectra_test_w_derivs_2.shape"
   ]
  },
  {
   "cell_type": "code",
   "execution_count": 15,
   "metadata": {},
   "outputs": [],
   "source": [
    "spectra_train_w_derivs_2 = np.hstack((spectra_train, spectra_train_derivs, spectra_train_deriv_derivs))"
   ]
  },
  {
   "cell_type": "code",
   "execution_count": 16,
   "metadata": {},
   "outputs": [
    {
     "data": {
      "text/plain": [
       "(164052, 1200)"
      ]
     },
     "execution_count": 16,
     "metadata": {},
     "output_type": "execute_result"
    }
   ],
   "source": [
    "spectra_train_w_derivs_2.shape"
   ]
  },
  {
   "cell_type": "code",
   "execution_count": 17,
   "metadata": {},
   "outputs": [
    {
     "name": "stdout",
     "output_type": "stream",
     "text": [
      "training shape classifier all materials\n"
     ]
    },
    {
     "ename": "KeyboardInterrupt",
     "evalue": "",
     "output_type": "error",
     "traceback": [
      "\u001b[1;31m---------------------------------------------------------------------------\u001b[0m",
      "\u001b[1;31mKeyboardInterrupt\u001b[0m                         Traceback (most recent call last)",
      "\u001b[1;32m<ipython-input-17-a86b5738b3e3>\u001b[0m in \u001b[0;36m<module>\u001b[1;34m\u001b[0m\n\u001b[1;32m----> 1\u001b[1;33m \u001b[0mrf_all_w_derivs\u001b[0m \u001b[1;33m=\u001b[0m \u001b[0mTrain_Random_Forests_Shape_Classification\u001b[0m\u001b[1;33m(\u001b[0m\u001b[1;34m\"All\"\u001b[0m\u001b[1;33m,\u001b[0m \u001b[0mspectra_train_w_derivs\u001b[0m\u001b[1;33m,\u001b[0m \u001b[0mlabels_train\u001b[0m\u001b[1;33m,\u001b[0m \u001b[0mspectra_test_w_derivs\u001b[0m\u001b[1;33m,\u001b[0m \u001b[0mlabels_test\u001b[0m\u001b[1;33m,\u001b[0m\u001b[0mfrom_one_hot_dict\u001b[0m\u001b[1;33m,\u001b[0m \u001b[1;36m100\u001b[0m\u001b[1;33m,\u001b[0m \u001b[1;36m100\u001b[0m\u001b[1;33m,\u001b[0m \u001b[1;36m200\u001b[0m\u001b[1;33m)\u001b[0m\u001b[1;33m\u001b[0m\u001b[1;33m\u001b[0m\u001b[0m\n\u001b[0m",
      "\u001b[1;32m~\\PycharmProjects\\UC_Berkeley_Research\\nanoparticle\\src\\RF_Model_Functions.py\u001b[0m in \u001b[0;36mTrain_Random_Forests_Shape_Classification\u001b[1;34m(model_type, training_spectra, training_labels, test_spectra, test_labels, convert_from_one_hot_dict, trees, depth, m_features)\u001b[0m\n\u001b[0;32m    115\u001b[0m         \u001b[0mspectra_test_shape_as_array\u001b[0m \u001b[1;33m=\u001b[0m \u001b[0mtest_spectra\u001b[0m\u001b[1;33m\u001b[0m\u001b[1;33m\u001b[0m\u001b[0m\n\u001b[0;32m    116\u001b[0m         \u001b[0mrf_model\u001b[0m \u001b[1;33m=\u001b[0m \u001b[0mRandomForestClassifier\u001b[0m\u001b[1;33m(\u001b[0m\u001b[0mn_estimators\u001b[0m \u001b[1;33m=\u001b[0m \u001b[0mtrees\u001b[0m\u001b[1;33m,\u001b[0m \u001b[0mmax_depth\u001b[0m\u001b[1;33m=\u001b[0m\u001b[0mdepth\u001b[0m\u001b[1;33m,\u001b[0m \u001b[0mmax_features\u001b[0m\u001b[1;33m=\u001b[0m\u001b[0mm_features\u001b[0m\u001b[1;33m)\u001b[0m\u001b[1;33m\u001b[0m\u001b[1;33m\u001b[0m\u001b[0m\n\u001b[1;32m--> 117\u001b[1;33m         \u001b[0mrf_model\u001b[0m\u001b[1;33m.\u001b[0m\u001b[0mfit\u001b[0m\u001b[1;33m(\u001b[0m\u001b[0mtraining_spectra\u001b[0m\u001b[1;33m,\u001b[0m \u001b[0mlabels_train_shape_as_array_wo_OHE\u001b[0m\u001b[1;33m)\u001b[0m\u001b[1;33m\u001b[0m\u001b[1;33m\u001b[0m\u001b[0m\n\u001b[0m\u001b[0;32m    118\u001b[0m         \u001b[0maccuracy\u001b[0m \u001b[1;33m=\u001b[0m \u001b[0mrf_model\u001b[0m\u001b[1;33m.\u001b[0m\u001b[0mscore\u001b[0m\u001b[1;33m(\u001b[0m\u001b[0mtest_spectra\u001b[0m\u001b[1;33m,\u001b[0m \u001b[0mlabels_test_shape_as_array_wo_OHE\u001b[0m\u001b[1;33m)\u001b[0m\u001b[1;33m\u001b[0m\u001b[1;33m\u001b[0m\u001b[0m\n\u001b[0;32m    119\u001b[0m         \u001b[0mpredictions\u001b[0m \u001b[1;33m=\u001b[0m \u001b[0mrf_model\u001b[0m\u001b[1;33m.\u001b[0m\u001b[0mpredict\u001b[0m\u001b[1;33m(\u001b[0m\u001b[0mtest_spectra\u001b[0m\u001b[1;33m)\u001b[0m\u001b[1;33m\u001b[0m\u001b[1;33m\u001b[0m\u001b[0m\n",
      "\u001b[1;32m~\\Anaconda3\\lib\\site-packages\\sklearn\\ensemble\\_forest.py\u001b[0m in \u001b[0;36mfit\u001b[1;34m(self, X, y, sample_weight)\u001b[0m\n\u001b[0;32m    381\u001b[0m                     \u001b[0mverbose\u001b[0m\u001b[1;33m=\u001b[0m\u001b[0mself\u001b[0m\u001b[1;33m.\u001b[0m\u001b[0mverbose\u001b[0m\u001b[1;33m,\u001b[0m \u001b[0mclass_weight\u001b[0m\u001b[1;33m=\u001b[0m\u001b[0mself\u001b[0m\u001b[1;33m.\u001b[0m\u001b[0mclass_weight\u001b[0m\u001b[1;33m,\u001b[0m\u001b[1;33m\u001b[0m\u001b[1;33m\u001b[0m\u001b[0m\n\u001b[0;32m    382\u001b[0m                     n_samples_bootstrap=n_samples_bootstrap)\n\u001b[1;32m--> 383\u001b[1;33m                 for i, t in enumerate(trees))\n\u001b[0m\u001b[0;32m    384\u001b[0m \u001b[1;33m\u001b[0m\u001b[0m\n\u001b[0;32m    385\u001b[0m             \u001b[1;31m# Collect newly grown trees\u001b[0m\u001b[1;33m\u001b[0m\u001b[1;33m\u001b[0m\u001b[1;33m\u001b[0m\u001b[0m\n",
      "\u001b[1;32m~\\Anaconda3\\lib\\site-packages\\joblib\\parallel.py\u001b[0m in \u001b[0;36m__call__\u001b[1;34m(self, iterable)\u001b[0m\n\u001b[0;32m   1002\u001b[0m             \u001b[1;31m# remaining jobs.\u001b[0m\u001b[1;33m\u001b[0m\u001b[1;33m\u001b[0m\u001b[1;33m\u001b[0m\u001b[0m\n\u001b[0;32m   1003\u001b[0m             \u001b[0mself\u001b[0m\u001b[1;33m.\u001b[0m\u001b[0m_iterating\u001b[0m \u001b[1;33m=\u001b[0m \u001b[1;32mFalse\u001b[0m\u001b[1;33m\u001b[0m\u001b[1;33m\u001b[0m\u001b[0m\n\u001b[1;32m-> 1004\u001b[1;33m             \u001b[1;32mif\u001b[0m \u001b[0mself\u001b[0m\u001b[1;33m.\u001b[0m\u001b[0mdispatch_one_batch\u001b[0m\u001b[1;33m(\u001b[0m\u001b[0miterator\u001b[0m\u001b[1;33m)\u001b[0m\u001b[1;33m:\u001b[0m\u001b[1;33m\u001b[0m\u001b[1;33m\u001b[0m\u001b[0m\n\u001b[0m\u001b[0;32m   1005\u001b[0m                 \u001b[0mself\u001b[0m\u001b[1;33m.\u001b[0m\u001b[0m_iterating\u001b[0m \u001b[1;33m=\u001b[0m \u001b[0mself\u001b[0m\u001b[1;33m.\u001b[0m\u001b[0m_original_iterator\u001b[0m \u001b[1;32mis\u001b[0m \u001b[1;32mnot\u001b[0m \u001b[1;32mNone\u001b[0m\u001b[1;33m\u001b[0m\u001b[1;33m\u001b[0m\u001b[0m\n\u001b[0;32m   1006\u001b[0m \u001b[1;33m\u001b[0m\u001b[0m\n",
      "\u001b[1;32m~\\Anaconda3\\lib\\site-packages\\joblib\\parallel.py\u001b[0m in \u001b[0;36mdispatch_one_batch\u001b[1;34m(self, iterator)\u001b[0m\n\u001b[0;32m    833\u001b[0m                 \u001b[1;32mreturn\u001b[0m \u001b[1;32mFalse\u001b[0m\u001b[1;33m\u001b[0m\u001b[1;33m\u001b[0m\u001b[0m\n\u001b[0;32m    834\u001b[0m             \u001b[1;32melse\u001b[0m\u001b[1;33m:\u001b[0m\u001b[1;33m\u001b[0m\u001b[1;33m\u001b[0m\u001b[0m\n\u001b[1;32m--> 835\u001b[1;33m                 \u001b[0mself\u001b[0m\u001b[1;33m.\u001b[0m\u001b[0m_dispatch\u001b[0m\u001b[1;33m(\u001b[0m\u001b[0mtasks\u001b[0m\u001b[1;33m)\u001b[0m\u001b[1;33m\u001b[0m\u001b[1;33m\u001b[0m\u001b[0m\n\u001b[0m\u001b[0;32m    836\u001b[0m                 \u001b[1;32mreturn\u001b[0m \u001b[1;32mTrue\u001b[0m\u001b[1;33m\u001b[0m\u001b[1;33m\u001b[0m\u001b[0m\n\u001b[0;32m    837\u001b[0m \u001b[1;33m\u001b[0m\u001b[0m\n",
      "\u001b[1;32m~\\Anaconda3\\lib\\site-packages\\joblib\\parallel.py\u001b[0m in \u001b[0;36m_dispatch\u001b[1;34m(self, batch)\u001b[0m\n\u001b[0;32m    752\u001b[0m         \u001b[1;32mwith\u001b[0m \u001b[0mself\u001b[0m\u001b[1;33m.\u001b[0m\u001b[0m_lock\u001b[0m\u001b[1;33m:\u001b[0m\u001b[1;33m\u001b[0m\u001b[1;33m\u001b[0m\u001b[0m\n\u001b[0;32m    753\u001b[0m             \u001b[0mjob_idx\u001b[0m \u001b[1;33m=\u001b[0m \u001b[0mlen\u001b[0m\u001b[1;33m(\u001b[0m\u001b[0mself\u001b[0m\u001b[1;33m.\u001b[0m\u001b[0m_jobs\u001b[0m\u001b[1;33m)\u001b[0m\u001b[1;33m\u001b[0m\u001b[1;33m\u001b[0m\u001b[0m\n\u001b[1;32m--> 754\u001b[1;33m             \u001b[0mjob\u001b[0m \u001b[1;33m=\u001b[0m \u001b[0mself\u001b[0m\u001b[1;33m.\u001b[0m\u001b[0m_backend\u001b[0m\u001b[1;33m.\u001b[0m\u001b[0mapply_async\u001b[0m\u001b[1;33m(\u001b[0m\u001b[0mbatch\u001b[0m\u001b[1;33m,\u001b[0m \u001b[0mcallback\u001b[0m\u001b[1;33m=\u001b[0m\u001b[0mcb\u001b[0m\u001b[1;33m)\u001b[0m\u001b[1;33m\u001b[0m\u001b[1;33m\u001b[0m\u001b[0m\n\u001b[0m\u001b[0;32m    755\u001b[0m             \u001b[1;31m# A job can complete so quickly than its callback is\u001b[0m\u001b[1;33m\u001b[0m\u001b[1;33m\u001b[0m\u001b[1;33m\u001b[0m\u001b[0m\n\u001b[0;32m    756\u001b[0m             \u001b[1;31m# called before we get here, causing self._jobs to\u001b[0m\u001b[1;33m\u001b[0m\u001b[1;33m\u001b[0m\u001b[1;33m\u001b[0m\u001b[0m\n",
      "\u001b[1;32m~\\Anaconda3\\lib\\site-packages\\joblib\\_parallel_backends.py\u001b[0m in \u001b[0;36mapply_async\u001b[1;34m(self, func, callback)\u001b[0m\n\u001b[0;32m    207\u001b[0m     \u001b[1;32mdef\u001b[0m \u001b[0mapply_async\u001b[0m\u001b[1;33m(\u001b[0m\u001b[0mself\u001b[0m\u001b[1;33m,\u001b[0m \u001b[0mfunc\u001b[0m\u001b[1;33m,\u001b[0m \u001b[0mcallback\u001b[0m\u001b[1;33m=\u001b[0m\u001b[1;32mNone\u001b[0m\u001b[1;33m)\u001b[0m\u001b[1;33m:\u001b[0m\u001b[1;33m\u001b[0m\u001b[1;33m\u001b[0m\u001b[0m\n\u001b[0;32m    208\u001b[0m         \u001b[1;34m\"\"\"Schedule a func to be run\"\"\"\u001b[0m\u001b[1;33m\u001b[0m\u001b[1;33m\u001b[0m\u001b[0m\n\u001b[1;32m--> 209\u001b[1;33m         \u001b[0mresult\u001b[0m \u001b[1;33m=\u001b[0m \u001b[0mImmediateResult\u001b[0m\u001b[1;33m(\u001b[0m\u001b[0mfunc\u001b[0m\u001b[1;33m)\u001b[0m\u001b[1;33m\u001b[0m\u001b[1;33m\u001b[0m\u001b[0m\n\u001b[0m\u001b[0;32m    210\u001b[0m         \u001b[1;32mif\u001b[0m \u001b[0mcallback\u001b[0m\u001b[1;33m:\u001b[0m\u001b[1;33m\u001b[0m\u001b[1;33m\u001b[0m\u001b[0m\n\u001b[0;32m    211\u001b[0m             \u001b[0mcallback\u001b[0m\u001b[1;33m(\u001b[0m\u001b[0mresult\u001b[0m\u001b[1;33m)\u001b[0m\u001b[1;33m\u001b[0m\u001b[1;33m\u001b[0m\u001b[0m\n",
      "\u001b[1;32m~\\Anaconda3\\lib\\site-packages\\joblib\\_parallel_backends.py\u001b[0m in \u001b[0;36m__init__\u001b[1;34m(self, batch)\u001b[0m\n\u001b[0;32m    588\u001b[0m         \u001b[1;31m# Don't delay the application, to avoid keeping the input\u001b[0m\u001b[1;33m\u001b[0m\u001b[1;33m\u001b[0m\u001b[1;33m\u001b[0m\u001b[0m\n\u001b[0;32m    589\u001b[0m         \u001b[1;31m# arguments in memory\u001b[0m\u001b[1;33m\u001b[0m\u001b[1;33m\u001b[0m\u001b[1;33m\u001b[0m\u001b[0m\n\u001b[1;32m--> 590\u001b[1;33m         \u001b[0mself\u001b[0m\u001b[1;33m.\u001b[0m\u001b[0mresults\u001b[0m \u001b[1;33m=\u001b[0m \u001b[0mbatch\u001b[0m\u001b[1;33m(\u001b[0m\u001b[1;33m)\u001b[0m\u001b[1;33m\u001b[0m\u001b[1;33m\u001b[0m\u001b[0m\n\u001b[0m\u001b[0;32m    591\u001b[0m \u001b[1;33m\u001b[0m\u001b[0m\n\u001b[0;32m    592\u001b[0m     \u001b[1;32mdef\u001b[0m \u001b[0mget\u001b[0m\u001b[1;33m(\u001b[0m\u001b[0mself\u001b[0m\u001b[1;33m)\u001b[0m\u001b[1;33m:\u001b[0m\u001b[1;33m\u001b[0m\u001b[1;33m\u001b[0m\u001b[0m\n",
      "\u001b[1;32m~\\Anaconda3\\lib\\site-packages\\joblib\\parallel.py\u001b[0m in \u001b[0;36m__call__\u001b[1;34m(self)\u001b[0m\n\u001b[0;32m    254\u001b[0m         \u001b[1;32mwith\u001b[0m \u001b[0mparallel_backend\u001b[0m\u001b[1;33m(\u001b[0m\u001b[0mself\u001b[0m\u001b[1;33m.\u001b[0m\u001b[0m_backend\u001b[0m\u001b[1;33m,\u001b[0m \u001b[0mn_jobs\u001b[0m\u001b[1;33m=\u001b[0m\u001b[0mself\u001b[0m\u001b[1;33m.\u001b[0m\u001b[0m_n_jobs\u001b[0m\u001b[1;33m)\u001b[0m\u001b[1;33m:\u001b[0m\u001b[1;33m\u001b[0m\u001b[1;33m\u001b[0m\u001b[0m\n\u001b[0;32m    255\u001b[0m             return [func(*args, **kwargs)\n\u001b[1;32m--> 256\u001b[1;33m                     for func, args, kwargs in self.items]\n\u001b[0m\u001b[0;32m    257\u001b[0m \u001b[1;33m\u001b[0m\u001b[0m\n\u001b[0;32m    258\u001b[0m     \u001b[1;32mdef\u001b[0m \u001b[0m__len__\u001b[0m\u001b[1;33m(\u001b[0m\u001b[0mself\u001b[0m\u001b[1;33m)\u001b[0m\u001b[1;33m:\u001b[0m\u001b[1;33m\u001b[0m\u001b[1;33m\u001b[0m\u001b[0m\n",
      "\u001b[1;32m~\\Anaconda3\\lib\\site-packages\\joblib\\parallel.py\u001b[0m in \u001b[0;36m<listcomp>\u001b[1;34m(.0)\u001b[0m\n\u001b[0;32m    254\u001b[0m         \u001b[1;32mwith\u001b[0m \u001b[0mparallel_backend\u001b[0m\u001b[1;33m(\u001b[0m\u001b[0mself\u001b[0m\u001b[1;33m.\u001b[0m\u001b[0m_backend\u001b[0m\u001b[1;33m,\u001b[0m \u001b[0mn_jobs\u001b[0m\u001b[1;33m=\u001b[0m\u001b[0mself\u001b[0m\u001b[1;33m.\u001b[0m\u001b[0m_n_jobs\u001b[0m\u001b[1;33m)\u001b[0m\u001b[1;33m:\u001b[0m\u001b[1;33m\u001b[0m\u001b[1;33m\u001b[0m\u001b[0m\n\u001b[0;32m    255\u001b[0m             return [func(*args, **kwargs)\n\u001b[1;32m--> 256\u001b[1;33m                     for func, args, kwargs in self.items]\n\u001b[0m\u001b[0;32m    257\u001b[0m \u001b[1;33m\u001b[0m\u001b[0m\n\u001b[0;32m    258\u001b[0m     \u001b[1;32mdef\u001b[0m \u001b[0m__len__\u001b[0m\u001b[1;33m(\u001b[0m\u001b[0mself\u001b[0m\u001b[1;33m)\u001b[0m\u001b[1;33m:\u001b[0m\u001b[1;33m\u001b[0m\u001b[1;33m\u001b[0m\u001b[0m\n",
      "\u001b[1;32m~\\Anaconda3\\lib\\site-packages\\sklearn\\ensemble\\_forest.py\u001b[0m in \u001b[0;36m_parallel_build_trees\u001b[1;34m(tree, forest, X, y, sample_weight, tree_idx, n_trees, verbose, class_weight, n_samples_bootstrap)\u001b[0m\n\u001b[0;32m    163\u001b[0m             \u001b[0mcurr_sample_weight\u001b[0m \u001b[1;33m*=\u001b[0m \u001b[0mcompute_sample_weight\u001b[0m\u001b[1;33m(\u001b[0m\u001b[1;34m'balanced'\u001b[0m\u001b[1;33m,\u001b[0m \u001b[0my\u001b[0m\u001b[1;33m,\u001b[0m \u001b[0mindices\u001b[0m\u001b[1;33m)\u001b[0m\u001b[1;33m\u001b[0m\u001b[1;33m\u001b[0m\u001b[0m\n\u001b[0;32m    164\u001b[0m \u001b[1;33m\u001b[0m\u001b[0m\n\u001b[1;32m--> 165\u001b[1;33m         \u001b[0mtree\u001b[0m\u001b[1;33m.\u001b[0m\u001b[0mfit\u001b[0m\u001b[1;33m(\u001b[0m\u001b[0mX\u001b[0m\u001b[1;33m,\u001b[0m \u001b[0my\u001b[0m\u001b[1;33m,\u001b[0m \u001b[0msample_weight\u001b[0m\u001b[1;33m=\u001b[0m\u001b[0mcurr_sample_weight\u001b[0m\u001b[1;33m,\u001b[0m \u001b[0mcheck_input\u001b[0m\u001b[1;33m=\u001b[0m\u001b[1;32mFalse\u001b[0m\u001b[1;33m)\u001b[0m\u001b[1;33m\u001b[0m\u001b[1;33m\u001b[0m\u001b[0m\n\u001b[0m\u001b[0;32m    166\u001b[0m     \u001b[1;32melse\u001b[0m\u001b[1;33m:\u001b[0m\u001b[1;33m\u001b[0m\u001b[1;33m\u001b[0m\u001b[0m\n\u001b[0;32m    167\u001b[0m         \u001b[0mtree\u001b[0m\u001b[1;33m.\u001b[0m\u001b[0mfit\u001b[0m\u001b[1;33m(\u001b[0m\u001b[0mX\u001b[0m\u001b[1;33m,\u001b[0m \u001b[0my\u001b[0m\u001b[1;33m,\u001b[0m \u001b[0msample_weight\u001b[0m\u001b[1;33m=\u001b[0m\u001b[0msample_weight\u001b[0m\u001b[1;33m,\u001b[0m \u001b[0mcheck_input\u001b[0m\u001b[1;33m=\u001b[0m\u001b[1;32mFalse\u001b[0m\u001b[1;33m)\u001b[0m\u001b[1;33m\u001b[0m\u001b[1;33m\u001b[0m\u001b[0m\n",
      "\u001b[1;32m~\\Anaconda3\\lib\\site-packages\\sklearn\\tree\\_classes.py\u001b[0m in \u001b[0;36mfit\u001b[1;34m(self, X, y, sample_weight, check_input, X_idx_sorted)\u001b[0m\n\u001b[0;32m    875\u001b[0m             \u001b[0msample_weight\u001b[0m\u001b[1;33m=\u001b[0m\u001b[0msample_weight\u001b[0m\u001b[1;33m,\u001b[0m\u001b[1;33m\u001b[0m\u001b[1;33m\u001b[0m\u001b[0m\n\u001b[0;32m    876\u001b[0m             \u001b[0mcheck_input\u001b[0m\u001b[1;33m=\u001b[0m\u001b[0mcheck_input\u001b[0m\u001b[1;33m,\u001b[0m\u001b[1;33m\u001b[0m\u001b[1;33m\u001b[0m\u001b[0m\n\u001b[1;32m--> 877\u001b[1;33m             X_idx_sorted=X_idx_sorted)\n\u001b[0m\u001b[0;32m    878\u001b[0m         \u001b[1;32mreturn\u001b[0m \u001b[0mself\u001b[0m\u001b[1;33m\u001b[0m\u001b[1;33m\u001b[0m\u001b[0m\n\u001b[0;32m    879\u001b[0m \u001b[1;33m\u001b[0m\u001b[0m\n",
      "\u001b[1;32m~\\Anaconda3\\lib\\site-packages\\sklearn\\tree\\_classes.py\u001b[0m in \u001b[0;36mfit\u001b[1;34m(self, X, y, sample_weight, check_input, X_idx_sorted)\u001b[0m\n\u001b[0;32m    365\u001b[0m                                            min_impurity_split)\n\u001b[0;32m    366\u001b[0m \u001b[1;33m\u001b[0m\u001b[0m\n\u001b[1;32m--> 367\u001b[1;33m         \u001b[0mbuilder\u001b[0m\u001b[1;33m.\u001b[0m\u001b[0mbuild\u001b[0m\u001b[1;33m(\u001b[0m\u001b[0mself\u001b[0m\u001b[1;33m.\u001b[0m\u001b[0mtree_\u001b[0m\u001b[1;33m,\u001b[0m \u001b[0mX\u001b[0m\u001b[1;33m,\u001b[0m \u001b[0my\u001b[0m\u001b[1;33m,\u001b[0m \u001b[0msample_weight\u001b[0m\u001b[1;33m,\u001b[0m \u001b[0mX_idx_sorted\u001b[0m\u001b[1;33m)\u001b[0m\u001b[1;33m\u001b[0m\u001b[1;33m\u001b[0m\u001b[0m\n\u001b[0m\u001b[0;32m    368\u001b[0m \u001b[1;33m\u001b[0m\u001b[0m\n\u001b[0;32m    369\u001b[0m         \u001b[1;32mif\u001b[0m \u001b[0mself\u001b[0m\u001b[1;33m.\u001b[0m\u001b[0mn_outputs_\u001b[0m \u001b[1;33m==\u001b[0m \u001b[1;36m1\u001b[0m \u001b[1;32mand\u001b[0m \u001b[0mis_classifier\u001b[0m\u001b[1;33m(\u001b[0m\u001b[0mself\u001b[0m\u001b[1;33m)\u001b[0m\u001b[1;33m:\u001b[0m\u001b[1;33m\u001b[0m\u001b[1;33m\u001b[0m\u001b[0m\n",
      "\u001b[1;31mKeyboardInterrupt\u001b[0m: "
     ]
    }
   ],
   "source": [
    "rf_all_w_derivs = Train_Random_Forests_Shape_Classification(\"All\", spectra_train_w_derivs, labels_train, spectra_test_w_derivs, labels_test,from_one_hot_dict, 100, 100, 200)"
   ]
  },
  {
   "cell_type": "code",
   "execution_count": null,
   "metadata": {},
   "outputs": [],
   "source": [
    "rf_all_w_derivs[0]\n",
    "#joblib.dump(rf_all_w_derivs, \"rf_shape_classifier_w_derivative_spectra.joblib\")"
   ]
  },
  {
   "cell_type": "code",
   "execution_count": null,
   "metadata": {},
   "outputs": [],
   "source": [
    "rf_all_w_derivs_defaults = Train_Random_Forests_Shape_Classification(\"All\", spectra_train_w_derivs, labels_train, spectra_test_w_derivs, labels_test,from_one_hot_dict, 50)"
   ]
  },
  {
   "cell_type": "code",
   "execution_count": null,
   "metadata": {},
   "outputs": [],
   "source": [
    "rf_all_w_derivs_defaults[3]\n",
    "cm_normalized = normalize_cm(rf_all_w_derivs_defaults[2], list(rf_all_w_derivs_defaults[4]), 4)\n",
    "plot_confusion_matrix(np.asarray(cm_normalized), [\"Parallelepiped\", \"Triangular Prism\", \"Sphere\", \"Wire\"])"
   ]
  },
  {
   "cell_type": "code",
   "execution_count": null,
   "metadata": {},
   "outputs": [],
   "source": [
    "rf_all_just_derivs = Train_Random_Forests_Shape_Classification(\"All\", spectra_train_derivs, labels_train, spectra_test_derivs, labels_test,from_one_hot_dict, 100)"
   ]
  },
  {
   "cell_type": "code",
   "execution_count": null,
   "metadata": {},
   "outputs": [],
   "source": [
    "rf_all_just_derivs[0]\n",
    "cm_normalized = normalize_cm(rf_all_just_derivs[2], list(rf_all_just_derivs[4]), 4)\n",
    "plot_confusion_matrix(np.asarray(cm_normalized), [\"Parallelepiped\", \"Triangular Prism\", \"Sphere\", \"Wire\"])\n",
    "#joblib.dump(rf_all_w_derivs, \"rf_all_just_derivs.joblib\")"
   ]
  },
  {
   "cell_type": "code",
   "execution_count": null,
   "metadata": {},
   "outputs": [],
   "source": [
    "rf_size_w_derivs = Train_Random_Forests_Size_Regression(\"all\", spectra_train_w_derivs, labels_train, spectra_test_w_derivs, labels_test, 10)"
   ]
  },
  {
   "cell_type": "code",
   "execution_count": null,
   "metadata": {},
   "outputs": [],
   "source": [
    "rf_size_w_derivs[0]\n",
    "joblib.dump(rf_size_w_derivs, \"rf_size_w_derivs.joblib\")"
   ]
  },
  {
   "cell_type": "code",
   "execution_count": null,
   "metadata": {},
   "outputs": [],
   "source": [
    "joblib.load(\"rf_size_w_derivs.joblib\")"
   ]
  },
  {
   "cell_type": "code",
   "execution_count": null,
   "metadata": {},
   "outputs": [],
   "source": [
    "rf_size_w_second_derivs = Train_Random_Forests_Size_Regression(\"all\", spectra_train_w_derivs_2, labels_train, spectra_test_w_derivs_2, labels_test, 10)"
   ]
  },
  {
   "cell_type": "code",
   "execution_count": null,
   "metadata": {},
   "outputs": [],
   "source": [
    "rf_size_w_second_derivs[0]\n",
    "joblib.dump(rf_size_w_second_derivs, \"rf_size_w_second_derivs.joblib\")"
   ]
  },
  {
   "cell_type": "code",
   "execution_count": null,
   "metadata": {},
   "outputs": [],
   "source": [
    "rf_size_w_second_derivs_more_trees = Train_Random_Forests_Size_Regression(\"all\", spectra_train_w_derivs_2, labels_train, spectra_test_w_derivs_2, labels_test, 25)"
   ]
  },
  {
   "cell_type": "code",
   "execution_count": null,
   "metadata": {},
   "outputs": [],
   "source": [
    "rf_size_w_second_derivs_more_trees[0]\n",
    "joblib.dump(rf_size_w_second_derivs_more_trees, \"rf_size_w_second_derivs_more_trees.joblib\")"
   ]
  },
  {
   "cell_type": "markdown",
   "metadata": {},
   "source": [
    "RF model with only numerical simulations from maxwells equations as training data"
   ]
  },
  {
   "cell_type": "code",
   "execution_count": null,
   "metadata": {},
   "outputs": [],
   "source": [
    "rf_size_smaller_training = Train_Random_Forests_Size_Regression(\"all\", spectra_train_smaller, labels_train_smaller, spectra_test, labels_test, 100)"
   ]
  },
  {
   "cell_type": "code",
   "execution_count": null,
   "metadata": {},
   "outputs": [],
   "source": [
    "rf_size_smaller_training\n",
    "joblib.dump(rf_size_smaller_training, \"rf_size_smaller_training.joblib\")"
   ]
  },
  {
   "cell_type": "markdown",
   "metadata": {},
   "source": [
    "Shape classification RF models - trains 4 models, on each of the 3 materials and on all 3 materials"
   ]
  },
  {
   "cell_type": "code",
   "execution_count": null,
   "metadata": {},
   "outputs": [],
   "source": [
    "labels_train_shape = labels_train.drop(columns = ['index','log Area/Vol', 'ShortestDim', 'MiddleDim', 'LongDim', \n",
    "                                                'Material_Au', 'Material_SiN', 'Material_SiO2', \n",
    "                                                'index'])"
   ]
  },
  {
   "cell_type": "code",
   "execution_count": null,
   "metadata": {},
   "outputs": [],
   "source": [
    "rf_Au = Train_Random_Forests_Shape_Classification(\"Au\", spectra_train, labels_train, spectra_test, labels_test,from_one_hot_dict, 50)\n",
    "rf_SiN = Train_Random_Forests_Shape_Classification(\"SiN\", spectra_train, labels_train, spectra_test, labels_test,from_one_hot_dict, 50)\n",
    "rf_SiO2 = Train_Random_Forests_Shape_Classification(\"SiO2\", spectra_train, labels_train, spectra_test, labels_test,from_one_hot_dict, 50)\n",
    "rf_all = Train_Random_Forests_Shape_Classification(\"All\", spectra_train, labels_train, spectra_test, labels_test,from_one_hot_dict, 50)"
   ]
  },
  {
   "cell_type": "code",
   "execution_count": null,
   "metadata": {},
   "outputs": [],
   "source": [
    "joblib.dump([[\"RF Model SiO2\", rf_SiO2], [\"RF Model SiO2\",rf_SiN], [\"RF Model SiO2\", rf_Au], [\"RF all materials\", rf_all]], \n",
    "           \"RF_Models_Shape_Classification.joblib\")"
   ]
  },
  {
   "cell_type": "markdown",
   "metadata": {},
   "source": [
    "Shape classification model where the classification task is binary (ie sphere or not sphere)"
   ]
  },
  {
   "cell_type": "code",
   "execution_count": null,
   "metadata": {},
   "outputs": [],
   "source": [
    "shape_classificaion_shapes = ['Geometry_sphere', 'Geometry_wire', 'Geometry_TriangPrismIsosc', 'Geometry_parallelepiped']\n",
    "Binary_Classification = shape_classification_binary(spectra_train, labels_train, spectra_test, labels_test, 50, shape_classificaion_shapes)"
   ]
  },
  {
   "cell_type": "code",
   "execution_count": null,
   "metadata": {},
   "outputs": [],
   "source": [
    "print(Binary_Classification[0][1])\n",
    "print(Binary_Classification[1][1])\n",
    "print(Binary_Classification[2][1])\n",
    "print(Binary_Classification[3][1])"
   ]
  },
  {
   "cell_type": "code",
   "execution_count": null,
   "metadata": {},
   "outputs": [],
   "source": [
    "joblib.dump(Binary_Classification, \"RF Binary Classification Models.joblib\")"
   ]
  },
  {
   "cell_type": "markdown",
   "metadata": {},
   "source": [
    "Size regression - predict all 4 size parameters (log(area/volume), shortest dimension, middle dimension, longest dimension)"
   ]
  },
  {
   "cell_type": "code",
   "execution_count": null,
   "metadata": {},
   "outputs": [],
   "source": [
    "rf_size_regression = Train_Random_Forests_Size_Regression(\"all\", spectra_train, labels_train, spectra_test, labels_test, 50)"
   ]
  },
  {
   "cell_type": "code",
   "execution_count": null,
   "metadata": {},
   "outputs": [],
   "source": [
    "print(rf_size_regression)\n",
    "joblib.dump(rf_size_regression, \"RF Size Regression.joblib\")"
   ]
  },
  {
   "cell_type": "markdown",
   "metadata": {},
   "source": [
    "Test size regression model on test sets containing one specific material or shape "
   ]
  },
  {
   "cell_type": "code",
   "execution_count": null,
   "metadata": {},
   "outputs": [],
   "source": [
    "labels_test_material = labels_test.drop(columns = ['index','log Area/Vol', 'ShortestDim', 'MiddleDim', 'LongDim', \n",
    "                                                'Geometry_sphere', 'Geometry_wire', 'Geometry_TriangPrismIsosc', \n",
    "                                                'Geometry_parallelepiped', 'index'])\n",
    "indicies_to_drop_test_list_SiO2 = drop_indicies(labels_test_material, 'Material_SiO2', 0, False)\n",
    "indicies_to_drop_test_list_SiN = drop_indicies(labels_test_material, 'Material_SiN', 0, False)\n",
    "indicies_to_drop_test_list_Au = drop_indicies(labels_test_material, 'Material_Au', 0, False)"
   ]
  },
  {
   "cell_type": "code",
   "execution_count": null,
   "metadata": {},
   "outputs": [],
   "source": [
    "labels_test_size = labels_test.drop(columns = ['index', 'Geometry_sphere', 'Geometry_wire', 'Geometry_TriangPrismIsosc', \n",
    "                                            'Geometry_parallelepiped', 'index', 'Material_Au', 'Material_SiN', 'Material_SiO2'])\n",
    "spectra_test_df = pd.DataFrame(spectra_test)\n",
    "spectra_test_SiO2 = np.asarray(spectra_test_df.drop(indicies_to_drop_test_list_SiO2[1]))\n",
    "spectra_test_SiN = np.asarray(spectra_test_df.drop(indicies_to_drop_test_list_SiN[1]))\n",
    "spectra_test_Au = np.asarray(spectra_test_df.drop(indicies_to_drop_test_list_Au[1]))"
   ]
  },
  {
   "cell_type": "code",
   "execution_count": null,
   "metadata": {},
   "outputs": [],
   "source": [
    "labels_test_size_SiO2 = labels_test_size.drop(indicies_to_drop_test_list_SiO2[1])\n",
    "labels_test_size_SiN = labels_test_size.drop(indicies_to_drop_test_list_SiN[1])\n",
    "labels_test_size_Au = labels_test_size.drop(indicies_to_drop_test_list_Au[1])\n",
    "\n",
    "#accuracy_size_regression_SiO2 = rf_size_regression[1].score(spectra_test_SiO2, labels_test_size_SiO2)\n",
    "#accuracy_size_regression_SiN =rf_size_regression[1].score(spectra_test_SiN, labels_test_size_SiN)\n",
    "#accuracy_size_regression_Au =rf_size_regression[1].score(spectra_test_Au, labels_test_size_Au)"
   ]
  },
  {
   "cell_type": "code",
   "execution_count": null,
   "metadata": {},
   "outputs": [],
   "source": [
    "print(accuracy_size_regression_SiO2)\n",
    "print(accuracy_size_regression_SiN)\n",
    "print(accuracy_size_regression_Au)\n",
    "\n",
    "accuracies = [accuracy_size_regression_SiO2, accuracy_size_regression_SiN, accuracy_size_regression_Au]\n",
    "categories = [\"SiO2\", \"SiN\", \"Au\"]\n",
    "title = \"Size Regression Materials\"\n",
    "\n",
    "sns.barplot(categories, accuracies).set(title = title, ylabel = \"Correlation\", ylim = [0.7, 1])\n",
    "plt.savefig(str(title) + '.png', format='png')\n"
   ]
  },
  {
   "cell_type": "code",
   "execution_count": null,
   "metadata": {
    "pycharm": {
     "name": "#%%\n"
    }
   },
   "outputs": [],
   "source": [
    "indicies_to_drop_test_list_Parallelepiped = drop_indicies(labels_test, 'Geometry_parallelepiped', 0, False)\n",
    "indicies_to_drop_test_list_Sphere = drop_indicies(labels_test, 'Geometry_sphere', 0, False)\n",
    "indicies_to_drop_test_list_Triangle = drop_indicies(labels_test, 'Geometry_TriangPrismIsosc', 0, False)\n",
    "indicies_to_drop_test_list_Wire = drop_indicies(labels_test, 'Geometry_wire', 0, False)\n",
    "\n",
    "labels_test_size_Parallelepiped = labels_test_size.drop(indicies_to_drop_test_list_Parallelepiped[1])\n",
    "labels_test_size_Sphere = labels_test_size.drop(indicies_to_drop_test_list_Sphere[1])\n",
    "labels_test_size_Triangle = labels_test_size.drop(indicies_to_drop_test_list_Triangle[1])\n",
    "labels_test_size_Wire = labels_test_size.drop(indicies_to_drop_test_list_Wire[1])\n",
    "\n",
    "spectra_test_Parallelepiped = spectra_test_df.drop(indicies_to_drop_test_list_Parallelepiped[1])\n",
    "spectra_test_Sphere = spectra_test_df.drop(indicies_to_drop_test_list_Sphere[1])\n",
    "spectra_test_Triangle = spectra_test_df.drop(indicies_to_drop_test_list_Triangle[1])\n",
    "spectra_test_Wire = spectra_test_df.drop(indicies_to_drop_test_list_Wire[1])\n"
   ]
  },
  {
   "cell_type": "code",
   "execution_count": null,
   "metadata": {
    "pycharm": {
     "name": "#%%\n"
    }
   },
   "outputs": [],
   "source": [
    "accuracy_size_regression_Parallelepiped = rf_size_regression[1].score(spectra_test_Parallelepiped, labels_test_size_Parallelepiped)\n",
    "accuracy_size_regression_Sphere = rf_size_regression[1].score(spectra_test_Sphere, labels_test_size_Sphere)\n",
    "accuracy_size_regression_Triangle = rf_size_regression[1].score(spectra_test_Triangle, labels_test_size_Triangle)\n",
    "accuracy_size_regression_Wire = rf_size_regression[1].score(spectra_test_Wire, labels_test_size_Wire)\n"
   ]
  },
  {
   "cell_type": "code",
   "execution_count": null,
   "metadata": {
    "pycharm": {
     "name": "#%%\n"
    }
   },
   "outputs": [],
   "source": [
    "print(accuracy_size_regression_Parallelepiped)\n",
    "print(accuracy_size_regression_Sphere)\n",
    "print(accuracy_size_regression_Triangle)\n",
    "print(accuracy_size_regression_Wire)"
   ]
  },
  {
   "cell_type": "code",
   "execution_count": null,
   "metadata": {
    "pycharm": {
     "name": "#%%\n"
    }
   },
   "outputs": [],
   "source": [
    "accuracies = [accuracy_size_regression_Triangle, accuracy_size_regression_Parallelepiped, accuracy_size_regression_Sphere,\n",
    "             accuracy_size_regression_Wire]\n",
    "categories = [\"Triangle\", \"Parallelepiped\", \"Sphere\", \"Wire\"]\n",
    "title = \"Size Regression Shapes\"\n",
    "\n",
    "sns.barplot(categories, accuracies).set(title = title, ylabel = \"Correlation\", ylim = [0.7, 1])\n",
    "plt.savefig(str(title) + '.png', format='png')"
   ]
  },
  {
   "cell_type": "code",
   "execution_count": null,
   "metadata": {},
   "outputs": [],
   "source": [
    "accuracy_size_regression_Parallelepiped = rf_size_regression[1].score(spectra_test_Parallelepiped, labels_test_size_Parallelepiped)\n",
    "accuracy_size_regression_Sphere = rf_size_regression[1].score(spectra_test_Sphere, labels_test_size_Sphere)\n",
    "accuracy_size_regression_Triangle = rf_size_regression[1].score(spectra_test_Triangle, labels_test_size_Triangle)\n",
    "accuracy_size_regression_Wire = rf_size_regression[1].score(spectra_test_Wire, labels_test_size_Wire)\n"
   ]
  },
  {
   "cell_type": "code",
   "execution_count": null,
   "metadata": {},
   "outputs": [],
   "source": [
    "print(accuracy_size_regression_Parallelepiped)\n",
    "print(accuracy_size_regression_Sphere)\n",
    "print(accuracy_size_regression_Triangle)\n",
    "print(accuracy_size_regression_Wire)"
   ]
  },
  {
   "cell_type": "code",
   "execution_count": null,
   "metadata": {},
   "outputs": [],
   "source": [
    "accuracies = [accuracy_size_regression_Triangle, accuracy_size_regression_Parallelepiped, accuracy_size_regression_Sphere,\n",
    "             accuracy_size_regression_Wire]\n",
    "categories = [\"Triangle\", \"Parallelepiped\", \"Sphere\", \"Wire\"]\n",
    "title = \"Size Regression Shapes\"\n",
    "\n",
    "sns.barplot(categories, accuracies).set(title = title, ylabel = \"Correlation\", ylim = [0.7, 1])\n",
    "plt.savefig(str(title) + '.png', format='png')"
   ]
  },
  {
   "cell_type": "code",
   "execution_count": null,
   "metadata": {},
   "outputs": [],
   "source": []
  },
  {
   "cell_type": "code",
   "execution_count": null,
   "metadata": {},
   "outputs": [],
   "source": [
    "labels_train_shape"
   ]
  },
  {
   "cell_type": "code",
   "execution_count": null,
   "metadata": {},
   "outputs": [],
   "source": []
  },
  {
   "cell_type": "code",
   "execution_count": null,
   "metadata": {},
   "outputs": [],
   "source": [
    "new_df = labels_test_size_Au.reset_index()\n",
    "new_df.iloc[2603]"
   ]
  },
  {
   "cell_type": "code",
   "execution_count": null,
   "metadata": {},
   "outputs": [],
   "source": [
    "deriv_test = np.gradient(spectra_train[7000])"
   ]
  },
  {
   "cell_type": "code",
   "execution_count": null,
   "metadata": {},
   "outputs": [],
   "source": [
    "rf_size_regression = joblib.load('RF Size Regression.joblib')"
   ]
  },
  {
   "cell_type": "code",
   "execution_count": null,
   "metadata": {},
   "outputs": [],
   "source": [
    "size_predictions = rf_size_regression[1].predict(spectra_test)"
   ]
  },
  {
   "cell_type": "code",
   "execution_count": null,
   "metadata": {},
   "outputs": [],
   "source": [
    "labels_train_shape = labels_train.drop(columns = ['index','log Area/Vol', 'ShortestDim', 'MiddleDim', 'LongDim', \n",
    "                                                        'Material_Au', 'Material_SiN', 'Material_SiO2', 'index'] )\n",
    "labels_test_shape = labels_test.drop(columns = ['index','log Area/Vol', 'ShortestDim', 'MiddleDim', 'LongDim', \n",
    "                                                        'Material_Au','Material_SiN', 'Material_SiO2', 'index'] )\n",
    "\n",
    "labels_train_shape_as_array = labels_train_shape.to_numpy()\n",
    "labels_test_shape_as_array = labels_test_shape.to_numpy()\n",
    "        \n",
    "labels_train_shape_as_array_wo_OHE = convert_from_one_hot(labels_train_shape_as_array, from_one_hot_dict)\n",
    "labels_test_shape_as_array_wo_OHE = convert_from_one_hot(labels_test_shape_as_array, from_one_hot_dict)"
   ]
  },
  {
   "cell_type": "markdown",
   "metadata": {},
   "source": [
    "A couple experiments with stacked models and training models to predict shape from size, and then using the output from the size regression model as input on this model "
   ]
  },
  {
   "cell_type": "code",
   "execution_count": null,
   "metadata": {},
   "outputs": [],
   "source": [
    "base_learners = [\n",
    "                 ('rf_1', RandomForestClassifier(n_estimators=50)),\n",
    "                 ('rf_2', SVC())             \n",
    "                ]\n",
    "\n",
    "clf = StackingClassifier(estimators=base_learners, final_estimator=LogisticRegression())\n",
    "\n",
    "# Extract score\n",
    "clf.fit(spectra_train, labels_train_shape_as_array_wo_OHE).score(spectra_test, y_test)"
   ]
  },
  {
   "cell_type": "code",
   "execution_count": null,
   "metadata": {
    "pycharm": {
     "name": "#%%\n"
    }
   },
   "outputs": [],
   "source": [
    "lm_size_regression = MultiOutputRegressor(LinearRegression(n_jobs = -1))"
   ]
  },
  {
   "cell_type": "code",
   "execution_count": null,
   "metadata": {},
   "outputs": [],
   "source": [
    "labels_test_size = labels_test.drop(columns = ['index', 'Geometry_sphere', 'Geometry_wire', 'Geometry_TriangPrismIsosc', \n",
    "                                            'Geometry_parallelepiped', 'index', 'Material_Au', 'Material_SiN', 'Material_SiO2'])\n",
    "labels_train_size = labels_train.drop(columns = ['index', 'Geometry_sphere', 'Geometry_wire', 'Geometry_TriangPrismIsosc', \n",
    "                                            'Geometry_parallelepiped', 'index', 'Material_Au', 'Material_SiN', 'Material_SiO2'])\n",
    "\n",
    "labels_train_size_as_array = labels_train_size.to_numpy()\n",
    "labels_test_size_as_array = labels_test_size.to_numpy()\n",
    "\n",
    "labels_test_shape = labels_test.drop(columns = [ 'index', 'Material_Au', 'Material_SiN', 'Material_SiO2', \n",
    "                                               'log Area/Vol','ShortestDim', 'MiddleDim','LongDim'])\n",
    "labels_train_shape = labels_train.drop(columns = ['index', 'Material_Au', 'Material_SiN', 'Material_SiO2', \n",
    "                                               'log Area/Vol','ShortestDim', 'MiddleDim','LongDim'])\n",
    "\n",
    "labels_train_shape_as_array = labels_train_shape.to_numpy()\n",
    "labels_test_shape_as_array = labels_test_shape.to_numpy()\n",
    "\n",
    "labels_train_shape_as_array_wo_OHE = convert_from_one_hot(labels_train_shape_as_array, from_one_hot_dict)\n",
    "labels_test_shape_as_array_wo_OHE = convert_from_one_hot(labels_test_shape_as_array, from_one_hot_dict)"
   ]
  },
  {
   "cell_type": "code",
   "execution_count": null,
   "metadata": {},
   "outputs": [],
   "source": [
    "lm_size_regression.fit(spectra_train, labels_train_size_as_array)"
   ]
  },
  {
   "cell_type": "code",
   "execution_count": null,
   "metadata": {},
   "outputs": [],
   "source": [
    "lm_size_regression.score(spectra_test, labels_test_size_as_array)"
   ]
  },
  {
   "cell_type": "code",
   "execution_count": null,
   "metadata": {},
   "outputs": [],
   "source": [
    "lm_size_regression.predict(spectra_test)"
   ]
  },
  {
   "cell_type": "code",
   "execution_count": null,
   "metadata": {},
   "outputs": [],
   "source": [
    "rf_shape_from_size = RandomForestClassifier(n_estimators = 50)"
   ]
  },
  {
   "cell_type": "code",
   "execution_count": null,
   "metadata": {},
   "outputs": [],
   "source": [
    "rf_shape_from_size.fit(labels_train_size_as_array, labels_train_shape_as_array_wo_OHE)"
   ]
  },
  {
   "cell_type": "code",
   "execution_count": null,
   "metadata": {},
   "outputs": [],
   "source": [
    "rf_shape_from_size.score(labels_test_size_as_array, labels_test_shape_as_array_wo_OHE)"
   ]
  },
  {
   "cell_type": "code",
   "execution_count": null,
   "metadata": {},
   "outputs": [],
   "source": [
    "rf_size_regression = joblib.load(\"RF size regression.joblib\")"
   ]
  },
  {
   "cell_type": "code",
   "execution_count": null,
   "metadata": {},
   "outputs": [],
   "source": [
    "predictions = rf_size_regression[1].predict(spectra_test)"
   ]
  },
  {
   "cell_type": "code",
   "execution_count": null,
   "metadata": {},
   "outputs": [],
   "source": [
    "shape_predictions = rf_shape_from_size.predict(predictions)"
   ]
  },
  {
   "cell_type": "code",
   "execution_count": null,
   "metadata": {},
   "outputs": [],
   "source": [
    "cm = confusion_matrix(labels_test_shape_as_array_wo_OHE, shape_predictions)\n",
    "normalized_cm = normalize_cm(cm, list(labels_test_shape_as_array_wo_OHE), 4)"
   ]
  },
  {
   "cell_type": "code",
   "execution_count": null,
   "metadata": {},
   "outputs": [],
   "source": [
    "plot_confusion_matrix(np.asarray(normalized_cm), [\"Parallelepiped\", \"Triangular Prism\", \"Sphere\", \"Wire\"])"
   ]
  }
 ],
 "metadata": {
  "kernelspec": {
   "display_name": "Python 3",
   "language": "python",
   "name": "python3"
  },
  "language_info": {
   "codemirror_mode": {
    "name": "ipython",
    "version": 3
   },
   "file_extension": ".py",
   "mimetype": "text/x-python",
   "name": "python",
   "nbconvert_exporter": "python",
   "pygments_lexer": "ipython3",
   "version": "3.7.7"
  },
  "pycharm": {
   "stem_cell": {
    "cell_type": "raw",
    "metadata": {
     "collapsed": false
    },
    "source": []
   }
  }
 },
 "nbformat": 4,
 "nbformat_minor": 2
}
