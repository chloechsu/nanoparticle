{
 "cells": [
  {
   "cell_type": "code",
   "execution_count": 15,
   "metadata": {},
   "outputs": [],
   "source": [
    "import joblib\n",
    "import matplotlib.pyplot as plt\n",
    "import pandas as pd\n",
    "from sklearn import tree\n",
    "from sklearn.ensemble import RandomForestClassifier\n",
    "import numpy as np\n",
    "from sklearn.metrics import confusion_matrix\n",
    "import seaborn as sns\n",
    "from sklearn.multioutput import MultiOutputClassifier\n",
    "from sklearn.ensemble import RandomForestRegressor\n",
    "from sklearn.multioutput import MultiOutputRegressor\n",
    "from RF_Spectral_Classification_and_Regression import *"
   ]
  },
  {
   "cell_type": "code",
   "execution_count": 16,
   "metadata": {},
   "outputs": [],
   "source": [
    "def plot_confusion_matrix(cm, classes,\n",
    "                          normalize=False,\n",
    "                          title='Confusion matrix',\n",
    "                          cmap=plt.cm.Blues):\n",
    "    \"\"\"\n",
    "    This function prints and plots the confusion matrix.\n",
    "    Normalization can be applied by setting `normalize=True`.\n",
    "    \"\"\"\n",
    "    plt.imshow(cm, interpolation='nearest', cmap=cmap)\n",
    "    plt.title(title)\n",
    "    plt.colorbar()\n",
    "    tick_marks = np.arange(len(classes))\n",
    "    plt.xticks(tick_marks, classes, rotation=45)\n",
    "    plt.yticks(tick_marks, classes)\n",
    "\n",
    "    if normalize:\n",
    "        cm = cm.astype('float') / cm.sum(axis=1)[:, np.newaxis]\n",
    "        print(\"Normalized confusion matrix\")\n",
    "    else:\n",
    "        print('Confusion matrix, without normalization')\n",
    "\n",
    "    print(cm)\n",
    "\n",
    "    thresh = cm.max() / 2.\n",
    "    for i, j in itertools.product(range(cm.shape[0]), range(cm.shape[1])):\n",
    "        plt.text(j, i, cm[i, j],\n",
    "                 horizontalalignment=\"center\",\n",
    "                 color=\"white\" if cm[i, j] > thresh else \"black\")\n",
    "\n",
    "    plt.tight_layout()\n",
    "    plt.ylabel('True label')\n",
    "    plt.xlabel('Predicted label')"
   ]
  },
  {
   "cell_type": "code",
   "execution_count": 34,
   "metadata": {},
   "outputs": [],
   "source": [
    "def shape_classification_binary(training_set_spectrum, training_set_lables, test_set_spectrum, test_set_labels, \n",
    "                                num_trees, shapes):\n",
    "    for shape in shapes: \n",
    "        if shape == 'Geometry_parallelepiped':\n",
    "            labels_train_shape_parallelepiped = labels_train.drop(columns = ['index','log Area/Vol', 'ShortestDim', \n",
    "                                                                             'MiddleDim', 'LongDim', 'Material_SiN', \n",
    "                                                                             'Material_SiO2', 'Material_Au', 'Geometry_sphere', \n",
    "                                                                             'Geometry_wire', 'Geometry_TriangPrismIsosc'])\n",
    "            labels_test_shape_parallelepiped = labels_test.drop(columns = ['index','log Area/Vol', 'ShortestDim', \n",
    "                                                                             'MiddleDim', 'LongDim', 'Material_SiN', \n",
    "                                                                             'Material_SiO2', 'Material_Au', 'Geometry_sphere', \n",
    "                                                                             'Geometry_wire', 'Geometry_TriangPrismIsosc'])\n",
    "            labels_train_shape_parallelepiped_as_array = np.asarray(labels_train_shape_parallelepiped) \n",
    "            labels_test_shape_parallelepiped_as_array = np.asarray(labels_test_shape_parallelepiped) \n",
    "            \n",
    "            \n",
    "            print(\"Training rf_parallelepiped\")\n",
    "            rf_parallelepiped = RandomForestClassifier(n_estimators=num_trees)\n",
    "            rf_parallelepiped.fit(spectra_train, np.ravel(labels_train_shape_parallelepiped_as_array))\n",
    "            rf_parallelepiped_accuracy = rf_parallelepiped.score(spectra_test, labels_test_shape_parallelepiped_as_array)\n",
    "            rf_parallelepiped_predictions = rf_parallelepiped.predict(spectra_test)\n",
    "            rf_parallelepiped_cm = confusion_matrix(labels_test_shape_parallelepiped_as_array, rf_parallelepiped_predictions)\n",
    "\n",
    "        if shape == 'Geometry_TriangPrismIsosc':\n",
    "            labels_train_shape_triangle = labels_train.drop(columns = ['index','log Area/Vol', 'ShortestDim', \n",
    "                                                                             'MiddleDim', 'LongDim', 'Material_SiN', \n",
    "                                                                             'Material_SiO2', 'Material_Au', 'Geometry_sphere', \n",
    "                                                                             'Geometry_wire', 'Geometry_parallelepiped'])\n",
    "            labels_test_shape_triangle = labels_test.drop(columns = ['index','log Area/Vol', 'ShortestDim', \n",
    "                                                                             'MiddleDim', 'LongDim', 'Material_SiN', \n",
    "                                                                             'Material_SiO2', 'Material_Au', 'Geometry_sphere', \n",
    "                                                                             'Geometry_wire', 'Geometry_parallelepiped'])\n",
    "            \n",
    "            labels_train_shape_triangle_as_array = np.asarray(labels_train_shape_triangle) \n",
    "            labels_test_shape_triangle_as_array = np.asarray(labels_test_shape_triangle) \n",
    "            \n",
    "            print(\"Training rf_triangle\")\n",
    "            rf_triangle = RandomForestClassifier(n_estimators=num_trees)\n",
    "            rf_triangle.fit(spectra_train, np.ravel(labels_train_shape_triangle_as_array))\n",
    "            rf_triangle_accuracy = rf_triangle.score(spectra_test, labels_test_shape_triangle_as_array)\n",
    "            rf_triangle_predictions = rf_triangle.predict(spectra_test)\n",
    "            rf_triangle_cm = confusion_matrix(labels_test_shape_triangle_as_array, rf_triangle_predictions)\n",
    "            \n",
    "        if shape == 'Geometry_wire':\n",
    "            labels_train_shape_wire = labels_train.drop(columns = ['index','log Area/Vol', 'ShortestDim', \n",
    "                                                                             'MiddleDim', 'LongDim', 'Material_SiN', \n",
    "                                                                             'Material_SiO2', 'Material_Au', 'Geometry_sphere', \n",
    "                                                                             'Geometry_TriangPrismIsosc', 'Geometry_parallelepiped'])\n",
    "            labels_test_shape_wire = labels_test.drop(columns = ['index','log Area/Vol', 'ShortestDim', \n",
    "                                                                             'MiddleDim', 'LongDim', 'Material_SiN', \n",
    "                                                                             'Material_SiO2', 'Material_Au', 'Geometry_sphere', \n",
    "                                                                             'Geometry_TriangPrismIsosc', 'Geometry_parallelepiped'])\n",
    "            \n",
    "            labels_train_shape_wire_as_array = np.asarray(labels_train_shape_wire) \n",
    "            labels_test_shape_wire_as_array = np.asarray(labels_test_shape_wire) \n",
    "            \n",
    "            print(\"Training rf_wire\")\n",
    "            rf_wire = RandomForestClassifier(n_estimators=num_trees)\n",
    "            rf_wire.fit(spectra_train, np.ravel(labels_train_shape_wire_as_array))\n",
    "            rf_wire_accuracy = rf_wire.score(spectra_test, labels_test_shape_wire_as_array)\n",
    "            rf_wire_predictions = rf_wire.predict(spectra_test)\n",
    "            rf_wire_cm = confusion_matrix(labels_test_shape_wire_as_array, rf_wire_predictions)\n",
    "\n",
    "        if shape == 'Geometry_sphere':\n",
    "            labels_train_shape_sphere = labels_train.drop(columns = ['index','log Area/Vol', 'ShortestDim', \n",
    "                                                                             'MiddleDim', 'LongDim', 'Material_SiN', \n",
    "                                                                             'Material_SiO2', 'Material_Au', 'Geometry_wire', \n",
    "                                                                             'Geometry_TriangPrismIsosc', 'Geometry_parallelepiped'])\n",
    "            labels_test_shape_sphere = labels_test.drop(columns = ['index','log Area/Vol', 'ShortestDim', \n",
    "                                                                             'MiddleDim', 'LongDim', 'Material_SiN', \n",
    "                                                                             'Material_SiO2', 'Material_Au', 'Geometry_wire', \n",
    "                                                                             'Geometry_TriangPrismIsosc', 'Geometry_parallelepiped'])\n",
    "            labels_train_shape_sphere_as_array = np.asarray(labels_train_shape_sphere) \n",
    "            labels_test_shape_sphere_as_array = np.asarray(labels_test_shape_sphere) \n",
    "            \n",
    "            print(\"Training rf_sphere\")\n",
    "            rf_sphere = RandomForestClassifier(n_estimators=num_trees)\n",
    "            rf_sphere.fit(spectra_train, np.ravel(labels_train_shape_sphere_as_array))\n",
    "            rf_sphere_accuracy = rf_sphere.score(spectra_test, labels_test_shape_sphere_as_array)\n",
    "            rf_sphere_predictions = rf_sphere.predict(spectra_test)\n",
    "            rf_sphere_cm = confusion_matrix(labels_test_shape_sphere_as_array, rf_sphere_predictions)\n",
    "\n",
    "    \n",
    "\n",
    "    return[[\"parallelepiped\", rf_parallelepiped_accuracy, rf_parallelepiped_predictions, rf_parallelepiped_cm, labels_test_shape_parallelepiped_as_array],\n",
    "           [\"sphere\", rf_sphere_accuracy, rf_sphere_predictions, rf_sphere_cm, labels_test_shape_sphere_as_array],\n",
    "           [\"triangle\", rf_triangle_accuracy, rf_triangle_predictions, rf_triangle_cm, labels_test_shape_triangle_as_array],\n",
    "           [\"wire\", rf_wire_accuracy, rf_wire_predictions, rf_wire_cm, labels_test_shape_wire_as_array]]"
   ]
  },
  {
   "cell_type": "code",
   "execution_count": 21,
   "metadata": {},
   "outputs": [],
   "source": [
    "spectra_train = joblib.load('cache/r20200406_234541_50.0sc_50.0sp_1_CPU/spectral/y_new_train.joblib')\n",
    "spectra_test = joblib.load('cache/r20200406_234541_50.0sc_50.0sp_1_CPU/spectral/y_test.joblib')\n",
    "labels_train = joblib.load('cache/r20200406_234541_50.0sc_50.0sp_1_CPU/spectral/x_new_train.joblib').reset_index()\n",
    "labels_test = joblib.load('cache/r20200406_234541_50.0sc_50.0sp_1_CPU/spectral/x_test.joblib').reset_index()\n",
    "labels_train_smaller = joblib.load('cache/r20200406_234541_50.0sc_50.0sp_1_CPU/spectral/x_train.joblib').reset_index()\n",
    "spectra_train_smaller = joblib.load('cache/r20200406_234541_50.0sc_50.0sp_1_CPU/spectral/y_train.joblib')"
   ]
  },
  {
   "cell_type": "code",
   "execution_count": 22,
   "metadata": {},
   "outputs": [],
   "source": [
    "from_one_hot_dict = {(1.,0.,0.,0.) : 0, (0.,1.,0.,0.) : 1, (0.,0.,1.,0.) : 2, (0.,0.,0.,1.) : 3}\n",
    "from_one_hot_dict_materials = {(1.,0.,0.) : 0, (0.,1.,0.) : 1, (0.,0.,1.) : 2}"
   ]
  },
  {
   "cell_type": "code",
   "execution_count": 23,
   "metadata": {},
   "outputs": [
    {
     "name": "stdout",
     "output_type": "stream",
     "text": [
      "training Au\n",
      "training SiN\n",
      "training SiO2\n",
      "training shape classifier all materials\n"
     ]
    }
   ],
   "source": [
    "rf_Au = Train_Random_Forests_Shape_Classification(\"Au\", spectra_train, labels_train, spectra_test, labels_test,from_one_hot_dict, 50)\n",
    "rf_SiN = Train_Random_Forests_Shape_Classification(\"SiN\", spectra_train, labels_train, spectra_test, labels_test,from_one_hot_dict, 50)\n",
    "rf_SiO2 = Train_Random_Forests_Shape_Classification(\"SiO2\", spectra_train, labels_train, spectra_test, labels_test,from_one_hot_dict, 50)\n",
    "rf_all = Train_Random_Forests_Shape_Classification(\"All\", spectra_train, labels_train, spectra_test, labels_test,from_one_hot_dict, 50)"
   ]
  },
  {
   "cell_type": "code",
   "execution_count": 32,
   "metadata": {},
   "outputs": [
    {
     "data": {
      "text/plain": [
       "['RF_Models_Shape_Classification.joblib']"
      ]
     },
     "execution_count": 32,
     "metadata": {},
     "output_type": "execute_result"
    }
   ],
   "source": [
    "joblib.dump([[\"RF Model SiO2\", rf_SiO2], [\"RF Model SiO2\",rf_SiN], [\"RF Model SiO2\", rf_Au], [\"RF all materials\", rf_all]], \n",
    "           \"RF_Models_Shape_Classification.joblib\")"
   ]
  },
  {
   "cell_type": "code",
   "execution_count": 35,
   "metadata": {},
   "outputs": [
    {
     "name": "stdout",
     "output_type": "stream",
     "text": [
      "Training rf_sphere\n",
      "Training rf_wire\n",
      "Training rf_triangle\n",
      "Training rf_parallelepiped\n"
     ]
    }
   ],
   "source": [
    "shape_classificaion_shapes = ['Geometry_sphere', 'Geometry_wire', 'Geometry_TriangPrismIsosc', 'Geometry_parallelepiped']\n",
    "Binary_Classification = shape_classification_binary(spectra_train, labels_train, spectra_test, labels_test, 50, shape_classificaion_shapes)"
   ]
  },
  {
   "cell_type": "code",
   "execution_count": 36,
   "metadata": {},
   "outputs": [
    {
     "name": "stdout",
     "output_type": "stream",
     "text": [
      "0.7564315883783438\n",
      "0.9988480737232817\n",
      "0.8332266734928965\n",
      "0.8547292973249712\n"
     ]
    }
   ],
   "source": [
    "print(Binary_Classification[0][1])\n",
    "print(Binary_Classification[1][1])\n",
    "print(Binary_Classification[2][1])\n",
    "print(Binary_Classification[3][1])"
   ]
  },
  {
   "cell_type": "code",
   "execution_count": 39,
   "metadata": {},
   "outputs": [
    {
     "data": {
      "text/plain": [
       "['RF Binary Classification Models.joblib']"
      ]
     },
     "execution_count": 39,
     "metadata": {},
     "output_type": "execute_result"
    }
   ],
   "source": [
    "joblib.dump(Binary_Classification, \"RF Binary Classification Models.joblib\")"
   ]
  },
  {
   "cell_type": "code",
   "execution_count": 30,
   "metadata": {},
   "outputs": [],
   "source": [
    "rf_size_regression = Train_Random_Forests_Size_Regression(\"all\", spectra_train, labels_train, spectra_test, labels_test, 50)"
   ]
  },
  {
   "cell_type": "code",
   "execution_count": 38,
   "metadata": {},
   "outputs": [
    {
     "name": "stdout",
     "output_type": "stream",
     "text": [
      "(0.9055853492847894, MultiOutputRegressor(estimator=RandomForestRegressor(bootstrap=True,\n",
      "                                                     ccp_alpha=0.0,\n",
      "                                                     criterion='mse',\n",
      "                                                     max_depth=None,\n",
      "                                                     max_features='auto',\n",
      "                                                     max_leaf_nodes=None,\n",
      "                                                     max_samples=None,\n",
      "                                                     min_impurity_decrease=0.0,\n",
      "                                                     min_impurity_split=None,\n",
      "                                                     min_samples_leaf=1,\n",
      "                                                     min_samples_split=2,\n",
      "                                                     min_weight_fraction_leaf=0.0,\n",
      "                                                     n_estimators=50,\n",
      "                                                     n_jobs=None,\n",
      "                                                     oob_score=False,\n",
      "                                                     random_state=None,\n",
      "                                                     verbose=0,\n",
      "                                                     warm_start=False),\n",
      "                     n_jobs=-1))\n"
     ]
    },
    {
     "data": {
      "text/plain": [
       "['RF Size Regression.joblib']"
      ]
     },
     "execution_count": 38,
     "metadata": {},
     "output_type": "execute_result"
    }
   ],
   "source": [
    "print(rf_size_regression)\n",
    "joblib.dump(rf_size_regression, \"RF Size Regression.joblib\")"
   ]
  },
  {
   "cell_type": "code",
   "execution_count": 43,
   "metadata": {},
   "outputs": [],
   "source": [
    "labels_test_shape = labels_test.drop(columns = ['index','log Area/Vol', 'ShortestDim', 'MiddleDim', 'LongDim', \n",
    "                                                'Geometry_sphere', 'Geometry_wire', 'Geometry_TriangPrismIsosc', \n",
    "                                                'Geometry_parallelepiped', 'index'])\n",
    "indicies_to_drop_test_list_SiO2 = drop_indicies(labels_test_shape, 'Material_SiO2', 0, False)\n",
    "indicies_to_drop_test_list_SiN = drop_indicies(labels_test_shape, 'Material_SiN', 0, False)\n",
    "indicies_to_drop_test_list_Au = drop_indicies(labels_test_shape, 'Material_Au', 0, False)"
   ]
  },
  {
   "cell_type": "code",
   "execution_count": 59,
   "metadata": {},
   "outputs": [],
   "source": [
    "labels_test_size = labels_test.drop(columns = ['index', 'Geometry_sphere', 'Geometry_wire', 'Geometry_TriangPrismIsosc', \n",
    "                                            'Geometry_parallelepiped', 'index', 'Material_Au', 'Material_SiN', 'Material_SiO2'])\n",
    "spectra_test_df = pd.DataFrame(spectra_test)\n",
    "spectra_test_SiO2 = np.asarray(spectra_test_df.drop(indicies_to_drop_test_list_SiO2[1]))\n",
    "spectra_test_SiN = np.asarray(spectra_test_df.drop(indicies_to_drop_test_list_SiN[1]))\n",
    "spectra_test_Au = np.asarray(spectra_test_df.drop(indicies_to_drop_test_list_Au[1]))"
   ]
  },
  {
   "cell_type": "code",
   "execution_count": 64,
   "metadata": {},
   "outputs": [],
   "source": [
    "labels_test_size_SiO2 = labels_test_size.drop(indicies_to_drop_test_list_SiO2[1])\n",
    "labels_test_size_SiN = labels_test_size.drop(indicies_to_drop_test_list_SiN[1])\n",
    "labels_test_size_Au = labels_test_size.drop(indicies_to_drop_test_list_Au[1])\n",
    "\n",
    "accuracy_size_regression_SiO2 = rf_size_regression[1].score(spectra_test_SiO2, labels_test_size_SiO2)\n",
    "accuracy_size_regression_SiN =rf_size_regression[1].score(spectra_test_SiN, labels_test_size_SiN)\n",
    "accuracy_size_regression_Au =rf_size_regression[1].score(spectra_test_Au, labels_test_size_Au)"
   ]
  },
  {
   "cell_type": "code",
   "execution_count": 73,
   "metadata": {},
   "outputs": [
    {
     "name": "stdout",
     "output_type": "stream",
     "text": [
      "0.9153275659644005\n",
      "0.9098296385176912\n",
      "0.8962104407674369\n"
     ]
    },
    {
     "data": {
      "image/png": "[encoded data removed]",
      "text/plain": [
       "<Figure size 432x288 with 1 Axes>"
      ]
     },
     "metadata": {
      "needs_background": "light"
     },
     "output_type": "display_data"
    }
   ],
   "source": [
    "print(accuracy_size_regression_SiO2)\n",
    "print(accuracy_size_regression_SiN)\n",
    "print(accuracy_size_regression_Au)\n",
    "\n",
    "accuracies = [accuracy_size_regression_SiO2, accuracy_size_regression_SiN, accuracy_size_regression_Au]\n",
    "categories = [\"SiO2\", \"SiN\", \"Au\"]\n",
    "title = \"Size Regression Materials\"\n",
    "\n",
    "sns.barplot(categories, accuracies).set(title = title, ylabel = \"Correlation\", ylim = [0.7, 1])\n",
    "plt.savefig(str(title) + '.png', format='png')\n"
   ]
  },
  {
   "cell_type": "code",
   "execution_count": null,
   "outputs": [],
   "source": [
    "indicies_to_drop_test_list_Parallelepiped = drop_indicies(labels_test, 'Geometry_parallelepiped', 0, False)\n",
    "indicies_to_drop_test_list_Sphere = drop_indicies(labels_test, 'Geometry_sphere', 0, False)\n",
    "indicies_to_drop_test_list_Triangle = drop_indicies(labels_test, 'Geometry_TriangPrismIsosc', 0, False)\n",
    "indicies_to_drop_test_list_Wire = drop_indicies(labels_test, 'Geometry_wire', 0, False)\n",
    "\n",
    "labels_test_size_Parallelepiped = labels_test_size.drop(indicies_to_drop_test_list_Parallelepiped[1])\n",
    "labels_test_size_Sphere = labels_test_size.drop(indicies_to_drop_test_list_Sphere[1])\n",
    "labels_test_size_Triangle = labels_test_size.drop(indicies_to_drop_test_list_Triangle[1])\n",
    "labels_test_size_Wire = labels_test_size.drop(indicies_to_drop_test_list_Wire[1])\n",
    "\n",
    "spectra_test_Parallelepiped = spectra_test_df.drop(indicies_to_drop_test_list_Parallelepiped[1])\n",
    "spectra_test_Sphere = spectra_test_df.drop(indicies_to_drop_test_list_Sphere[1])\n",
    "spectra_test_Triangle = spectra_test_df.drop(indicies_to_drop_test_list_Triangle[1])\n",
    "spectra_test_Wire = spectra_test_df.drop(indicies_to_drop_test_list_Wire[1])\n"
   ],
   "metadata": {
    "collapsed": false,
    "pycharm": {
     "name": "#%%\n"
    }
   }
  },
  {
   "cell_type": "code",
   "execution_count": null,
   "outputs": [],
   "source": [
    "accuracy_size_regression_Parallelepiped = rf_size_regression[1].score(spectra_test_Parallelepiped, labels_test_size_Parallelepiped)\n",
    "accuracy_size_regression_Sphere = rf_size_regression[1].score(spectra_test_Sphere, labels_test_size_Sphere)\n",
    "accuracy_size_regression_Triangle = rf_size_regression[1].score(spectra_test_Triangle, labels_test_size_Triangle)\n",
    "accuracy_size_regression_Wire = rf_size_regression[1].score(spectra_test_Wire, labels_test_size_Wire)\n"
   ],
   "metadata": {
    "collapsed": false,
    "pycharm": {
     "name": "#%%\n"
    }
   }
  },
  {
   "cell_type": "code",
   "execution_count": null,
   "outputs": [],
   "source": [
    "print(accuracy_size_regression_Parallelepiped)\n",
    "print(accuracy_size_regression_Sphere)\n",
    "print(accuracy_size_regression_Triangle)\n",
    "print(accuracy_size_regression_Wire)"
   ],
   "metadata": {
    "collapsed": false,
    "pycharm": {
     "name": "#%%\n"
    }
   }
  },
  {
   "cell_type": "code",
   "execution_count": null,
   "outputs": [],
   "source": [
    "accuracies = [accuracy_size_regression_Triangle, accuracy_size_regression_Parallelepiped, accuracy_size_regression_Sphere,\n",
    "             accuracy_size_regression_Wire]\n",
    "categories = [\"Triangle\", \"Parallelepiped\", \"Sphere\", \"Wire\"]\n",
    "title = \"Size Regression Shapes\"\n",
    "\n",
    "sns.barplot(categories, accuracies).set(title = title, ylabel = \"Correlation\", ylim = [0.7, 1])\n",
    "plt.savefig(str(title) + '.png', format='png')"
   ],
   "metadata": {
    "collapsed": false,
    "pycharm": {
     "name": "#%%\n"
    }
   }
  },
  {
   "cell_type": "code",
   "execution_count": null,
   "outputs": [],
   "source": [],
   "metadata": {
    "collapsed": false,
    "pycharm": {
     "name": "#%%\n"
    }
   }
  },
  {
   "cell_type": "code",
   "execution_count": 67,
   "metadata": {},
   "outputs": [],
   "source": []
  },
  {
   "cell_type": "code",
   "execution_count": 68,
   "metadata": {},
   "outputs": [],
   "source": [
    "accuracy_size_regression_Parallelepiped = rf_size_regression[1].score(spectra_test_Parallelepiped, labels_test_size_Parallelepiped)\n",
    "accuracy_size_regression_Sphere = rf_size_regression[1].score(spectra_test_Sphere, labels_test_size_Sphere)\n",
    "accuracy_size_regression_Triangle = rf_size_regression[1].score(spectra_test_Triangle, labels_test_size_Triangle)\n",
    "accuracy_size_regression_Wire = rf_size_regression[1].score(spectra_test_Wire, labels_test_size_Wire)\n"
   ]
  },
  {
   "cell_type": "code",
   "execution_count": 69,
   "metadata": {},
   "outputs": [
    {
     "name": "stdout",
     "output_type": "stream",
     "text": [
      "0.8476311181957068\n",
      "0.9982124509810619\n",
      "0.904830891572806\n",
      "0.8841586009238462\n"
     ]
    }
   ],
   "source": [
    "print(accuracy_size_regression_Parallelepiped)\n",
    "print(accuracy_size_regression_Sphere)\n",
    "print(accuracy_size_regression_Triangle)\n",
    "print(accuracy_size_regression_Wire)"
   ]
  },
  {
   "cell_type": "code",
   "execution_count": 75,
   "metadata": {},
   "outputs": [
    {
     "data": {
      "image/png": "[encoded data removed]",
      "text/plain": [
       "<Figure size 432x288 with 1 Axes>"
      ]
     },
     "metadata": {
      "needs_background": "light"
     },
     "output_type": "display_data"
    }
   ],
   "source": [
    "accuracies = [accuracy_size_regression_Triangle, accuracy_size_regression_Parallelepiped, accuracy_size_regression_Sphere,\n",
    "             accuracy_size_regression_Wire]\n",
    "categories = [\"Triangle\", \"Parallelepiped\", \"Sphere\", \"Wire\"]\n",
    "title = \"Size Regression Shapes\"\n",
    "\n",
    "sns.barplot(categories, accuracies).set(title = title, ylabel = \"Correlation\", ylim = [0.7, 1])\n",
    "plt.savefig(str(title) + '.png', format='png')"
   ]
  },
  {
   "cell_type": "code",
   "execution_count": null,
   "metadata": {},
   "outputs": [],
   "source": []
  }
 ],
 "metadata": {
  "kernelspec": {
   "display_name": "Python 3",
   "language": "python",
   "name": "python3"
  },
  "language_info": {
   "codemirror_mode": {
    "name": "ipython",
    "version": 3
   },
   "file_extension": ".py",
   "mimetype": "text/x-python",
   "name": "python",
   "nbconvert_exporter": "python",
   "pygments_lexer": "ipython3",
   "version": "3.7.7"
  },
  "pycharm": {
   "stem_cell": {
    "cell_type": "raw",
    "source": [],
    "metadata": {
     "collapsed": false
    }
   }
  }
 },
 "nbformat": 4,
 "nbformat_minor": 2
}