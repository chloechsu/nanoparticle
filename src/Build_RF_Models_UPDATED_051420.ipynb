{
 "cells": [
  {
   "cell_type": "code",
   "execution_count": 1,
   "metadata": {},
   "outputs": [
    {
     "name": "stderr",
     "output_type": "stream",
     "text": [
      "C:\\Users\\smgls\\Anaconda3\\lib\\site-packages\\sklearn\\externals\\six.py:31: FutureWarning: The module is deprecated in version 0.21 and will be removed in version 0.23 since we've dropped support for Python 2.7. Please rely on the official version of six (https://pypi.org/project/six/).\n",
      "  \"(https://pypi.org/project/six/).\", FutureWarning)\n"
     ]
    }
   ],
   "source": [
    "import joblib\n",
    "import itertools\n",
    "import matplotlib.pyplot as plt\n",
    "import pandas as pd\n",
    "from sklearn import tree\n",
    "from sklearn.ensemble import RandomForestClassifier\n",
    "import numpy as np\n",
    "from sklearn.metrics import confusion_matrix\n",
    "import seaborn as sns\n",
    "from sklearn.multioutput import MultiOutputClassifier\n",
    "from sklearn.ensemble import RandomForestRegressor\n",
    "from sklearn.multioutput import MultiOutputRegressor\n",
    "from RF_Model_Functions import *\n",
    "from IPython.display import Image  \n",
    "from sklearn.externals.six import StringIO  \n",
    "import pydotplus\n",
    "from scipy.signal import savgol_filter\n",
    "from sklearn.datasets import load_iris\n",
    "from sklearn.ensemble import RandomForestClassifier, StackingClassifier\n",
    "from sklearn.linear_model import LogisticRegression\n",
    "from sklearn.model_selection import train_test_split\n",
    "from sklearn.neighbors import KNeighborsClassifier\n",
    "from sklearn.svm import SVC\n",
    "from sklearn.linear_model import LinearRegression\n",
    "from sklearn.multioutput import MultiOutputRegressor"
   ]
  },
  {
   "cell_type": "code",
   "execution_count": 2,
   "metadata": {},
   "outputs": [],
   "source": [
    "spectra_train = joblib.load('cache/r20200406_234541_50.0sc_50.0sp_1_CPU/spectral/y_new_train.joblib')\n",
    "spectra_test = joblib.load('cache/r20200406_234541_50.0sc_50.0sp_1_CPU/spectral/y_test.joblib')\n",
    "labels_train = joblib.load('cache/r20200406_234541_50.0sc_50.0sp_1_CPU/spectral/x_new_train.joblib').reset_index()\n",
    "labels_test = joblib.load('cache/r20200406_234541_50.0sc_50.0sp_1_CPU/spectral/x_test.joblib').reset_index()\n",
    "labels_train_smaller = joblib.load('cache/r20200406_234541_50.0sc_50.0sp_1_CPU/spectral/x_train.joblib').reset_index()\n",
    "spectra_train_smaller = joblib.load('cache/r20200406_234541_50.0sc_50.0sp_1_CPU/spectral/y_train.joblib')"
   ]
  },
  {
   "cell_type": "code",
   "execution_count": 3,
   "metadata": {},
   "outputs": [],
   "source": [
    "from_one_hot_dict = {(1.,0.,0.,0.) : 0, (0.,1.,0.,0.) : 1, (0.,0.,1.,0.) : 2, (0.,0.,0.,1.) : 3}\n",
    "from_one_hot_dict_materials = {(1.,0.,0.) : 0, (0.,1.,0.) : 1, (0.,0.,1.) : 2}"
   ]
  },
  {
   "cell_type": "markdown",
   "metadata": {},
   "source": [
    "Shape classification RF models multiclass prediction task - trains 4 models, on each of the 3 materials and on all 3 materials"
   ]
  },
  {
   "cell_type": "code",
   "execution_count": 4,
   "metadata": {},
   "outputs": [],
   "source": [
    "labels_train_shape = labels_train.drop(columns = ['index','log Area/Vol', 'ShortestDim', 'MiddleDim', 'LongDim', \n",
    "                                                'Material_Au', 'Material_SiN', 'Material_SiO2', \n",
    "                                                'index'])"
   ]
  },
  {
   "cell_type": "code",
   "execution_count": 5,
   "metadata": {},
   "outputs": [
    {
     "name": "stdout",
     "output_type": "stream",
     "text": [
      "training Au\n",
      "training SiN\n",
      "training SiO2\n",
      "training shape classifier all materials\n"
     ]
    }
   ],
   "source": [
    "rf_Au = Train_Random_Forests_Shape_Classification(\"Au\", spectra_train, labels_train, spectra_test, labels_test,from_one_hot_dict, trees = 50)\n",
    "rf_SiN = Train_Random_Forests_Shape_Classification(\"SiN\", spectra_train, labels_train, spectra_test, labels_test,from_one_hot_dict, trees = 50)\n",
    "rf_SiO2 = Train_Random_Forests_Shape_Classification(\"SiO2\", spectra_train, labels_train, spectra_test, labels_test,from_one_hot_dict, trees = 50)\n",
    "rf_all = Train_Random_Forests_Shape_Classification(\"All\", spectra_train, labels_train, spectra_test, labels_test,from_one_hot_dict, trees = 50)"
   ]
  },
  {
   "cell_type": "markdown",
   "metadata": {},
   "source": [
    "Save the four shape classification models"
   ]
  },
  {
   "cell_type": "code",
   "execution_count": 6,
   "metadata": {},
   "outputs": [
    {
     "data": {
      "text/plain": [
       "['RF_Models_Shape_Classification.joblib']"
      ]
     },
     "execution_count": 6,
     "metadata": {},
     "output_type": "execute_result"
    }
   ],
   "source": [
    "joblib.dump([[\"RF Model SiO2\", rf_SiO2], [\"RF Model SiN\",rf_SiN], [\"RF Model Au\", rf_Au], [\"RF all materials\", rf_all]], \n",
    "           \"RF_Models_Shape_Classification.joblib\")"
   ]
  },
  {
   "cell_type": "markdown",
   "metadata": {},
   "source": [
    "Train and save binary shape classification models "
   ]
  },
  {
   "cell_type": "code",
   "execution_count": 7,
   "metadata": {},
   "outputs": [
    {
     "name": "stdout",
     "output_type": "stream",
     "text": [
      "Confusion matrix, without normalization\n",
      "[[1. 0.]\n",
      " [0. 1.]]\n",
      "Confusion matrix, without normalization\n",
      "[[0.77 0.23]\n",
      " [0.13 0.87]]\n",
      "Confusion matrix, without normalization\n",
      "[[0.82 0.18]\n",
      " [0.2  0.8 ]]\n",
      "Confusion matrix, without normalization\n",
      "[[0.73 0.27]\n",
      " [0.24 0.76]]\n"
     ]
    },
    {
     "data": {
      "image/png": "[encoded data removed]",
      "text/plain": [
       "<Figure size 432x288 with 5 Axes>"
      ]
     },
     "metadata": {
      "needs_background": "light"
     },
     "output_type": "display_data"
    }
   ],
   "source": [
    "shape_classificaion_shapes = ['Geometry_sphere', 'Geometry_wire', 'Geometry_TriangPrismIsosc', 'Geometry_parallelepiped']\n",
    "for shape in shape_classificaion_shapes:\n",
    "    rf_binary_model = binary_classification_models(labels_train, spectra_train, labels_test, spectra_test, shape,\n",
    "                                 confusion_matrix_=True)\n",
    "    joblib.dump(rf_binary_model, \"RF Binary Classification \" + shape + \".joblib\" )"
   ]
  },
  {
   "cell_type": "markdown",
   "metadata": {},
   "source": [
    "Train and save random forest size regression model. This model predicts all four size parameters from spectra. This is a sklearn random forest multioutput regressor, which trains all four models in parallel and then just sticks all of their outputs together. Therefore, accuracy of each model can be found by just training a model to predict one parameter and examining its accuracy. "
   ]
  },
  {
   "cell_type": "code",
   "execution_count": 8,
   "metadata": {},
   "outputs": [],
   "source": [
    "rf_size_regression = Train_Random_Forests_Size_Regression(\"all\", spectra_train, labels_train, spectra_test, labels_test, 50)"
   ]
  },
  {
   "cell_type": "code",
   "execution_count": 9,
   "metadata": {},
   "outputs": [
    {
     "name": "stdout",
     "output_type": "stream",
     "text": [
      "(0.9061593718281074, MultiOutputRegressor(estimator=RandomForestRegressor(bootstrap=True,\n",
      "                                                     ccp_alpha=0.0,\n",
      "                                                     criterion='mse',\n",
      "                                                     max_depth=None,\n",
      "                                                     max_features='auto',\n",
      "                                                     max_leaf_nodes=None,\n",
      "                                                     max_samples=None,\n",
      "                                                     min_impurity_decrease=0.0,\n",
      "                                                     min_impurity_split=None,\n",
      "                                                     min_samples_leaf=1,\n",
      "                                                     min_samples_split=2,\n",
      "                                                     min_weight_fraction_leaf=0.0,\n",
      "                                                     n_estimators=50,\n",
      "                                                     n_jobs=None,\n",
      "                                                     oob_score=False,\n",
      "                                                     random_state=None,\n",
      "                                                     verbose=0,\n",
      "                                                     warm_start=False),\n",
      "                     n_jobs=-1))\n"
     ]
    },
    {
     "data": {
      "text/plain": [
       "['RF Size Regression.joblib']"
      ]
     },
     "execution_count": 9,
     "metadata": {},
     "output_type": "execute_result"
    }
   ],
   "source": [
    "print(rf_size_regression)\n",
    "joblib.dump(rf_size_regression, \"RF Size Regression.joblib\")"
   ]
  },
  {
   "cell_type": "markdown",
   "metadata": {},
   "source": [
    "Train and save random forest size regression models on each of the four size parameters. "
   ]
  },
  {
   "cell_type": "code",
   "execution_count": 10,
   "metadata": {},
   "outputs": [
    {
     "data": {
      "text/plain": [
       "['RF Size Regression Area over Volume.joblib']"
      ]
     },
     "execution_count": 10,
     "metadata": {},
     "output_type": "execute_result"
    }
   ],
   "source": [
    "rf_size_regression_area_vol = Train_Random_Forests_Size_Regression(\"volume\", spectra_train, labels_train, spectra_test, labels_test, 50)\n",
    "joblib.dump(rf_size_regression_area_vol, \"RF Size Regression Area over Volume.joblib\")"
   ]
  },
  {
   "cell_type": "code",
   "execution_count": 11,
   "metadata": {},
   "outputs": [
    {
     "data": {
      "text/plain": [
       "['RF Size Regression shortest dim.joblib']"
      ]
     },
     "execution_count": 11,
     "metadata": {},
     "output_type": "execute_result"
    }
   ],
   "source": [
    "rf_size_regression_short_dim = Train_Random_Forests_Size_Regression(\"short_dim\", spectra_train, labels_train, spectra_test, labels_test, 50)\n",
    "joblib.dump(rf_size_regression_short_dim, \"RF Size Regression shortest dim.joblib\")"
   ]
  },
  {
   "cell_type": "code",
   "execution_count": 12,
   "metadata": {},
   "outputs": [
    {
     "data": {
      "text/plain": [
       "['RF Size Regression middle dim.joblib']"
      ]
     },
     "execution_count": 12,
     "metadata": {},
     "output_type": "execute_result"
    }
   ],
   "source": [
    "rf_size_regression_middle_dim = Train_Random_Forests_Size_Regression(\"middle_dim\", spectra_train, labels_train, spectra_test, labels_test, 50)\n",
    "joblib.dump(rf_size_regression_middle_dim, \"RF Size Regression middle dim.joblib\")"
   ]
  },
  {
   "cell_type": "code",
   "execution_count": 13,
   "metadata": {},
   "outputs": [
    {
     "data": {
      "text/plain": [
       "['RF Size Regression long dim.joblib']"
      ]
     },
     "execution_count": 13,
     "metadata": {},
     "output_type": "execute_result"
    }
   ],
   "source": [
    "rf_size_regression_long_dim = Train_Random_Forests_Size_Regression(\"long_dim\", spectra_train, labels_train, spectra_test, labels_test, 50)\n",
    "joblib.dump(rf_size_regression_long_dim, \"RF Size Regression long dim.joblib\")"
   ]
  },
  {
   "cell_type": "markdown",
   "metadata": {},
   "source": [
    "Test size regression model on test sets containing one specific material"
   ]
  },
  {
   "cell_type": "code",
   "execution_count": 14,
   "metadata": {},
   "outputs": [],
   "source": [
    "labels_test_material = labels_test.drop(columns = ['index','log Area/Vol', 'ShortestDim', 'MiddleDim', 'LongDim', \n",
    "                                                'Geometry_sphere', 'Geometry_wire', 'Geometry_TriangPrismIsosc', \n",
    "                                                'Geometry_parallelepiped', 'index'])\n",
    "indicies_to_drop_test_list_SiO2 = drop_indicies(labels_test_material, 'Material_SiO2', 0, False)\n",
    "indicies_to_drop_test_list_SiN = drop_indicies(labels_test_material, 'Material_SiN', 0, False)\n",
    "indicies_to_drop_test_list_Au = drop_indicies(labels_test_material, 'Material_Au', 0, False)"
   ]
  },
  {
   "cell_type": "code",
   "execution_count": 15,
   "metadata": {},
   "outputs": [],
   "source": [
    "labels_test_size = labels_test.drop(columns = ['index', 'Geometry_sphere', 'Geometry_wire', 'Geometry_TriangPrismIsosc', \n",
    "                                            'Geometry_parallelepiped', 'index', 'Material_Au', 'Material_SiN', 'Material_SiO2'])\n",
    "spectra_test_df = pd.DataFrame(spectra_test)\n",
    "spectra_test_SiO2 = np.asarray(spectra_test_df.drop(indicies_to_drop_test_list_SiO2[1]))\n",
    "spectra_test_SiN = np.asarray(spectra_test_df.drop(indicies_to_drop_test_list_SiN[1]))\n",
    "spectra_test_Au = np.asarray(spectra_test_df.drop(indicies_to_drop_test_list_Au[1]))"
   ]
  },
  {
   "cell_type": "code",
   "execution_count": 16,
   "metadata": {},
   "outputs": [],
   "source": [
    "labels_test_size_SiO2 = labels_test_size.drop(indicies_to_drop_test_list_SiO2[1])\n",
    "labels_test_size_SiN = labels_test_size.drop(indicies_to_drop_test_list_SiN[1])\n",
    "labels_test_size_Au = labels_test_size.drop(indicies_to_drop_test_list_Au[1])\n",
    "\n",
    "accuracy_size_regression_SiO2 = rf_size_regression[1].score(spectra_test_SiO2, labels_test_size_SiO2)\n",
    "accuracy_size_regression_SiN =rf_size_regression[1].score(spectra_test_SiN, labels_test_size_SiN)\n",
    "accuracy_size_regression_Au =rf_size_regression[1].score(spectra_test_Au, labels_test_size_Au)"
   ]
  },
  {
   "cell_type": "code",
   "execution_count": 23,
   "metadata": {},
   "outputs": [
    {
     "name": "stdout",
     "output_type": "stream",
     "text": [
      "0.9166090980972443\n",
      "0.9109951393561627\n",
      "0.8949743685817872\n"
     ]
    },
    {
     "data": {
      "text/plain": [
       "['size_regression_material_accuracy.joblib']"
      ]
     },
     "execution_count": 23,
     "metadata": {},
     "output_type": "execute_result"
    }
   ],
   "source": [
    "print(accuracy_size_regression_SiO2)\n",
    "print(accuracy_size_regression_SiN)\n",
    "print(accuracy_size_regression_Au)"
   ]
  },
  {
   "cell_type": "code",
   "execution_count": 18,
   "metadata": {},
   "outputs": [
    {
     "data": {
      "text/plain": [
       "['accuracies_size_regression_material.joblib']"
      ]
     },
     "execution_count": 18,
     "metadata": {},
     "output_type": "execute_result"
    }
   ],
   "source": [
    "accuracies_size_regression_material = [[\"accuracy_size_regression_SiO2\", accuracy_size_regression_SiO2],\n",
    "                                      [\"accuracy_size_regression_SiN\", accuracy_size_regression_SiN],\n",
    "                                      [\"accuracy_size_regression_Au\", accuracy_size_regression_Au]]\n",
    "joblib.dump(accuracies_size_regression_material, \"accuracies_size_regression_material.joblib\")"
   ]
  },
  {
   "cell_type": "markdown",
   "metadata": {},
   "source": [
    "Test size regression model on test sets containing one specific material"
   ]
  },
  {
   "cell_type": "code",
   "execution_count": 19,
   "metadata": {
    "pycharm": {
     "name": "#%%\n"
    }
   },
   "outputs": [],
   "source": [
    "indicies_to_drop_test_list_Parallelepiped = drop_indicies(labels_test, 'Geometry_parallelepiped', 0, False)\n",
    "indicies_to_drop_test_list_Sphere = drop_indicies(labels_test, 'Geometry_sphere', 0, False)\n",
    "indicies_to_drop_test_list_Triangle = drop_indicies(labels_test, 'Geometry_TriangPrismIsosc', 0, False)\n",
    "indicies_to_drop_test_list_Wire = drop_indicies(labels_test, 'Geometry_wire', 0, False)\n",
    "\n",
    "labels_test_size_Parallelepiped = labels_test_size.drop(indicies_to_drop_test_list_Parallelepiped[1])\n",
    "labels_test_size_Sphere = labels_test_size.drop(indicies_to_drop_test_list_Sphere[1])\n",
    "labels_test_size_Triangle = labels_test_size.drop(indicies_to_drop_test_list_Triangle[1])\n",
    "labels_test_size_Wire = labels_test_size.drop(indicies_to_drop_test_list_Wire[1])\n",
    "\n",
    "spectra_test_Parallelepiped = spectra_test_df.drop(indicies_to_drop_test_list_Parallelepiped[1])\n",
    "spectra_test_Sphere = spectra_test_df.drop(indicies_to_drop_test_list_Sphere[1])\n",
    "spectra_test_Triangle = spectra_test_df.drop(indicies_to_drop_test_list_Triangle[1])\n",
    "spectra_test_Wire = spectra_test_df.drop(indicies_to_drop_test_list_Wire[1])\n"
   ]
  },
  {
   "cell_type": "code",
   "execution_count": 20,
   "metadata": {
    "pycharm": {
     "name": "#%%\n"
    }
   },
   "outputs": [],
   "source": [
    "accuracy_size_regression_Parallelepiped = rf_size_regression[1].score(spectra_test_Parallelepiped, labels_test_size_Parallelepiped)\n",
    "accuracy_size_regression_Sphere = rf_size_regression[1].score(spectra_test_Sphere, labels_test_size_Sphere)\n",
    "accuracy_size_regression_Triangle = rf_size_regression[1].score(spectra_test_Triangle, labels_test_size_Triangle)\n",
    "accuracy_size_regression_Wire = rf_size_regression[1].score(spectra_test_Wire, labels_test_size_Wire)\n"
   ]
  },
  {
   "cell_type": "code",
   "execution_count": 21,
   "metadata": {
    "pycharm": {
     "name": "#%%\n"
    }
   },
   "outputs": [
    {
     "name": "stdout",
     "output_type": "stream",
     "text": [
      "0.8488878643683283\n",
      "0.9982870861542521\n",
      "0.9058667385442793\n",
      "0.8848896306944871\n"
     ]
    }
   ],
   "source": [
    "print(accuracy_size_regression_Parallelepiped)\n",
    "print(accuracy_size_regression_Sphere)\n",
    "print(accuracy_size_regression_Triangle)\n",
    "print(accuracy_size_regression_Wire)"
   ]
  },
  {
   "cell_type": "code",
   "execution_count": 22,
   "metadata": {},
   "outputs": [
    {
     "data": {
      "text/plain": [
       "['accuracies_size_regression_shape.joblib']"
      ]
     },
     "execution_count": 22,
     "metadata": {},
     "output_type": "execute_result"
    }
   ],
   "source": [
    "accuracies_size_regression_shape = [[\"accuracy_size_regression_parallelepiped\", accuracy_size_regression_Parallelepiped],\n",
    "                                      [\"accuracy_size_regression_sphere\", accuracy_size_regression_Sphere],\n",
    "                                      [\"accuracy_size_regression_triangle\", accuracy_size_regression_Triangle],\n",
    "                                      [\"accuracy_size_regression_wire\", accuracy_size_regression_Wire]]\n",
    "joblib.dump(accuracies_size_regression_shape, \"accuracies_size_regression_shape.joblib\")"
   ]
  }
 ],
 "metadata": {
  "kernelspec": {
   "display_name": "Python 3",
   "language": "python",
   "name": "python3"
  },
  "language_info": {
   "codemirror_mode": {
    "name": "ipython",
    "version": 3
   },
   "file_extension": ".py",
   "mimetype": "text/x-python",
   "name": "python",
   "nbconvert_exporter": "python",
   "pygments_lexer": "ipython3",
   "version": "3.7.7"
  },
  "pycharm": {
   "stem_cell": {
    "cell_type": "raw",
    "metadata": {
     "collapsed": false
    },
    "source": []
   }
  }
 },
 "nbformat": 4,
 "nbformat_minor": 2
}
