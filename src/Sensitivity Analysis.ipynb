{
 "cells": [
  {
   "cell_type": "code",
   "execution_count": 2,
   "metadata": {},
   "outputs": [],
   "source": [
    "import joblib\n",
    "import numpy as np\n",
    "import matplotlib.pyplot as plt\n",
    "import math"
   ]
  },
  {
   "cell_type": "code",
   "execution_count": 3,
   "metadata": {},
   "outputs": [],
   "source": [
    "spectra_train = joblib.load('cache/r20200406_234541_50.0sc_50.0sp_1_CPU/spectral/y_new_train.joblib')\n",
    "spectra_test = joblib.load('cache/r20200406_234541_50.0sc_50.0sp_1_CPU/spectral/y_test.joblib')\n",
    "labels_train = joblib.load('cache/r20200406_234541_50.0sc_50.0sp_1_CPU/spectral/x_new_train.joblib').reset_index()\n",
    "labels_test = joblib.load('cache/r20200406_234541_50.0sc_50.0sp_1_CPU/spectral/x_test.joblib').reset_index().drop(columns = [\"index\"])\n",
    "labels_train_smaller = joblib.load('cache/r20200406_234541_50.0sc_50.0sp_1_CPU/spectral/x_train.joblib').reset_index()\n",
    "spectra_train_smaller = joblib.load('cache/r20200406_234541_50.0sc_50.0sp_1_CPU/spectral/y_train.joblib')"
   ]
  },
  {
   "cell_type": "code",
   "execution_count": 4,
   "metadata": {},
   "outputs": [],
   "source": [
    "size_regression_rf = joblib.load(\"RF Size Regression.joblib\")[1]"
   ]
  },
  {
   "cell_type": "code",
   "execution_count": 5,
   "metadata": {},
   "outputs": [
    {
     "data": {
      "text/plain": [
       "[<matplotlib.lines.Line2D at 0x21744d1b208>]"
      ]
     },
     "execution_count": 5,
     "metadata": {},
     "output_type": "execute_result"
    },
    {
     "data": {
      "image/png": "[encoded data removed]",
      "text/plain": [
       "<Figure size 432x288 with 1 Axes>"
      ]
     },
     "metadata": {
      "needs_background": "light"
     },
     "output_type": "display_data"
    }
   ],
   "source": [
    "labels_test.iloc[7809]\n",
    "plt.plot(spectra_test[7809])"
   ]
  },
  {
   "cell_type": "code",
   "execution_count": 6,
   "metadata": {},
   "outputs": [],
   "source": [
    "inference_rf = joblib.load(\"inference_rf.joblib\")"
   ]
  },
  {
   "cell_type": "code",
   "execution_count": 7,
   "metadata": {},
   "outputs": [
    {
     "data": {
      "text/plain": [
       "[array([0.        , 0.        , 1.        , 0.        , 1.        ,\n",
       "        0.        , 0.        , 4.53681668, 0.06424463, 0.06424463,\n",
       "        0.06424463])]"
      ]
     },
     "execution_count": 7,
     "metadata": {},
     "output_type": "execute_result"
    }
   ],
   "source": [
    "[np.asarray(labels_test.iloc[7809])]"
   ]
  },
  {
   "cell_type": "code",
   "execution_count": 8,
   "metadata": {},
   "outputs": [],
   "source": [
    "log_emissivity = inference_rf.predict([np.asarray(labels_test.iloc[7809])])[0]"
   ]
  },
  {
   "cell_type": "code",
   "execution_count": 9,
   "metadata": {},
   "outputs": [],
   "source": [
    "emissivity = []\n",
    "for i in log_emissivity:\n",
    "    emissivity.append(math.exp(i))"
   ]
  },
  {
   "cell_type": "code",
   "execution_count": 10,
   "metadata": {},
   "outputs": [
    {
     "data": {
      "text/plain": [
       "[<matplotlib.lines.Line2D at 0x2172dc280c8>]"
      ]
     },
     "execution_count": 10,
     "metadata": {},
     "output_type": "execute_result"
    },
    {
     "data": {
      "image/png": "[encoded data removed]",
      "text/plain": [
       "<Figure size 432x288 with 1 Axes>"
      ]
     },
     "metadata": {
      "needs_background": "light"
     },
     "output_type": "display_data"
    }
   ],
   "source": [
    "plt.plot(emissivity)"
   ]
  },
  {
   "cell_type": "code",
   "execution_count": 11,
   "metadata": {},
   "outputs": [],
   "source": [
    "au_ns = np.asarray(labels_test.iloc[7809])"
   ]
  },
  {
   "cell_type": "code",
   "execution_count": 12,
   "metadata": {},
   "outputs": [
    {
     "data": {
      "text/plain": [
       "array([0.        , 0.        , 1.        , 0.        , 1.        ,\n",
       "       0.        , 0.        , 4.53681668, 0.06424463, 0.06424463,\n",
       "       0.06424463])"
      ]
     },
     "execution_count": 12,
     "metadata": {},
     "output_type": "execute_result"
    }
   ],
   "source": [
    "au_ns"
   ]
  },
  {
   "cell_type": "code",
   "execution_count": 72,
   "metadata": {},
   "outputs": [],
   "source": [
    "def predict_spectrum_from_size_Au_NS(diameter):\n",
    "    input_vector = [0,0,1,0,1,0,0]\n",
    "    area = 4*np.pi*(diameter/2)**2\n",
    "    volume = (4/3)*np.pi*(diameter/2)**3\n",
    "    input_vector.append(np.log(area/volume))\n",
    "    for i in range(0,3):\n",
    "        input_vector.append(diameter)\n",
    "    input_vector = [np.asarray(input_vector)]\n",
    "    log_emissivity = inference_rf.predict(input_vector)[0]\n",
    "    emissivity = []\n",
    "    for i in log_emissivity:\n",
    "        emissivity.append(math.exp(i))\n",
    "    return emissivity"
   ]
  },
  {
   "cell_type": "code",
   "execution_count": 73,
   "metadata": {},
   "outputs": [],
   "source": [
    "def predict_size_from_spectrum(spectrum, original_prediction = None):\n",
    "    size_list = size_regression_rf.predict([spectrum])\n",
    "    shortest_dim = size_list[0][1]\n",
    "    if original_prediction != None:\n",
    "        prediction_change = np.abs(shortest_dim - original_prediction)\n",
    "        return(shortest_dim, prediction_change)\n",
    "    if original_prediction == None:\n",
    "        return(shortest_dim)"
   ]
  },
  {
   "cell_type": "code",
   "execution_count": 74,
   "metadata": {},
   "outputs": [],
   "source": [
    "def generate_spheres(number_of_spheres, starting_diameter, increase_amount):\n",
    "    spheres = [starting_diameter]\n",
    "    for i in range(0, number_of_spheres):\n",
    "        sphere = spheres[i] + increase_amount\n",
    "        spheres.append(sphere)\n",
    "    return(spheres)"
   ]
  },
  {
   "cell_type": "code",
   "execution_count": 75,
   "metadata": {},
   "outputs": [],
   "source": [
    "# size_regression_rf.predict([emissivity_60nm])[0][1]"
   ]
  },
  {
   "cell_type": "code",
   "execution_count": 99,
   "metadata": {},
   "outputs": [],
   "source": [
    "decreasing.reverse()"
   ]
  },
  {
   "cell_type": "code",
   "execution_count": 76,
   "metadata": {},
   "outputs": [],
   "source": [
    "def sensitivity_analysis(number_of_spheres, starting_diameter, increase_amount):\n",
    "    sphere_list = generate_spheres(number_of_spheres, starting_diameter, increase_amount)\n",
    "    prediction_change_list = []\n",
    "    original_prediction_spectrum = predict_spectrum_from_size_Au_NS(starting_diameter)\n",
    "    original_prediction_size = predict_size_from_spectrum(original_prediction_spectrum)\n",
    "    for sphere in sphere_list:\n",
    "        spectrum = predict_spectrum_from_size_Au_NS(sphere)\n",
    "        predictions = predict_size_from_spectrum(spectrum, original_prediction_size)\n",
    "        prediction_change_list.append([sphere, predictions[0], predictions[1]])\n",
    "        \n",
    "    return prediction_change_list"
   ]
  },
  {
   "cell_type": "code",
   "execution_count": 79,
   "metadata": {},
   "outputs": [
    {
     "data": {
      "text/plain": [
       "[[0.08, 0.08046282636560707, 0.0],\n",
       " [0.081, 0.07540404957308666, 0.005058776792520411],\n",
       " [0.082, 0.081916129542617, 0.0014533031770099236],\n",
       " [0.083, 0.0824112122492234, 0.0019483858836163298],\n",
       " [0.084, 0.08235761724241622, 0.0018947908768091465],\n",
       " [0.085, 0.08453804025228548, 0.0040752138866784055],\n",
       " [0.08600000000000001, 0.08607702506213548, 0.005614198696528405],\n",
       " [0.08700000000000001, 0.08583850869526778, 0.005375682329660708],\n",
       " [0.08800000000000001, 0.08713981528203923, 0.006676988916432161],\n",
       " [0.08900000000000001, 0.08808452600467458, 0.007621699639067503],\n",
       " [0.09000000000000001, 0.08949952104975235, 0.00903669468414528]]"
      ]
     },
     "execution_count": 79,
     "metadata": {},
     "output_type": "execute_result"
    }
   ],
   "source": [
    "increasing = sensitivity_analysis(10, 0.08, 0.001)\n",
    "increasing"
   ]
  },
  {
   "cell_type": "code",
   "execution_count": 78,
   "metadata": {},
   "outputs": [
    {
     "data": {
      "text/plain": [
       "0.08"
      ]
     },
     "execution_count": 78,
     "metadata": {},
     "output_type": "execute_result"
    }
   ],
   "source": [
    "increasing[0][0]"
   ]
  },
  {
   "cell_type": "code",
   "execution_count": 110,
   "metadata": {},
   "outputs": [
    {
     "data": {
      "text/plain": [
       "[69.99999999999999,\n",
       " 71.0,\n",
       " 72.0,\n",
       " 73.0,\n",
       " 74.0,\n",
       " 75.0,\n",
       " 76.0,\n",
       " 77.0,\n",
       " 78.0,\n",
       " 79.0,\n",
       " 80.0,\n",
       " 81.0,\n",
       " 82.0,\n",
       " 83.0,\n",
       " 84.0,\n",
       " 85.0,\n",
       " 86.0,\n",
       " 87.00000000000001,\n",
       " 88.00000000000001,\n",
       " 89.00000000000001,\n",
       " 90.00000000000001]"
      ]
     },
     "execution_count": 110,
     "metadata": {},
     "output_type": "execute_result"
    }
   ],
   "source": [
    "inputted_size = []\n",
    "for i in range(0, len(decreasing)-1):\n",
    "    inputted_size.append(decreasing[10-i][0]*1000)\n",
    "for entry in increasing:\n",
    "    inputted_size.append(entry[0]*1000)\n",
    "inputted_size"
   ]
  },
  {
   "cell_type": "code",
   "execution_count": 111,
   "metadata": {},
   "outputs": [
    {
     "data": {
      "text/plain": [
       "[-10.791092407165346,\n",
       " -10.140880147887692,\n",
       " -9.540278663391938,\n",
       " -9.065969656224567,\n",
       " -7.955535717487402,\n",
       " -7.460531955104321,\n",
       " -6.872123066396771,\n",
       " -4.087502481712829,\n",
       " -3.0507191505331486,\n",
       " -3.9395525613113715,\n",
       " 0.0,\n",
       " 5.058776792520411,\n",
       " 1.4533031770099236,\n",
       " 1.94838588361633,\n",
       " 1.8947908768091466,\n",
       " 4.075213886678405,\n",
       " 5.614198696528405,\n",
       " 5.375682329660708,\n",
       " 6.676988916432161,\n",
       " 7.6216996390675025,\n",
       " 9.03669468414528]"
      ]
     },
     "execution_count": 111,
     "metadata": {},
     "output_type": "execute_result"
    }
   ],
   "source": [
    "change_from_original = []\n",
    "for i in range(0, len(decreasing)-1):\n",
    "    change_from_original.append(decreasing[10-i][2]*-1000)\n",
    "for entry in increasing:\n",
    "    change_from_original.append(entry[2]*1000)\n",
    "change_from_original"
   ]
  },
  {
   "cell_type": "code",
   "execution_count": 112,
   "metadata": {},
   "outputs": [
    {
     "data": {
      "text/plain": [
       "[-10, -9, -8, -7, -6, -5, -4, -3, -2, -1, 0, 1, 2, 3, 4, 5, 6, 7, 8, 9, 10]"
      ]
     },
     "execution_count": 112,
     "metadata": {},
     "output_type": "execute_result"
    }
   ],
   "source": [
    "true_difference = list(np.arange(-10,11,1))\n",
    "true_difference"
   ]
  },
  {
   "cell_type": "code",
   "execution_count": 118,
   "metadata": {},
   "outputs": [
    {
     "data": {
      "text/plain": [
       "Text(0.5, 1.0, 'Sensitivity of Au NS Prediction')"
      ]
     },
     "execution_count": 118,
     "metadata": {},
     "output_type": "execute_result"
    },
    {
     "data": {
      "image/png": "[encoded data removed]",
      "text/plain": [
       "<Figure size 432x288 with 1 Axes>"
      ]
     },
     "metadata": {
      "needs_background": "light"
     },
     "output_type": "display_data"
    }
   ],
   "source": [
    "plt.plot(inputted_size, change_from_original)\n",
    "plt.plot(inputted_size, true_difference)\n",
    "plt.scatter(80,0, color = 'k')\n",
    "plt.xlabel(\"Size (nm)\")\n",
    "plt.ylabel(\"Change From Original Prediction\")\n",
    "plt.title(\"Sensitivity of Au NS Prediction\")"
   ]
  },
  {
   "cell_type": "code",
   "execution_count": 107,
   "metadata": {},
   "outputs": [
    {
     "data": {
      "text/plain": [
       "[[0.08, 0.08046282636560707, 0.0],\n",
       " [0.079, 0.0765232738042957, 0.003939552561311371],\n",
       " [0.078, 0.07741210721507392, 0.003050719150533149],\n",
       " [0.077, 0.07637532388389424, 0.004087502481712829],\n",
       " [0.076, 0.0735907032992103, 0.006872123066396771],\n",
       " [0.075, 0.07300229441050275, 0.007460531955104321],\n",
       " [0.074, 0.07250729064811967, 0.007955535717487403],\n",
       " [0.073, 0.0713968567093825, 0.009065969656224568],\n",
       " [0.072, 0.07092254770221514, 0.009540278663391938],\n",
       " [0.071, 0.07032194621771938, 0.010140880147887693],\n",
       " [0.06999999999999999, 0.06967173395844173, 0.010791092407165345]]"
      ]
     },
     "execution_count": 107,
     "metadata": {},
     "output_type": "execute_result"
    }
   ],
   "source": [
    "decreasing = sensitivity_analysis(10, 0.08, -0.001)\n",
    "decreasing\n",
    "#sensitivity_decreasing = decreasing[0]\n",
    "#prediction_size_decreasing = decreasing[1]"
   ]
  },
  {
   "cell_type": "code",
   "execution_count": 168,
   "metadata": {},
   "outputs": [],
   "source": [
    "test_spectrum = predict_spectrum_from_size_Au_NS(0.079)\n",
    "test_size = predict_size_from_spectrum(test_spectrum)"
   ]
  },
  {
   "cell_type": "code",
   "execution_count": 169,
   "metadata": {},
   "outputs": [
    {
     "data": {
      "text/plain": [
       "0.08046282636560707"
      ]
     },
     "execution_count": 169,
     "metadata": {},
     "output_type": "execute_result"
    }
   ],
   "source": [
    "test_spectrum_2 = predict_spectrum_from_size_Au_NS(0.08)"
   ]
  },
  {
   "cell_type": "code",
   "execution_count": 170,
   "metadata": {},
   "outputs": [
    {
     "data": {
      "text/plain": [
       "0.07741210721507392"
      ]
     },
     "execution_count": 170,
     "metadata": {},
     "output_type": "execute_result"
    }
   ],
   "source": [
    "test_spectrum_3 = predict_spectrum_from_size_Au_NS(0.078)"
   ]
  },
  {
   "cell_type": "code",
   "execution_count": 171,
   "metadata": {},
   "outputs": [
    {
     "data": {
      "text/plain": [
       "0.07540404957308666"
      ]
     },
     "execution_count": 171,
     "metadata": {},
     "output_type": "execute_result"
    }
   ],
   "source": [
    "test_spectrum_4 = predict_spectrum_from_size_Au_NS(0.081)"
   ]
  },
  {
   "cell_type": "code",
   "execution_count": 172,
   "metadata": {},
   "outputs": [],
   "source": [
    "test_spectrum_5 = predict_spectrum_from_size_Au_NS(0.082)\n",
    "test_spectrum_6 = predict_spectrum_from_size_Au_NS(0.07)\n",
    "test_spectrum_7 = predict_spectrum_from_size_Au_NS(0.09)"
   ]
  },
  {
   "cell_type": "code",
   "execution_count": 173,
   "metadata": {},
   "outputs": [
    {
     "data": {
      "text/plain": [
       "<matplotlib.legend.Legend at 0x217311b1cc8>"
      ]
     },
     "execution_count": 173,
     "metadata": {},
     "output_type": "execute_result"
    },
    {
     "data": {
      "image/png": "[encoded data removed]",
      "text/plain": [
       "<Figure size 432x288 with 1 Axes>"
      ]
     },
     "metadata": {
      "needs_background": "light"
     },
     "output_type": "display_data"
    }
   ],
   "source": [
    "plt.plot(test_spectrum_6, color = 'green', linestyle = '--')\n",
    "plt.plot(test_spectrum_3, color = 'purple', linestyle = '--')\n",
    "plt.plot(test_spectrum, color = 'blue', linestyle = '--')\n",
    "plt.plot(test_spectrum_2, color = 'k')\n",
    "plt.plot(test_spectrum_4, color = 'red')\n",
    "plt.plot(test_spectrum_5, color = 'orange')\n",
    "plt.plot(test_spectrum_7, color = 'pink')\n",
    "\n",
    "plt.legend(labels = [\"70 nm\", \"78 nm\", \"79 nm\", \"80 nm\", \"81 nm\", \"82 nm\", \"90 nm\"]) # use list of legend names to create the legend\n"
   ]
  },
  {
   "cell_type": "code",
   "execution_count": 188,
   "metadata": {},
   "outputs": [
    {
     "data": {
      "text/plain": [
       "<matplotlib.legend.Legend at 0x21732236348>"
      ]
     },
     "execution_count": 188,
     "metadata": {},
     "output_type": "execute_result"
    },
    {
     "data": {
      "image/png": "[encoded data removed]",
      "text/plain": [
       "<Figure size 432x288 with 1 Axes>"
      ]
     },
     "metadata": {
      "needs_background": "light"
     },
     "output_type": "display_data"
    }
   ],
   "source": [
    "test_spectrum_5 = predict_spectrum_from_size_Au_NS(0.6)\n",
    "test_spectrum_6 = predict_spectrum_from_size_Au_NS(0.5)\n",
    "test_spectrum_7 = predict_spectrum_from_size_Au_NS(0.4)\n",
    "test_spectrum_70 = predict_spectrum_from_size_Au_NS(0.3)\n",
    "test_spectrum_8 = predict_spectrum_from_size_Au_NS(0.7)\n",
    "test_spectrum_9 = predict_spectrum_from_size_Au_NS(0.8)\n",
    "test_spectrum_10 = predict_spectrum_from_size_Au_NS(0.9)\n",
    "test_spectrum_11 = predict_spectrum_from_size_Au_NS(1)\n",
    "plt.plot(test_spectrum_5, color = 'black')\n",
    "plt.plot(test_spectrum_6, color = 'purple', linestyle = '--')\n",
    "plt.plot(test_spectrum_7, color = 'green', linestyle = '--')\n",
    "plt.plot(test_spectrum_70, color = 'cyan', linestyle = '--')\n",
    "plt.plot(test_spectrum_8, color = 'blue')\n",
    "plt.plot(test_spectrum_9, color = 'red')\n",
    "plt.plot(test_spectrum_10, color = 'orange')\n",
    "plt.legend(labels = [\"600 nm\", \"500nm\", \"400 nm\", \"300 nm\", \"700 nm\", \"800 nm\", \"900 nm\"]) # use list of legend names to create the legend\n"
   ]
  },
  {
   "cell_type": "code",
   "execution_count": 63,
   "metadata": {},
   "outputs": [],
   "source": [
    "#diff = []\n",
    "#for i in range(0, len(test_spectrum)):\n",
    "    #diff.append(np.abs(test_spectrum[i] - test_spectrum_2[i]))\n",
    "#print(diff)"
   ]
  },
  {
   "cell_type": "code",
   "execution_count": 117,
   "metadata": {},
   "outputs": [],
   "source": [
    "decreasing_2 = sensitivity_analysis(100, 0.08, -0.0001)\n",
    "increasing_2 = sensitivity_analysis(100, 0.08, 0.0001)"
   ]
  },
  {
   "cell_type": "code",
   "execution_count": 120,
   "metadata": {},
   "outputs": [
    {
     "data": {
      "text/plain": [
       "[69.99999999999972,\n",
       " 70.09999999999972,\n",
       " 70.19999999999972,\n",
       " 70.29999999999973,\n",
       " 70.39999999999972,\n",
       " 70.49999999999973,\n",
       " 70.59999999999974,\n",
       " 70.69999999999973,\n",
       " 70.79999999999974,\n",
       " 70.89999999999974,\n",
       " 70.99999999999974,\n",
       " 71.09999999999975,\n",
       " 71.19999999999975,\n",
       " 71.29999999999976,\n",
       " 71.39999999999975,\n",
       " 71.49999999999976,\n",
       " 71.59999999999977,\n",
       " 71.69999999999976,\n",
       " 71.79999999999977,\n",
       " 71.89999999999976,\n",
       " 71.99999999999977,\n",
       " 72.09999999999978,\n",
       " 72.19999999999978,\n",
       " 72.29999999999978,\n",
       " 72.39999999999978,\n",
       " 72.49999999999979,\n",
       " 72.5999999999998,\n",
       " 72.69999999999979,\n",
       " 72.7999999999998,\n",
       " 72.89999999999979,\n",
       " 72.9999999999998,\n",
       " 73.09999999999981,\n",
       " 73.1999999999998,\n",
       " 73.29999999999981,\n",
       " 73.3999999999998,\n",
       " 73.49999999999982,\n",
       " 73.59999999999982,\n",
       " 73.69999999999982,\n",
       " 73.79999999999983,\n",
       " 73.89999999999982,\n",
       " 73.99999999999983,\n",
       " 74.09999999999984,\n",
       " 74.19999999999983,\n",
       " 74.29999999999984,\n",
       " 74.39999999999984,\n",
       " 74.49999999999984,\n",
       " 74.59999999999985,\n",
       " 74.69999999999985,\n",
       " 74.79999999999986,\n",
       " 74.89999999999985,\n",
       " 74.99999999999986,\n",
       " 75.09999999999987,\n",
       " 75.19999999999986,\n",
       " 75.29999999999987,\n",
       " 75.39999999999986,\n",
       " 75.49999999999987,\n",
       " 75.59999999999988,\n",
       " 75.69999999999987,\n",
       " 75.79999999999988,\n",
       " 75.89999999999988,\n",
       " 75.99999999999989,\n",
       " 76.0999999999999,\n",
       " 76.19999999999989,\n",
       " 76.2999999999999,\n",
       " 76.39999999999989,\n",
       " 76.4999999999999,\n",
       " 76.59999999999991,\n",
       " 76.6999999999999,\n",
       " 76.79999999999991,\n",
       " 76.8999999999999,\n",
       " 76.99999999999991,\n",
       " 77.09999999999992,\n",
       " 77.19999999999992,\n",
       " 77.29999999999993,\n",
       " 77.39999999999992,\n",
       " 77.49999999999993,\n",
       " 77.59999999999994,\n",
       " 77.69999999999993,\n",
       " 77.79999999999994,\n",
       " 77.89999999999993,\n",
       " 77.99999999999994,\n",
       " 78.09999999999995,\n",
       " 78.19999999999995,\n",
       " 78.29999999999995,\n",
       " 78.39999999999995,\n",
       " 78.49999999999996,\n",
       " 78.59999999999997,\n",
       " 78.69999999999996,\n",
       " 78.79999999999997,\n",
       " 78.89999999999998,\n",
       " 78.99999999999997,\n",
       " 79.09999999999998,\n",
       " 79.19999999999997,\n",
       " 79.29999999999998,\n",
       " 79.39999999999999,\n",
       " 79.49999999999999,\n",
       " 79.6,\n",
       " 79.69999999999999,\n",
       " 79.8,\n",
       " 79.9,\n",
       " 80.0,\n",
       " 80.10000000000001,\n",
       " 80.2,\n",
       " 80.30000000000001,\n",
       " 80.40000000000002,\n",
       " 80.50000000000001,\n",
       " 80.60000000000002,\n",
       " 80.70000000000002,\n",
       " 80.80000000000003,\n",
       " 80.90000000000003,\n",
       " 81.00000000000003,\n",
       " 81.10000000000004,\n",
       " 81.20000000000003,\n",
       " 81.30000000000004,\n",
       " 81.40000000000005,\n",
       " 81.50000000000004,\n",
       " 81.60000000000005,\n",
       " 81.70000000000005,\n",
       " 81.80000000000005,\n",
       " 81.90000000000006,\n",
       " 82.00000000000006,\n",
       " 82.10000000000007,\n",
       " 82.20000000000006,\n",
       " 82.30000000000007,\n",
       " 82.40000000000008,\n",
       " 82.50000000000007,\n",
       " 82.60000000000008,\n",
       " 82.70000000000007,\n",
       " 82.80000000000008,\n",
       " 82.90000000000009,\n",
       " 83.00000000000009,\n",
       " 83.1000000000001,\n",
       " 83.20000000000009,\n",
       " 83.3000000000001,\n",
       " 83.4000000000001,\n",
       " 83.5000000000001,\n",
       " 83.60000000000011,\n",
       " 83.7000000000001,\n",
       " 83.80000000000011,\n",
       " 83.90000000000012,\n",
       " 84.00000000000011,\n",
       " 84.10000000000012,\n",
       " 84.20000000000012,\n",
       " 84.30000000000013,\n",
       " 84.40000000000013,\n",
       " 84.50000000000013,\n",
       " 84.60000000000014,\n",
       " 84.70000000000013,\n",
       " 84.80000000000014,\n",
       " 84.90000000000015,\n",
       " 85.00000000000014,\n",
       " 85.10000000000015,\n",
       " 85.20000000000014,\n",
       " 85.30000000000015,\n",
       " 85.40000000000016,\n",
       " 85.50000000000016,\n",
       " 85.60000000000016,\n",
       " 85.70000000000016,\n",
       " 85.80000000000017,\n",
       " 85.90000000000018,\n",
       " 86.00000000000017,\n",
       " 86.10000000000018,\n",
       " 86.20000000000017,\n",
       " 86.30000000000018,\n",
       " 86.40000000000019,\n",
       " 86.50000000000018,\n",
       " 86.6000000000002,\n",
       " 86.70000000000019,\n",
       " 86.8000000000002,\n",
       " 86.9000000000002,\n",
       " 87.0000000000002,\n",
       " 87.10000000000021,\n",
       " 87.2000000000002,\n",
       " 87.30000000000021,\n",
       " 87.40000000000022,\n",
       " 87.50000000000021,\n",
       " 87.60000000000022,\n",
       " 87.70000000000022,\n",
       " 87.80000000000022,\n",
       " 87.90000000000023,\n",
       " 88.00000000000023,\n",
       " 88.10000000000024,\n",
       " 88.20000000000023,\n",
       " 88.30000000000024,\n",
       " 88.40000000000025,\n",
       " 88.50000000000024,\n",
       " 88.60000000000025,\n",
       " 88.70000000000024,\n",
       " 88.80000000000025,\n",
       " 88.90000000000026,\n",
       " 89.00000000000026,\n",
       " 89.10000000000026,\n",
       " 89.20000000000026,\n",
       " 89.30000000000027,\n",
       " 89.40000000000028,\n",
       " 89.50000000000027,\n",
       " 89.60000000000028,\n",
       " 89.70000000000027,\n",
       " 89.80000000000028,\n",
       " 89.90000000000029,\n",
       " 90.00000000000028]"
      ]
     },
     "execution_count": 120,
     "metadata": {},
     "output_type": "execute_result"
    }
   ],
   "source": [
    "inputted_size_2 = []\n",
    "for i in range(0, len(decreasing_2)-1):\n",
    "    inputted_size_2.append(decreasing_2[100-i][0]*1000)\n",
    "for entry in increasing_2:\n",
    "    inputted_size_2.append(entry[0]*1000)\n",
    "inputted_size_2"
   ]
  },
  {
   "cell_type": "code",
   "execution_count": 122,
   "metadata": {},
   "outputs": [
    {
     "data": {
      "text/plain": [
       "[-10.791092407165346,\n",
       " -10.48388103530122,\n",
       " -10.48388103530122,\n",
       " -10.48388103530122,\n",
       " -10.48388103530122,\n",
       " -10.29817974863241,\n",
       " -10.29817974863241,\n",
       " -10.247031946418641,\n",
       " -10.247031946418641,\n",
       " -10.140880147887692,\n",
       " -10.140880147887692,\n",
       " -10.140880147887692,\n",
       " -10.140880147887692,\n",
       " -9.841399962982722,\n",
       " -9.841399962982722,\n",
       " -9.841399962982722,\n",
       " -9.841399962982722,\n",
       " -9.571031409653013,\n",
       " -9.540278663391938,\n",
       " -9.540278663391938,\n",
       " -9.540278663391938,\n",
       " -8.82565600106501,\n",
       " -8.82565600106501,\n",
       " -8.82565600106501,\n",
       " -8.82565600106501,\n",
       " -8.82565600106501,\n",
       " -9.065969656224567,\n",
       " -9.065969656224567,\n",
       " -9.065969656224567,\n",
       " -9.065969656224567,\n",
       " -9.065969656224567,\n",
       " -9.065969656224567,\n",
       " -9.16130752501007,\n",
       " -9.16130752501007,\n",
       " -9.828527083838523,\n",
       " -10.065068736157812,\n",
       " -10.065068736157812,\n",
       " -10.065068736157812,\n",
       " -9.319213535054368,\n",
       " -8.318137804777137,\n",
       " -7.955535717487402,\n",
       " -7.955535717487402,\n",
       " -7.760581795372937,\n",
       " -7.874176590207643,\n",
       " -7.979935920642708,\n",
       " -7.979935920642708,\n",
       " -7.979935920642708,\n",
       " -7.460531955104321,\n",
       " -7.460531955104321,\n",
       " -7.460531955104321,\n",
       " -7.460531955104321,\n",
       " -6.480907040967515,\n",
       " -6.480907040967515,\n",
       " -6.480907040967515,\n",
       " -6.480907040967515,\n",
       " -5.78654717345288,\n",
       " -5.277919012836266,\n",
       " -5.612403146863524,\n",
       " -5.612403146863524,\n",
       " -5.612403146863524,\n",
       " -6.872123066396771,\n",
       " -6.872123066396771,\n",
       " -5.891027586126738,\n",
       " -5.891027586126738,\n",
       " -5.891027586126738,\n",
       " -6.384265544159912,\n",
       " -6.384265544159912,\n",
       " -6.384265544159912,\n",
       " -6.384265544159912,\n",
       " -4.087502481712829,\n",
       " -4.087502481712829,\n",
       " -4.1146927929470865,\n",
       " -4.1146927929470865,\n",
       " -3.7602550224801328,\n",
       " -3.7602550224801328,\n",
       " -3.7602550224801328,\n",
       " -3.731546142811362,\n",
       " -3.3760020733683698,\n",
       " -3.0507191505331486,\n",
       " -3.0507191505331486,\n",
       " -3.0507191505331486,\n",
       " -3.0507191505331486,\n",
       " -2.1120492312624863,\n",
       " -2.1120492312624863,\n",
       " -2.1120492312624863,\n",
       " -2.1120492312624863,\n",
       " -2.1120492312624863,\n",
       " -3.9395525613113715,\n",
       " -3.9395525613113715,\n",
       " -3.9395525613113715,\n",
       " -3.9395525613113715,\n",
       " -17.755527734098706,\n",
       " -17.755527734098706,\n",
       " -17.755527734098706,\n",
       " -17.755527734098706,\n",
       " -17.755527734098706,\n",
       " -0.23861360251538344,\n",
       " -0.23861360251538344,\n",
       " -0.23861360251538344,\n",
       " -0.23861360251538344,\n",
       " 0.0,\n",
       " 0.0,\n",
       " 0.0,\n",
       " 0.0,\n",
       " 0.0,\n",
       " 1.4267364021627316,\n",
       " 1.4267364021627316,\n",
       " 1.4267364021627316,\n",
       " 1.4267364021627316,\n",
       " 1.4850335251390816,\n",
       " 5.058776792520411,\n",
       " 5.058776792520411,\n",
       " 5.058776792520411,\n",
       " 5.058776792520411,\n",
       " 0.5700985050936386,\n",
       " 0.4453748263263668,\n",
       " 0.4453748263263668,\n",
       " 0.4453748263263668,\n",
       " 0.4453748263263668,\n",
       " 1.4533031770099236,\n",
       " 1.4533031770099236,\n",
       " 1.4738904937750679,\n",
       " 1.4738904937750679,\n",
       " 1.4738904937750679,\n",
       " 2.1034142920481753,\n",
       " 2.1034142920481753,\n",
       " 2.1034142920481753,\n",
       " 2.1034142920481753,\n",
       " 1.9206419399473567,\n",
       " 1.94838588361633,\n",
       " 1.94838588361633,\n",
       " 1.94838588361633,\n",
       " 1.94838588361633,\n",
       " 0.2608203401146536,\n",
       " 0.2608203401146536,\n",
       " 0.2608203401146536,\n",
       " 0.2608203401146536,\n",
       " 0.2608203401146536,\n",
       " 1.8947908768091466,\n",
       " 1.8947908768091466,\n",
       " 1.8947908768091466,\n",
       " 1.8947908768091466,\n",
       " 1.8947908768091466,\n",
       " 3.711001349837262,\n",
       " 3.711001349837262,\n",
       " 3.711001349837262,\n",
       " 3.711001349837262,\n",
       " 3.711001349837262,\n",
       " 4.075213886678405,\n",
       " 4.075213886678405,\n",
       " 4.075213886678405,\n",
       " 4.075213886678405,\n",
       " 4.075213886678405,\n",
       " 4.288622838130488,\n",
       " 4.288622838130488,\n",
       " 4.288622838130488,\n",
       " 4.288622838130488,\n",
       " 4.821202343352315,\n",
       " 5.614198696528405,\n",
       " 5.614198696528405,\n",
       " 5.614198696528405,\n",
       " 5.614198696528405,\n",
       " 5.815941454856172,\n",
       " 5.457496914716864,\n",
       " 5.457496914716864,\n",
       " 5.457496914716864,\n",
       " 5.457496914716864,\n",
       " 5.375682329660708,\n",
       " 5.375682329660708,\n",
       " 5.375682329660708,\n",
       " 5.375682329660708,\n",
       " 5.375682329660708,\n",
       " 5.932897493095488,\n",
       " 5.758897617635067,\n",
       " 6.506247991810349,\n",
       " 6.506247991810349,\n",
       " 6.506247991810349,\n",
       " 6.397779383964491,\n",
       " 6.8172764772607835,\n",
       " 6.676988916432161,\n",
       " 6.676988916432161,\n",
       " 6.676988916432161,\n",
       " 6.676988916432161,\n",
       " 6.993102044438329,\n",
       " 8.32864455484722,\n",
       " 8.356249949192138,\n",
       " 8.419970309476401,\n",
       " 8.419970309476401,\n",
       " 9.82637372502633,\n",
       " 9.304357889959702,\n",
       " 7.6216996390675025,\n",
       " 7.6216996390675025,\n",
       " 10.056520555224616,\n",
       " 9.476307752961752,\n",
       " 9.818336763334948,\n",
       " 9.818336763334948,\n",
       " 9.818336763334948,\n",
       " 9.818336763334948,\n",
       " 9.818336763334948,\n",
       " 9.03669468414528,\n",
       " 9.03669468414528]"
      ]
     },
     "execution_count": 122,
     "metadata": {},
     "output_type": "execute_result"
    }
   ],
   "source": [
    "change_from_original_2 = []\n",
    "for i in range(0, len(decreasing_2)-1):\n",
    "    change_from_original_2.append(decreasing_2[100-i][2]*-1000)\n",
    "for entry in increasing_2:\n",
    "    change_from_original_2.append(entry[2]*1000)\n",
    "change_from_original_2"
   ]
  },
  {
   "cell_type": "code",
   "execution_count": 126,
   "metadata": {},
   "outputs": [
    {
     "data": {
      "text/plain": [
       "[-10.0,\n",
       " -9.9,\n",
       " -9.8,\n",
       " -9.700000000000001,\n",
       " -9.600000000000001,\n",
       " -9.500000000000002,\n",
       " -9.400000000000002,\n",
       " -9.300000000000002,\n",
       " -9.200000000000003,\n",
       " -9.100000000000003,\n",
       " -9.000000000000004,\n",
       " -8.900000000000004,\n",
       " -8.800000000000004,\n",
       " -8.700000000000005,\n",
       " -8.600000000000005,\n",
       " -8.500000000000005,\n",
       " -8.400000000000006,\n",
       " -8.300000000000006,\n",
       " -8.200000000000006,\n",
       " -8.100000000000007,\n",
       " -8.000000000000007,\n",
       " -7.9000000000000075,\n",
       " -7.800000000000008,\n",
       " -7.700000000000008,\n",
       " -7.6000000000000085,\n",
       " -7.500000000000009,\n",
       " -7.400000000000009,\n",
       " -7.30000000000001,\n",
       " -7.20000000000001,\n",
       " -7.10000000000001,\n",
       " -7.000000000000011,\n",
       " -6.900000000000011,\n",
       " -6.800000000000011,\n",
       " -6.700000000000012,\n",
       " -6.600000000000012,\n",
       " -6.500000000000012,\n",
       " -6.400000000000013,\n",
       " -6.300000000000013,\n",
       " -6.2000000000000135,\n",
       " -6.100000000000014,\n",
       " -6.000000000000014,\n",
       " -5.900000000000015,\n",
       " -5.800000000000015,\n",
       " -5.700000000000015,\n",
       " -5.600000000000016,\n",
       " -5.500000000000016,\n",
       " -5.400000000000016,\n",
       " -5.300000000000017,\n",
       " -5.200000000000017,\n",
       " -5.100000000000017,\n",
       " -5.000000000000018,\n",
       " -4.900000000000018,\n",
       " -4.8000000000000185,\n",
       " -4.700000000000019,\n",
       " -4.600000000000019,\n",
       " -4.5000000000000195,\n",
       " -4.40000000000002,\n",
       " -4.30000000000002,\n",
       " -4.200000000000021,\n",
       " -4.100000000000021,\n",
       " -4.000000000000021,\n",
       " -3.9000000000000217,\n",
       " -3.800000000000022,\n",
       " -3.7000000000000224,\n",
       " -3.6000000000000227,\n",
       " -3.500000000000023,\n",
       " -3.4000000000000234,\n",
       " -3.300000000000024,\n",
       " -3.200000000000024,\n",
       " -3.1000000000000245,\n",
       " -3.000000000000025,\n",
       " -2.9000000000000252,\n",
       " -2.8000000000000256,\n",
       " -2.700000000000026,\n",
       " -2.6000000000000263,\n",
       " -2.5000000000000266,\n",
       " -2.400000000000027,\n",
       " -2.3000000000000274,\n",
       " -2.2000000000000277,\n",
       " -2.100000000000028,\n",
       " -2.0000000000000284,\n",
       " -1.9000000000000288,\n",
       " -1.8000000000000291,\n",
       " -1.7000000000000295,\n",
       " -1.6000000000000298,\n",
       " -1.5000000000000302,\n",
       " -1.4000000000000306,\n",
       " -1.300000000000031,\n",
       " -1.2000000000000313,\n",
       " -1.1000000000000316,\n",
       " -1.000000000000032,\n",
       " -0.9000000000000323,\n",
       " -0.8000000000000327,\n",
       " -0.700000000000033,\n",
       " -0.6000000000000334,\n",
       " -0.5000000000000338,\n",
       " -0.4000000000000341,\n",
       " -0.30000000000003446,\n",
       " -0.20000000000003482,\n",
       " -0.10000000000003517,\n",
       " -3.552713678800501e-14,\n",
       " 0.09999999999996412,\n",
       " 0.19999999999996376,\n",
       " 0.2999999999999634,\n",
       " 0.39999999999996305,\n",
       " 0.4999999999999627,\n",
       " 0.5999999999999623,\n",
       " 0.699999999999962,\n",
       " 0.7999999999999616,\n",
       " 0.8999999999999613,\n",
       " 0.9999999999999609,\n",
       " 1.0999999999999606,\n",
       " 1.1999999999999602,\n",
       " 1.2999999999999599,\n",
       " 1.3999999999999595,\n",
       " 1.4999999999999591,\n",
       " 1.5999999999999588,\n",
       " 1.6999999999999584,\n",
       " 1.799999999999958,\n",
       " 1.8999999999999577,\n",
       " 1.9999999999999574,\n",
       " 2.099999999999957,\n",
       " 2.1999999999999567,\n",
       " 2.2999999999999563,\n",
       " 2.399999999999956,\n",
       " 2.4999999999999556,\n",
       " 2.5999999999999552,\n",
       " 2.699999999999955,\n",
       " 2.7999999999999545,\n",
       " 2.899999999999954,\n",
       " 2.999999999999954,\n",
       " 3.0999999999999535,\n",
       " 3.199999999999953,\n",
       " 3.2999999999999527,\n",
       " 3.3999999999999524,\n",
       " 3.499999999999952,\n",
       " 3.5999999999999517,\n",
       " 3.6999999999999513,\n",
       " 3.799999999999951,\n",
       " 3.8999999999999506,\n",
       " 3.9999999999999503,\n",
       " 4.09999999999995,\n",
       " 4.1999999999999496,\n",
       " 4.299999999999949,\n",
       " 4.399999999999949,\n",
       " 4.4999999999999485,\n",
       " 4.599999999999948,\n",
       " 4.699999999999948,\n",
       " 4.799999999999947,\n",
       " 4.899999999999947,\n",
       " 4.999999999999947,\n",
       " 5.099999999999946,\n",
       " 5.199999999999946,\n",
       " 5.299999999999946,\n",
       " 5.399999999999945,\n",
       " 5.499999999999945,\n",
       " 5.599999999999945,\n",
       " 5.699999999999944,\n",
       " 5.799999999999944,\n",
       " 5.8999999999999435,\n",
       " 5.999999999999943,\n",
       " 6.099999999999945,\n",
       " 6.1999999999999424,\n",
       " 6.29999999999994,\n",
       " 6.399999999999942,\n",
       " 6.499999999999943,\n",
       " 6.599999999999941,\n",
       " 6.699999999999939,\n",
       " 6.79999999999994,\n",
       " 6.899999999999942,\n",
       " 6.99999999999994,\n",
       " 7.0999999999999375,\n",
       " 7.199999999999939,\n",
       " 7.29999999999994,\n",
       " 7.399999999999938,\n",
       " 7.499999999999936,\n",
       " 7.5999999999999375,\n",
       " 7.699999999999939,\n",
       " 7.799999999999937,\n",
       " 7.899999999999935,\n",
       " 7.999999999999936,\n",
       " 8.099999999999937,\n",
       " 8.199999999999935,\n",
       " 8.299999999999933,\n",
       " 8.399999999999935,\n",
       " 8.499999999999936,\n",
       " 8.599999999999934,\n",
       " 8.699999999999932,\n",
       " 8.799999999999933,\n",
       " 8.899999999999935,\n",
       " 8.999999999999932,\n",
       " 9.09999999999993,\n",
       " 9.199999999999932,\n",
       " 9.299999999999933,\n",
       " 9.399999999999931,\n",
       " 9.499999999999929,\n",
       " 9.59999999999993,\n",
       " 9.699999999999932,\n",
       " 9.79999999999993,\n",
       " 9.899999999999928,\n",
       " 9.999999999999929]"
      ]
     },
     "execution_count": 126,
     "metadata": {},
     "output_type": "execute_result"
    }
   ],
   "source": [
    "true_difference_2 = list(np.arange(-10,10.1,0.1))"
   ]
  },
  {
   "cell_type": "code",
   "execution_count": 127,
   "metadata": {},
   "outputs": [
    {
     "data": {
      "text/plain": [
       "Text(0.5, 1.0, 'Sensitivity of Au NS Prediction')"
      ]
     },
     "execution_count": 127,
     "metadata": {},
     "output_type": "execute_result"
    },
    {
     "data": {
      "image/png": "[encoded data removed]",
      "text/plain": [
       "<Figure size 432x288 with 1 Axes>"
      ]
     },
     "metadata": {
      "needs_background": "light"
     },
     "output_type": "display_data"
    }
   ],
   "source": [
    "plt.plot(inputted_size_2, change_from_original_2)\n",
    "plt.plot(inputted_size_2, true_difference_2)\n",
    "plt.scatter(80,0, color = 'k')\n",
    "plt.xlabel(\"Size (nm)\")\n",
    "plt.ylabel(\"Change From Original Prediction\")\n",
    "plt.title(\"Sensitivity of Au NS Prediction\")"
   ]
  },
  {
   "cell_type": "code",
   "execution_count": 128,
   "metadata": {},
   "outputs": [],
   "source": [
    "decreasing_3 = sensitivity_analysis(100, 0.1, -0.0001)\n",
    "increasing_3 = sensitivity_analysis(100, 0.1, 0.0001)"
   ]
  },
  {
   "cell_type": "code",
   "execution_count": 129,
   "metadata": {},
   "outputs": [
    {
     "data": {
      "text/plain": [
       "[-3.5941886956440823,\n",
       " -3.2295714831468008,\n",
       " -4.564829496161868,\n",
       " -2.2496742986520406,\n",
       " -0.7913085404416681,\n",
       " -0.7913085404416681,\n",
       " -0.7913085404416681,\n",
       " -0.7913085404416681,\n",
       " -0.7913085404416681,\n",
       " -0.7697027812150203,\n",
       " -0.7697027812150203,\n",
       " -0.7697027812150203,\n",
       " -4.903903731167613,\n",
       " -4.903903731167613,\n",
       " -4.903903731167613,\n",
       " -4.903903731167613,\n",
       " -4.903903731167613,\n",
       " -4.903903731167613,\n",
       " -4.903903731167613,\n",
       " -6.302449784636122,\n",
       " -0.16649277585861766,\n",
       " -0.16649277585861766,\n",
       " -0.16649277585861766,\n",
       " -0.16649277585861766,\n",
       " -0.7367141048030129,\n",
       " -0.7367141048030129,\n",
       " -0.7367141048030129,\n",
       " -0.7367141048030129,\n",
       " -0.7367141048030129,\n",
       " -0.7367141048030129,\n",
       " -0.1089443120251693,\n",
       " -0.1089443120251693,\n",
       " -0.1089443120251693,\n",
       " -0.1089443120251693,\n",
       " -0.1089443120251693,\n",
       " -0.376422997866957,\n",
       " -0.376422997866957,\n",
       " -0.39388027547232474,\n",
       " -0.39388027547232474,\n",
       " -0.39388027547232474,\n",
       " -0.28600868294421933,\n",
       " -0.6721642171463454,\n",
       " -0.6721642171463454,\n",
       " -0.6721642171463454,\n",
       " -0.6721642171463454,\n",
       " -0.6721642171463454,\n",
       " -0.6324534476925825,\n",
       " -0.6324534476925825,\n",
       " -0.6324534476925825,\n",
       " -0.6324534476925825,\n",
       " -1.3292111917863614,\n",
       " -2.1140399936048633,\n",
       " -2.1140399936048633,\n",
       " -2.1140399936048633,\n",
       " -2.1140399936048633,\n",
       " -2.1140399936048633,\n",
       " -2.1140399936048633,\n",
       " -2.222245870337494,\n",
       " -2.222245870337494,\n",
       " -2.222245870337494,\n",
       " -2.222245870337494,\n",
       " -2.222245870337494,\n",
       " -2.613366883677623,\n",
       " -2.972003108286353,\n",
       " -3.0085480586564266,\n",
       " -3.0085480586564266,\n",
       " -3.0085480586564266,\n",
       " -3.0085480586564266,\n",
       " -1.0926092157619167,\n",
       " -1.0926092157619167,\n",
       " -2.943729327931549,\n",
       " -2.943729327931549,\n",
       " -2.943729327931549,\n",
       " -1.7528671753186953,\n",
       " -2.7507287937922618,\n",
       " -2.7507287937922618,\n",
       " -1.7824499004862742,\n",
       " -1.8415475795396512,\n",
       " -1.6734864444370445,\n",
       " -1.6734864444370445,\n",
       " -1.6734864444370445,\n",
       " -1.6734864444370445,\n",
       " -3.8702128083181324,\n",
       " -3.8702128083181324,\n",
       " -3.8702128083181324,\n",
       " -4.175293655070467,\n",
       " -3.8148786888811124,\n",
       " -3.8148786888811124,\n",
       " -3.8148786888811124,\n",
       " -3.8148786888811124,\n",
       " -4.175293655070467,\n",
       " -3.8148786888811124,\n",
       " -3.821782059357459,\n",
       " -3.821782059357459,\n",
       " -3.821782059357459,\n",
       " -3.821782059357459,\n",
       " -3.654984531917385,\n",
       " -2.5605226188026715,\n",
       " -2.5605226188026715,\n",
       " -0.0,\n",
       " 0.0,\n",
       " 0.0,\n",
       " 5.418943171346252,\n",
       " 5.418943171346252,\n",
       " 5.418943171346252,\n",
       " 5.418943171346252,\n",
       " 5.418943171346252,\n",
       " 5.418943171346252,\n",
       " 4.856715293648395,\n",
       " 6.835934091194443,\n",
       " 6.559838705227569,\n",
       " 6.559838705227569,\n",
       " 6.559838705227569,\n",
       " 6.411224259870673,\n",
       " 4.964510070028558,\n",
       " 4.964510070028558,\n",
       " 6.253681654042928,\n",
       " 6.253681654042928,\n",
       " 6.253681654042928,\n",
       " 6.253681654042928,\n",
       " 6.253681654042928,\n",
       " 6.253681654042928,\n",
       " 6.253681654042928,\n",
       " 6.253681654042928,\n",
       " 6.253681654042928,\n",
       " 6.253681654042928,\n",
       " 6.253681654042928,\n",
       " 6.253681654042928,\n",
       " 7.120213063738251,\n",
       " 7.120213063738251,\n",
       " 7.120213063738251,\n",
       " 9.7375390020059,\n",
       " 9.72219334999022,\n",
       " 9.72219334999022,\n",
       " 9.72219334999022,\n",
       " 9.72219334999022,\n",
       " 9.72219334999022,\n",
       " 9.69771686466915,\n",
       " 9.69771686466915,\n",
       " 9.69771686466915,\n",
       " 9.69771686466915,\n",
       " 9.69771686466915,\n",
       " 9.69771686466915,\n",
       " 11.287669729169684,\n",
       " 11.287669729169684,\n",
       " 11.287669729169684,\n",
       " 11.155640471296177,\n",
       " 11.155640471296177,\n",
       " 9.748410816112358,\n",
       " 9.748410816112358,\n",
       " 9.748410816112358,\n",
       " 6.543692001800883,\n",
       " 6.543692001800883,\n",
       " 7.683937589157905,\n",
       " 7.683937589157905,\n",
       " 7.683937589157905,\n",
       " 7.898877281237865,\n",
       " 7.898877281237865,\n",
       " 7.898877281237865,\n",
       " 11.183486524547023,\n",
       " 11.162798310961147,\n",
       " 11.162798310961147,\n",
       " 11.162798310961147,\n",
       " 11.162798310961147,\n",
       " 11.162798310961147,\n",
       " 11.162798310961147,\n",
       " 13.115271977910417,\n",
       " 13.261919635614698,\n",
       " 9.874232957330628,\n",
       " 9.874232957330628,\n",
       " 9.874232957330628,\n",
       " 9.874232957330628,\n",
       " 9.874232957330628,\n",
       " 9.88793876466873,\n",
       " 9.88793876466873,\n",
       " 9.88793876466873,\n",
       " 9.88793876466873,\n",
       " 9.88793876466873,\n",
       " 12.922819326728272,\n",
       " 12.258660897237192,\n",
       " 15.371696588181202,\n",
       " 15.371696588181202,\n",
       " 15.448499418908899,\n",
       " 15.448499418908899,\n",
       " 15.448499418908899,\n",
       " 16.06432806334604,\n",
       " 16.06432806334604,\n",
       " 16.06432806334604,\n",
       " 16.06432806334604,\n",
       " 16.06432806334604,\n",
       " 16.06432806334604,\n",
       " 16.06432806334604,\n",
       " 16.13986806896646,\n",
       " 17.4198188043668,\n",
       " 16.898464216876725,\n",
       " 16.898464216876725,\n",
       " 16.898464216876725,\n",
       " 16.898464216876725,\n",
       " 16.898464216876725,\n",
       " 16.898464216876725,\n",
       " 16.898464216876725]"
      ]
     },
     "execution_count": 129,
     "metadata": {},
     "output_type": "execute_result"
    }
   ],
   "source": [
    "inputted_size_3 = []\n",
    "for i in range(0, len(decreasing_3)-1):\n",
    "    inputted_size_3.append(decreasing_3[100-i][0]*1000)\n",
    "for entry in increasing_3:\n",
    "    inputted_size_3.append(entry[0]*1000)\n",
    "inputted_size_3\n",
    "\n",
    "change_from_original_3 = []\n",
    "for i in range(0, len(decreasing_3)-1):\n",
    "    change_from_original_3.append(decreasing_3[100-i][2]*-1000)\n",
    "for entry in increasing_3:\n",
    "    change_from_original_3.append(entry[2]*1000)\n",
    "change_from_original_3"
   ]
  },
  {
   "cell_type": "code",
   "execution_count": 131,
   "metadata": {},
   "outputs": [
    {
     "data": {
      "text/plain": [
       "Text(0.5, 1.0, 'Sensitivity of Au NS Prediction')"
      ]
     },
     "execution_count": 131,
     "metadata": {},
     "output_type": "execute_result"
    },
    {
     "data": {
      "image/png": "[encoded data removed]",
      "text/plain": [
       "<Figure size 432x288 with 1 Axes>"
      ]
     },
     "metadata": {
      "needs_background": "light"
     },
     "output_type": "display_data"
    }
   ],
   "source": [
    "plt.plot(inputted_size_3, change_from_original_3)\n",
    "plt.plot(inputted_size_3, true_difference_2)\n",
    "plt.scatter(100,0, color = 'k')\n",
    "plt.xlabel(\"Size (nm)\")\n",
    "plt.ylabel(\"Change From Original Prediction\")\n",
    "plt.title(\"Sensitivity of Au NS Prediction\")"
   ]
  },
  {
   "cell_type": "code",
   "execution_count": 135,
   "metadata": {},
   "outputs": [],
   "source": [
    "decreasing_4 = sensitivity_analysis(100, 0.6, -0.005)\n",
    "increasing_4 = sensitivity_analysis(100, 0.6, 0.005)"
   ]
  },
  {
   "cell_type": "code",
   "execution_count": 138,
   "metadata": {},
   "outputs": [],
   "source": [
    "inputted_size_4 = []\n",
    "for i in range(0, len(decreasing_4)-1):\n",
    "    inputted_size_4.append(decreasing_4[100-i][0]*1000)\n",
    "for entry in increasing_4:\n",
    "    inputted_size_4.append(entry[0]*1000)\n",
    "\n",
    "change_from_original_4 = []\n",
    "for i in range(0, len(decreasing_4)-1):\n",
    "    change_from_original_4.append(decreasing_4[100-i][2]*-1000)\n",
    "for entry in increasing_4:\n",
    "    change_from_original_4.append(entry[2]*1000)"
   ]
  },
  {
   "cell_type": "code",
   "execution_count": 146,
   "metadata": {},
   "outputs": [
    {
     "data": {
      "text/plain": [
       "array([-500, -495, -490, -485, -480, -475, -470, -465, -460, -455, -450,\n",
       "       -445, -440, -435, -430, -425, -420, -415, -410, -405, -400, -395,\n",
       "       -390, -385, -380, -375, -370, -365, -360, -355, -350, -345, -340,\n",
       "       -335, -330, -325, -320, -315, -310, -305, -300, -295, -290, -285,\n",
       "       -280, -275, -270, -265, -260, -255, -250, -245, -240, -235, -230,\n",
       "       -225, -220, -215, -210, -205, -200, -195, -190, -185, -180, -175,\n",
       "       -170, -165, -160, -155, -150, -145, -140, -135, -130, -125, -120,\n",
       "       -115, -110, -105, -100,  -95,  -90,  -85,  -80,  -75,  -70,  -65,\n",
       "        -60,  -55,  -50,  -45,  -40,  -35,  -30,  -25,  -20,  -15,  -10,\n",
       "         -5,    0,    5,   10,   15,   20,   25,   30,   35,   40,   45,\n",
       "         50,   55,   60,   65,   70,   75,   80,   85,   90,   95,  100,\n",
       "        105,  110,  115,  120,  125,  130,  135,  140,  145,  150,  155,\n",
       "        160,  165,  170,  175,  180,  185,  190,  195,  200,  205,  210,\n",
       "        215,  220,  225,  230,  235,  240,  245,  250,  255,  260,  265,\n",
       "        270,  275,  280,  285,  290,  295,  300,  305,  310,  315,  320,\n",
       "        325,  330,  335,  340,  345,  350,  355,  360,  365,  370,  375,\n",
       "        380,  385,  390,  395,  400,  405,  410,  415,  420,  425,  430,\n",
       "        435,  440,  445,  450,  455,  460,  465,  470,  475,  480,  485,\n",
       "        490,  495,  500])"
      ]
     },
     "execution_count": 146,
     "metadata": {},
     "output_type": "execute_result"
    }
   ],
   "source": [
    "true_difference_4 = np.arange(-500,505,5)\n",
    "true_difference_4"
   ]
  },
  {
   "cell_type": "code",
   "execution_count": 147,
   "metadata": {},
   "outputs": [
    {
     "data": {
      "text/plain": [
       "Text(0.5, 1.0, 'Sensitivity of Au NS Prediction')"
      ]
     },
     "execution_count": 147,
     "metadata": {},
     "output_type": "execute_result"
    },
    {
     "data": {
      "image/png": "[encoded data removed]",
      "text/plain": [
       "<Figure size 432x288 with 1 Axes>"
      ]
     },
     "metadata": {
      "needs_background": "light"
     },
     "output_type": "display_data"
    }
   ],
   "source": [
    "plt.plot(inputted_size_4, change_from_original_4)\n",
    "plt.plot(inputted_size_4, true_difference_4)\n",
    "plt.scatter(600,0, color = 'k')\n",
    "plt.xlabel(\"Size (nm)\")\n",
    "plt.ylabel(\"Change From Original Prediction\")\n",
    "plt.title(\"Sensitivity of Au NS Prediction\")"
   ]
  },
  {
   "cell_type": "code",
   "execution_count": null,
   "metadata": {},
   "outputs": [],
   "source": []
  }
 ],
 "metadata": {
  "kernelspec": {
   "display_name": "Python 3",
   "language": "python",
   "name": "python3"
  },
  "language_info": {
   "codemirror_mode": {
    "name": "ipython",
    "version": 3
   },
   "file_extension": ".py",
   "mimetype": "text/x-python",
   "name": "python",
   "nbconvert_exporter": "python",
   "pygments_lexer": "ipython3",
   "version": "3.7.7"
  }
 },
 "nbformat": 4,
 "nbformat_minor": 4
}
